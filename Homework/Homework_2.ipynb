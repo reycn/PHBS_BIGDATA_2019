{
 "cells": [
  {
   "cell_type": "markdown",
   "metadata": {},
   "source": [
    "# Homework 2: Climate Change (not done yet)"
   ]
  },
  {
   "cell_type": "markdown",
   "metadata": {},
   "source": [
    "TOC"
   ]
  },
  {
   "cell_type": "markdown",
   "metadata": {},
   "source": [
    "<details>There have been many studies documenting that the average global temperature has been increasing over the last century. The consequences of a continued rise in global temperature will be dire. Rising sea levels and an increased frequency of extreme weather events will affect billions of people.  \n",
    "  \n",
    "In this problem, you will attempt to study the relationship between average global temperature and several other factors. The file climate_change_1.csv contains climate data from May 1983 to December 2008. The available variables include:\n",
    "    \n",
    "`Year`: the observation year.  \n",
    "\n",
    "`Month`: the observation month.   \n",
    "\n",
    "`Temp`: the difference in degrees Celsius between the average global temperature in that period and a reference value. This data comes from the [Climatic Research Unit at the University of East Anglia](https://crudata.uea.ac.uk/cru/data/temperature/) .  \n",
    "`CO2`, `N2O`, `CH4`, `CFC.11`, `CFC.12`: atmospheric concentrations of carbon dioxide ($CO_2$), nitrous oxide ($N_2O$), methane ($CH_4$), trichlorofluoromethane ($CCl_3F$commonly referred to as $CFC-11$) and dichlorodifluoromethane ($CCl_2F_2$; commonly referred to as $CFC-12$), respectively. This data comes from the [ESRL/NOAA Global Monitoring Division](http://www.esrl.noaa.gov/gmd/ccgg/data-products.html).  \n",
    "\n",
    "`CO2`, `N2O` and `CH4` are expressed in ppmv (parts per million by volume -- i.e., *397 ppmv of CO2 means that CO2 constitutes 397 millionths of the total volume of the atmosphere*)  \n",
    "\n",
    "`CFC.11` and `CFC.12` are expressed in ppbv (parts per billion by volume).   \n",
    "`Aerosols`: the mean stratospheric aerosol optical depth at 550 nm. This variable is linked to volcanoes, as volcanic eruptions result in new particles being added to the atmosphere, which affect how much of the sun's energy is reflected back into space. This data is from the [Godard Institute for Space Studies at NASA](https://data.giss.nasa.gov/modelforce/strataer/).  \n",
    "\n",
    "`TSI`: the total solar irradiance (TSI) in W/m2 (the rate at which the sun's energy is deposited per unit area). Due to sunspots and other solar phenomena, the amount of energy that is given off by the sun varies substantially with time. This data is from the [SOLARIS-HEPPA project website](https://solarisheppa.geomar.de/solarisheppa/cmip5).  \n",
    "\n",
    "`MEI`: multivariate El Nino Southern Oscillation index (MEI), a measure of the strength of the [El Nino/La Nina-Southern Oscillation](http://en.wikipedia.org/wiki/El_nino) (a weather effect in the Pacific Ocean that affects global temperatures). This data comes from the [ESRL/NOAA Physical Sciences Division](http://www.esrl.noaa.gov/psd/enso/mei/table.html).</details>"
   ]
  },
  {
   "cell_type": "markdown",
   "metadata": {},
   "source": [
    "___"
   ]
  },
  {
   "cell_type": "markdown",
   "metadata": {
    "toc-hr-collapsed": false
   },
   "source": [
    "## Preparation"
   ]
  },
  {
   "cell_type": "markdown",
   "metadata": {},
   "source": [
    "### Import data"
   ]
  },
  {
   "cell_type": "code",
   "execution_count": 1,
   "metadata": {},
   "outputs": [],
   "source": [
    "import pandas as pd\n",
    "df1 = pd.read_csv('./data/climate_change_1.csv')\n",
    "df2 = pd.read_csv('./data/climate_change_2.csv')"
   ]
  },
  {
   "cell_type": "markdown",
   "metadata": {
    "toc-hr-collapsed": false
   },
   "source": [
    "### Exploration and cleaning"
   ]
  },
  {
   "cell_type": "markdown",
   "metadata": {},
   "source": [
    "#### Data structure"
   ]
  },
  {
   "cell_type": "code",
   "execution_count": 2,
   "metadata": {},
   "outputs": [
    {
     "data": {
      "text/html": [
       "<div>\n",
       "<style scoped>\n",
       "    .dataframe tbody tr th:only-of-type {\n",
       "        vertical-align: middle;\n",
       "    }\n",
       "\n",
       "    .dataframe tbody tr th {\n",
       "        vertical-align: top;\n",
       "    }\n",
       "\n",
       "    .dataframe thead th {\n",
       "        text-align: right;\n",
       "    }\n",
       "</style>\n",
       "<table border=\"1\" class=\"dataframe\">\n",
       "  <thead>\n",
       "    <tr style=\"text-align: right;\">\n",
       "      <th></th>\n",
       "      <th>Year</th>\n",
       "      <th>Month</th>\n",
       "      <th>MEI</th>\n",
       "      <th>CO2</th>\n",
       "      <th>CH4</th>\n",
       "      <th>N2O</th>\n",
       "      <th>CFC-11</th>\n",
       "      <th>CFC-12</th>\n",
       "      <th>TSI</th>\n",
       "      <th>Aerosols</th>\n",
       "      <th>Temp</th>\n",
       "    </tr>\n",
       "  </thead>\n",
       "  <tbody>\n",
       "    <tr>\n",
       "      <td>0</td>\n",
       "      <td>1983</td>\n",
       "      <td>5</td>\n",
       "      <td>3.0</td>\n",
       "      <td>346.0</td>\n",
       "      <td>1639.0</td>\n",
       "      <td>304.0</td>\n",
       "      <td>191.0</td>\n",
       "      <td>350.0</td>\n",
       "      <td>1366.0</td>\n",
       "      <td>0.0</td>\n",
       "      <td>0.0</td>\n",
       "    </tr>\n",
       "    <tr>\n",
       "      <td>1</td>\n",
       "      <td>1983</td>\n",
       "      <td>6</td>\n",
       "      <td>2.0</td>\n",
       "      <td>346.0</td>\n",
       "      <td>1634.0</td>\n",
       "      <td>304.0</td>\n",
       "      <td>192.0</td>\n",
       "      <td>352.0</td>\n",
       "      <td>1366.0</td>\n",
       "      <td>0.0</td>\n",
       "      <td>0.0</td>\n",
       "    </tr>\n",
       "    <tr>\n",
       "      <td>2</td>\n",
       "      <td>1983</td>\n",
       "      <td>7</td>\n",
       "      <td>2.0</td>\n",
       "      <td>344.0</td>\n",
       "      <td>1633.0</td>\n",
       "      <td>304.0</td>\n",
       "      <td>193.0</td>\n",
       "      <td>354.0</td>\n",
       "      <td>1366.0</td>\n",
       "      <td>0.0</td>\n",
       "      <td>0.0</td>\n",
       "    </tr>\n",
       "    <tr>\n",
       "      <td>3</td>\n",
       "      <td>1983</td>\n",
       "      <td>8</td>\n",
       "      <td>1.0</td>\n",
       "      <td>342.0</td>\n",
       "      <td>1631.0</td>\n",
       "      <td>304.0</td>\n",
       "      <td>194.0</td>\n",
       "      <td>356.0</td>\n",
       "      <td>1366.0</td>\n",
       "      <td>0.0</td>\n",
       "      <td>0.0</td>\n",
       "    </tr>\n",
       "    <tr>\n",
       "      <td>4</td>\n",
       "      <td>1983</td>\n",
       "      <td>9</td>\n",
       "      <td>0.0</td>\n",
       "      <td>340.0</td>\n",
       "      <td>1648.0</td>\n",
       "      <td>304.0</td>\n",
       "      <td>194.0</td>\n",
       "      <td>357.0</td>\n",
       "      <td>1366.0</td>\n",
       "      <td>0.0</td>\n",
       "      <td>0.0</td>\n",
       "    </tr>\n",
       "  </tbody>\n",
       "</table>\n",
       "</div>"
      ],
      "text/plain": [
       "   Year  Month  MEI    CO2     CH4    N2O  CFC-11  CFC-12     TSI  Aerosols  \\\n",
       "0  1983      5  3.0  346.0  1639.0  304.0   191.0   350.0  1366.0       0.0   \n",
       "1  1983      6  2.0  346.0  1634.0  304.0   192.0   352.0  1366.0       0.0   \n",
       "2  1983      7  2.0  344.0  1633.0  304.0   193.0   354.0  1366.0       0.0   \n",
       "3  1983      8  1.0  342.0  1631.0  304.0   194.0   356.0  1366.0       0.0   \n",
       "4  1983      9  0.0  340.0  1648.0  304.0   194.0   357.0  1366.0       0.0   \n",
       "\n",
       "   Temp  \n",
       "0   0.0  \n",
       "1   0.0  \n",
       "2   0.0  \n",
       "3   0.0  \n",
       "4   0.0  "
      ]
     },
     "execution_count": 2,
     "metadata": {},
     "output_type": "execute_result"
    }
   ],
   "source": [
    "df1.head().round()"
   ]
  },
  {
   "cell_type": "code",
   "execution_count": 3,
   "metadata": {},
   "outputs": [
    {
     "data": {
      "text/html": [
       "<div>\n",
       "<style scoped>\n",
       "    .dataframe tbody tr th:only-of-type {\n",
       "        vertical-align: middle;\n",
       "    }\n",
       "\n",
       "    .dataframe tbody tr th {\n",
       "        vertical-align: top;\n",
       "    }\n",
       "\n",
       "    .dataframe thead th {\n",
       "        text-align: right;\n",
       "    }\n",
       "</style>\n",
       "<table border=\"1\" class=\"dataframe\">\n",
       "  <thead>\n",
       "    <tr style=\"text-align: right;\">\n",
       "      <th></th>\n",
       "      <th>Year</th>\n",
       "      <th>Month</th>\n",
       "      <th>MEI</th>\n",
       "      <th>CO2</th>\n",
       "      <th>CH4</th>\n",
       "      <th>N2O</th>\n",
       "      <th>CFC-11</th>\n",
       "      <th>CFC-12</th>\n",
       "      <th>TSI</th>\n",
       "      <th>Aerosols</th>\n",
       "      <th>NO</th>\n",
       "      <th>Temp</th>\n",
       "    </tr>\n",
       "  </thead>\n",
       "  <tbody>\n",
       "    <tr>\n",
       "      <td>0</td>\n",
       "      <td>1983</td>\n",
       "      <td>5</td>\n",
       "      <td>2.56</td>\n",
       "      <td>345.96</td>\n",
       "      <td>1638.59</td>\n",
       "      <td>303.68</td>\n",
       "      <td>191.32</td>\n",
       "      <td>350.11</td>\n",
       "      <td>1366.10</td>\n",
       "      <td>0.09</td>\n",
       "      <td>2.64</td>\n",
       "      <td>0.11</td>\n",
       "    </tr>\n",
       "    <tr>\n",
       "      <td>1</td>\n",
       "      <td>1983</td>\n",
       "      <td>6</td>\n",
       "      <td>2.17</td>\n",
       "      <td>345.52</td>\n",
       "      <td>1633.71</td>\n",
       "      <td>303.75</td>\n",
       "      <td>192.06</td>\n",
       "      <td>351.85</td>\n",
       "      <td>1366.12</td>\n",
       "      <td>0.08</td>\n",
       "      <td>2.63</td>\n",
       "      <td>0.12</td>\n",
       "    </tr>\n",
       "    <tr>\n",
       "      <td>2</td>\n",
       "      <td>1983</td>\n",
       "      <td>7</td>\n",
       "      <td>1.74</td>\n",
       "      <td>344.15</td>\n",
       "      <td>1633.22</td>\n",
       "      <td>303.80</td>\n",
       "      <td>192.82</td>\n",
       "      <td>353.72</td>\n",
       "      <td>1366.28</td>\n",
       "      <td>0.07</td>\n",
       "      <td>2.63</td>\n",
       "      <td>0.14</td>\n",
       "    </tr>\n",
       "    <tr>\n",
       "      <td>3</td>\n",
       "      <td>1983</td>\n",
       "      <td>8</td>\n",
       "      <td>1.13</td>\n",
       "      <td>342.25</td>\n",
       "      <td>1631.35</td>\n",
       "      <td>303.84</td>\n",
       "      <td>193.60</td>\n",
       "      <td>355.63</td>\n",
       "      <td>1366.42</td>\n",
       "      <td>0.07</td>\n",
       "      <td>2.63</td>\n",
       "      <td>0.18</td>\n",
       "    </tr>\n",
       "    <tr>\n",
       "      <td>4</td>\n",
       "      <td>1983</td>\n",
       "      <td>9</td>\n",
       "      <td>0.43</td>\n",
       "      <td>340.17</td>\n",
       "      <td>1648.40</td>\n",
       "      <td>303.90</td>\n",
       "      <td>194.39</td>\n",
       "      <td>357.46</td>\n",
       "      <td>1366.23</td>\n",
       "      <td>0.06</td>\n",
       "      <td>2.65</td>\n",
       "      <td>0.15</td>\n",
       "    </tr>\n",
       "  </tbody>\n",
       "</table>\n",
       "</div>"
      ],
      "text/plain": [
       "   Year  Month   MEI     CO2      CH4     N2O  CFC-11  CFC-12      TSI  \\\n",
       "0  1983      5  2.56  345.96  1638.59  303.68  191.32  350.11  1366.10   \n",
       "1  1983      6  2.17  345.52  1633.71  303.75  192.06  351.85  1366.12   \n",
       "2  1983      7  1.74  344.15  1633.22  303.80  192.82  353.72  1366.28   \n",
       "3  1983      8  1.13  342.25  1631.35  303.84  193.60  355.63  1366.42   \n",
       "4  1983      9  0.43  340.17  1648.40  303.90  194.39  357.46  1366.23   \n",
       "\n",
       "   Aerosols    NO  Temp  \n",
       "0      0.09  2.64  0.11  \n",
       "1      0.08  2.63  0.12  \n",
       "2      0.07  2.63  0.14  \n",
       "3      0.07  2.63  0.18  \n",
       "4      0.06  2.65  0.15  "
      ]
     },
     "execution_count": 3,
     "metadata": {},
     "output_type": "execute_result"
    }
   ],
   "source": [
    "df2.head().round(2)"
   ]
  },
  {
   "cell_type": "markdown",
   "metadata": {},
   "source": [
    "#### Statistics"
   ]
  },
  {
   "cell_type": "markdown",
   "metadata": {},
   "source": [
    "The most significant difference is the variable `NO`. Then explore **basic statistics** with round three:"
   ]
  },
  {
   "cell_type": "code",
   "execution_count": 4,
   "metadata": {},
   "outputs": [
    {
     "data": {
      "text/html": [
       "<div>\n",
       "<style scoped>\n",
       "    .dataframe tbody tr th:only-of-type {\n",
       "        vertical-align: middle;\n",
       "    }\n",
       "\n",
       "    .dataframe tbody tr th {\n",
       "        vertical-align: top;\n",
       "    }\n",
       "\n",
       "    .dataframe thead th {\n",
       "        text-align: right;\n",
       "    }\n",
       "</style>\n",
       "<table border=\"1\" class=\"dataframe\">\n",
       "  <thead>\n",
       "    <tr style=\"text-align: right;\">\n",
       "      <th></th>\n",
       "      <th>Year</th>\n",
       "      <th>Month</th>\n",
       "      <th>MEI</th>\n",
       "      <th>CO2</th>\n",
       "      <th>CH4</th>\n",
       "      <th>N2O</th>\n",
       "      <th>CFC-11</th>\n",
       "      <th>CFC-12</th>\n",
       "      <th>TSI</th>\n",
       "      <th>Aerosols</th>\n",
       "      <th>Temp</th>\n",
       "    </tr>\n",
       "  </thead>\n",
       "  <tbody>\n",
       "    <tr>\n",
       "      <td>count</td>\n",
       "      <td>308.000</td>\n",
       "      <td>308.000</td>\n",
       "      <td>308.000</td>\n",
       "      <td>308.000</td>\n",
       "      <td>308.000</td>\n",
       "      <td>308.000</td>\n",
       "      <td>308.000</td>\n",
       "      <td>308.000</td>\n",
       "      <td>308.000</td>\n",
       "      <td>308.000</td>\n",
       "      <td>308.000</td>\n",
       "    </tr>\n",
       "    <tr>\n",
       "      <td>mean</td>\n",
       "      <td>1995.662</td>\n",
       "      <td>6.552</td>\n",
       "      <td>0.276</td>\n",
       "      <td>363.227</td>\n",
       "      <td>1749.825</td>\n",
       "      <td>312.392</td>\n",
       "      <td>251.973</td>\n",
       "      <td>497.525</td>\n",
       "      <td>1366.071</td>\n",
       "      <td>0.017</td>\n",
       "      <td>0.257</td>\n",
       "    </tr>\n",
       "    <tr>\n",
       "      <td>std</td>\n",
       "      <td>7.423</td>\n",
       "      <td>3.447</td>\n",
       "      <td>0.938</td>\n",
       "      <td>12.647</td>\n",
       "      <td>46.052</td>\n",
       "      <td>5.225</td>\n",
       "      <td>20.232</td>\n",
       "      <td>57.827</td>\n",
       "      <td>0.400</td>\n",
       "      <td>0.029</td>\n",
       "      <td>0.179</td>\n",
       "    </tr>\n",
       "    <tr>\n",
       "      <td>min</td>\n",
       "      <td>1983.000</td>\n",
       "      <td>1.000</td>\n",
       "      <td>-1.635</td>\n",
       "      <td>340.170</td>\n",
       "      <td>1629.890</td>\n",
       "      <td>303.677</td>\n",
       "      <td>191.324</td>\n",
       "      <td>350.113</td>\n",
       "      <td>1365.426</td>\n",
       "      <td>0.002</td>\n",
       "      <td>-0.282</td>\n",
       "    </tr>\n",
       "    <tr>\n",
       "      <td>25%</td>\n",
       "      <td>1989.000</td>\n",
       "      <td>4.000</td>\n",
       "      <td>-0.399</td>\n",
       "      <td>353.020</td>\n",
       "      <td>1722.182</td>\n",
       "      <td>308.112</td>\n",
       "      <td>246.296</td>\n",
       "      <td>472.411</td>\n",
       "      <td>1365.717</td>\n",
       "      <td>0.003</td>\n",
       "      <td>0.122</td>\n",
       "    </tr>\n",
       "    <tr>\n",
       "      <td>50%</td>\n",
       "      <td>1996.000</td>\n",
       "      <td>7.000</td>\n",
       "      <td>0.238</td>\n",
       "      <td>361.735</td>\n",
       "      <td>1764.040</td>\n",
       "      <td>311.507</td>\n",
       "      <td>258.344</td>\n",
       "      <td>528.356</td>\n",
       "      <td>1365.981</td>\n",
       "      <td>0.006</td>\n",
       "      <td>0.248</td>\n",
       "    </tr>\n",
       "    <tr>\n",
       "      <td>75%</td>\n",
       "      <td>2002.000</td>\n",
       "      <td>10.000</td>\n",
       "      <td>0.830</td>\n",
       "      <td>373.455</td>\n",
       "      <td>1786.885</td>\n",
       "      <td>316.979</td>\n",
       "      <td>267.031</td>\n",
       "      <td>540.524</td>\n",
       "      <td>1366.363</td>\n",
       "      <td>0.013</td>\n",
       "      <td>0.407</td>\n",
       "    </tr>\n",
       "    <tr>\n",
       "      <td>max</td>\n",
       "      <td>2008.000</td>\n",
       "      <td>12.000</td>\n",
       "      <td>3.001</td>\n",
       "      <td>388.500</td>\n",
       "      <td>1814.180</td>\n",
       "      <td>322.182</td>\n",
       "      <td>271.494</td>\n",
       "      <td>543.813</td>\n",
       "      <td>1367.316</td>\n",
       "      <td>0.149</td>\n",
       "      <td>0.739</td>\n",
       "    </tr>\n",
       "  </tbody>\n",
       "</table>\n",
       "</div>"
      ],
      "text/plain": [
       "           Year    Month      MEI      CO2       CH4      N2O   CFC-11  \\\n",
       "count   308.000  308.000  308.000  308.000   308.000  308.000  308.000   \n",
       "mean   1995.662    6.552    0.276  363.227  1749.825  312.392  251.973   \n",
       "std       7.423    3.447    0.938   12.647    46.052    5.225   20.232   \n",
       "min    1983.000    1.000   -1.635  340.170  1629.890  303.677  191.324   \n",
       "25%    1989.000    4.000   -0.399  353.020  1722.182  308.112  246.296   \n",
       "50%    1996.000    7.000    0.238  361.735  1764.040  311.507  258.344   \n",
       "75%    2002.000   10.000    0.830  373.455  1786.885  316.979  267.031   \n",
       "max    2008.000   12.000    3.001  388.500  1814.180  322.182  271.494   \n",
       "\n",
       "        CFC-12       TSI  Aerosols     Temp  \n",
       "count  308.000   308.000   308.000  308.000  \n",
       "mean   497.525  1366.071     0.017    0.257  \n",
       "std     57.827     0.400     0.029    0.179  \n",
       "min    350.113  1365.426     0.002   -0.282  \n",
       "25%    472.411  1365.717     0.003    0.122  \n",
       "50%    528.356  1365.981     0.006    0.248  \n",
       "75%    540.524  1366.363     0.013    0.407  \n",
       "max    543.813  1367.316     0.149    0.739  "
      ]
     },
     "execution_count": 4,
     "metadata": {},
     "output_type": "execute_result"
    }
   ],
   "source": [
    "df1.describe().round(3)"
   ]
  },
  {
   "cell_type": "code",
   "execution_count": 5,
   "metadata": {},
   "outputs": [
    {
     "data": {
      "text/html": [
       "<div>\n",
       "<style scoped>\n",
       "    .dataframe tbody tr th:only-of-type {\n",
       "        vertical-align: middle;\n",
       "    }\n",
       "\n",
       "    .dataframe tbody tr th {\n",
       "        vertical-align: top;\n",
       "    }\n",
       "\n",
       "    .dataframe thead th {\n",
       "        text-align: right;\n",
       "    }\n",
       "</style>\n",
       "<table border=\"1\" class=\"dataframe\">\n",
       "  <thead>\n",
       "    <tr style=\"text-align: right;\">\n",
       "      <th></th>\n",
       "      <th>Year</th>\n",
       "      <th>Month</th>\n",
       "      <th>MEI</th>\n",
       "      <th>CO2</th>\n",
       "      <th>CH4</th>\n",
       "      <th>N2O</th>\n",
       "      <th>CFC-11</th>\n",
       "      <th>CFC-12</th>\n",
       "      <th>TSI</th>\n",
       "      <th>Aerosols</th>\n",
       "      <th>NO</th>\n",
       "      <th>Temp</th>\n",
       "    </tr>\n",
       "  </thead>\n",
       "  <tbody>\n",
       "    <tr>\n",
       "      <td>count</td>\n",
       "      <td>308.000</td>\n",
       "      <td>308.000</td>\n",
       "      <td>308.000</td>\n",
       "      <td>308.000</td>\n",
       "      <td>308.000</td>\n",
       "      <td>308.000</td>\n",
       "      <td>308.000</td>\n",
       "      <td>308.000</td>\n",
       "      <td>308.000</td>\n",
       "      <td>308.000</td>\n",
       "      <td>308.000</td>\n",
       "      <td>308.000</td>\n",
       "    </tr>\n",
       "    <tr>\n",
       "      <td>mean</td>\n",
       "      <td>1995.662</td>\n",
       "      <td>6.552</td>\n",
       "      <td>0.276</td>\n",
       "      <td>363.227</td>\n",
       "      <td>1749.825</td>\n",
       "      <td>312.392</td>\n",
       "      <td>251.973</td>\n",
       "      <td>497.525</td>\n",
       "      <td>1366.071</td>\n",
       "      <td>0.017</td>\n",
       "      <td>2.750</td>\n",
       "      <td>0.257</td>\n",
       "    </tr>\n",
       "    <tr>\n",
       "      <td>std</td>\n",
       "      <td>7.423</td>\n",
       "      <td>3.447</td>\n",
       "      <td>0.938</td>\n",
       "      <td>12.647</td>\n",
       "      <td>46.052</td>\n",
       "      <td>5.225</td>\n",
       "      <td>20.232</td>\n",
       "      <td>57.827</td>\n",
       "      <td>0.400</td>\n",
       "      <td>0.029</td>\n",
       "      <td>0.046</td>\n",
       "      <td>0.179</td>\n",
       "    </tr>\n",
       "    <tr>\n",
       "      <td>min</td>\n",
       "      <td>1983.000</td>\n",
       "      <td>1.000</td>\n",
       "      <td>-1.635</td>\n",
       "      <td>340.170</td>\n",
       "      <td>1629.890</td>\n",
       "      <td>303.677</td>\n",
       "      <td>191.324</td>\n",
       "      <td>350.113</td>\n",
       "      <td>1365.426</td>\n",
       "      <td>0.002</td>\n",
       "      <td>2.630</td>\n",
       "      <td>-0.282</td>\n",
       "    </tr>\n",
       "    <tr>\n",
       "      <td>25%</td>\n",
       "      <td>1989.000</td>\n",
       "      <td>4.000</td>\n",
       "      <td>-0.399</td>\n",
       "      <td>353.020</td>\n",
       "      <td>1722.182</td>\n",
       "      <td>308.112</td>\n",
       "      <td>246.296</td>\n",
       "      <td>472.411</td>\n",
       "      <td>1365.717</td>\n",
       "      <td>0.003</td>\n",
       "      <td>2.722</td>\n",
       "      <td>0.122</td>\n",
       "    </tr>\n",
       "    <tr>\n",
       "      <td>50%</td>\n",
       "      <td>1996.000</td>\n",
       "      <td>7.000</td>\n",
       "      <td>0.238</td>\n",
       "      <td>361.735</td>\n",
       "      <td>1764.040</td>\n",
       "      <td>311.507</td>\n",
       "      <td>258.344</td>\n",
       "      <td>528.356</td>\n",
       "      <td>1365.981</td>\n",
       "      <td>0.006</td>\n",
       "      <td>2.764</td>\n",
       "      <td>0.248</td>\n",
       "    </tr>\n",
       "    <tr>\n",
       "      <td>75%</td>\n",
       "      <td>2002.000</td>\n",
       "      <td>10.000</td>\n",
       "      <td>0.830</td>\n",
       "      <td>373.455</td>\n",
       "      <td>1786.885</td>\n",
       "      <td>316.979</td>\n",
       "      <td>267.031</td>\n",
       "      <td>540.524</td>\n",
       "      <td>1366.363</td>\n",
       "      <td>0.013</td>\n",
       "      <td>2.787</td>\n",
       "      <td>0.407</td>\n",
       "    </tr>\n",
       "    <tr>\n",
       "      <td>max</td>\n",
       "      <td>2008.000</td>\n",
       "      <td>12.000</td>\n",
       "      <td>3.001</td>\n",
       "      <td>388.500</td>\n",
       "      <td>1814.180</td>\n",
       "      <td>322.182</td>\n",
       "      <td>271.494</td>\n",
       "      <td>543.813</td>\n",
       "      <td>1367.316</td>\n",
       "      <td>0.149</td>\n",
       "      <td>2.814</td>\n",
       "      <td>0.739</td>\n",
       "    </tr>\n",
       "  </tbody>\n",
       "</table>\n",
       "</div>"
      ],
      "text/plain": [
       "           Year    Month      MEI      CO2       CH4      N2O   CFC-11  \\\n",
       "count   308.000  308.000  308.000  308.000   308.000  308.000  308.000   \n",
       "mean   1995.662    6.552    0.276  363.227  1749.825  312.392  251.973   \n",
       "std       7.423    3.447    0.938   12.647    46.052    5.225   20.232   \n",
       "min    1983.000    1.000   -1.635  340.170  1629.890  303.677  191.324   \n",
       "25%    1989.000    4.000   -0.399  353.020  1722.182  308.112  246.296   \n",
       "50%    1996.000    7.000    0.238  361.735  1764.040  311.507  258.344   \n",
       "75%    2002.000   10.000    0.830  373.455  1786.885  316.979  267.031   \n",
       "max    2008.000   12.000    3.001  388.500  1814.180  322.182  271.494   \n",
       "\n",
       "        CFC-12       TSI  Aerosols       NO     Temp  \n",
       "count  308.000   308.000   308.000  308.000  308.000  \n",
       "mean   497.525  1366.071     0.017    2.750    0.257  \n",
       "std     57.827     0.400     0.029    0.046    0.179  \n",
       "min    350.113  1365.426     0.002    2.630   -0.282  \n",
       "25%    472.411  1365.717     0.003    2.722    0.122  \n",
       "50%    528.356  1365.981     0.006    2.764    0.248  \n",
       "75%    540.524  1366.363     0.013    2.787    0.407  \n",
       "max    543.813  1367.316     0.149    2.814    0.739  "
      ]
     },
     "execution_count": 5,
     "metadata": {},
     "output_type": "execute_result"
    }
   ],
   "source": [
    "df2.describe().round(3)"
   ]
  },
  {
   "cell_type": "markdown",
   "metadata": {},
   "source": [
    "#### Missing data"
   ]
  },
  {
   "cell_type": "code",
   "execution_count": 6,
   "metadata": {},
   "outputs": [
    {
     "name": "stdout",
     "output_type": "stream",
     "text": [
      "<class 'pandas.core.frame.DataFrame'>\n",
      "RangeIndex: 308 entries, 0 to 307\n",
      "Data columns (total 11 columns):\n",
      "Year        308 non-null int64\n",
      "Month       308 non-null int64\n",
      "MEI         308 non-null float64\n",
      "CO2         308 non-null float64\n",
      "CH4         308 non-null float64\n",
      "N2O         308 non-null float64\n",
      "CFC-11      308 non-null float64\n",
      "CFC-12      308 non-null float64\n",
      "TSI         308 non-null float64\n",
      "Aerosols    308 non-null float64\n",
      "Temp        308 non-null float64\n",
      "dtypes: float64(9), int64(2)\n",
      "memory usage: 26.6 KB\n"
     ]
    }
   ],
   "source": [
    "df1.info()"
   ]
  },
  {
   "cell_type": "code",
   "execution_count": 7,
   "metadata": {},
   "outputs": [
    {
     "name": "stdout",
     "output_type": "stream",
     "text": [
      "<class 'pandas.core.frame.DataFrame'>\n",
      "RangeIndex: 308 entries, 0 to 307\n",
      "Data columns (total 12 columns):\n",
      "Year        308 non-null int64\n",
      "Month       308 non-null int64\n",
      "MEI         308 non-null float64\n",
      "CO2         308 non-null float64\n",
      "CH4         308 non-null float64\n",
      "N2O         308 non-null float64\n",
      "CFC-11      308 non-null float64\n",
      "CFC-12      308 non-null float64\n",
      "TSI         308 non-null float64\n",
      "Aerosols    308 non-null float64\n",
      "NO          308 non-null float64\n",
      "Temp        308 non-null float64\n",
      "dtypes: float64(10), int64(2)\n",
      "memory usage: 29.0 KB\n"
     ]
    }
   ],
   "source": [
    "df2.info()"
   ]
  },
  {
   "cell_type": "markdown",
   "metadata": {},
   "source": [
    "No missing data were found, then continue."
   ]
  },
  {
   "cell_type": "markdown",
   "metadata": {},
   "source": [
    "#### Duplication"
   ]
  },
  {
   "cell_type": "code",
   "execution_count": 8,
   "metadata": {},
   "outputs": [
    {
     "name": "stdout",
     "output_type": "stream",
     "text": [
      "Duplicated rows: 0 , then continue.\n"
     ]
    }
   ],
   "source": [
    "print('Duplicated rows:', len(df1[df1.duplicated()]), ', then continue.')"
   ]
  },
  {
   "cell_type": "markdown",
   "metadata": {},
   "source": [
    "#### Outliers"
   ]
  },
  {
   "cell_type": "markdown",
   "metadata": {},
   "source": [
    "Conduct a boxploting to find out outliers in DF1 and DF2:"
   ]
  },
  {
   "cell_type": "code",
   "execution_count": 9,
   "metadata": {},
   "outputs": [],
   "source": [
    "import sys\n",
    "import seaborn as sns\n",
    "import matplotlib.pyplot as plt\n",
    "fig1 = plt.figure(figsize=(12,8), dpi=96)\n",
    "for i in range(1, len(df1.columns) + 1):\n",
    "    fig1.add_subplot(3, 4, i)\n",
    "    df1.iloc[:, [i-1]].boxplot()"
   ]
  },
  {
   "cell_type": "code",
   "execution_count": 10,
   "metadata": {},
   "outputs": [
    {
     "data": {
      "text/plain": [
       "range(1, 13)"
      ]
     },
     "execution_count": 10,
     "metadata": {},
     "output_type": "execute_result"
    }
   ],
   "source": [
    "range(1, len(df2.columns) + 1)"
   ]
  },
  {
   "cell_type": "code",
   "execution_count": 11,
   "metadata": {},
   "outputs": [
    {
     "data": {
      "image/png": "[encoded data removed]",
      "text/plain": [
       "<Figure size 1152x768 with 12 Axes>"
      ]
     },
     "metadata": {
      "needs_background": "light"
     },
     "output_type": "display_data"
    }
   ],
   "source": [
    "fig2 = plt.figure(figsize=(12,8), dpi=96)\n",
    "for i in range(1, len(df2.columns) + 1):\n",
    "    fig2.add_subplot(3, 4, i)\n",
    "    df2.iloc[:, [i-1]].boxplot()"
   ]
  },
  {
   "cell_type": "markdown",
   "metadata": {},
   "source": [
    "Check outliers:"
   ]
  },
  {
   "cell_type": "code",
   "execution_count": 12,
   "metadata": {},
   "outputs": [
    {
     "data": {
      "application/vnd.jupyter.widget-view+json": {
       "model_id": "61f231a2b5904792b7fa44a0007523ac",
       "version_major": 2,
       "version_minor": 0
      },
      "text/plain": [
       "FloatSlider(value=2.9, description='Threshold:', max=3.5, min=2.0, readout_format='.1f')"
      ]
     },
     "metadata": {},
     "output_type": "display_data"
    }
   ],
   "source": [
    "import ipywidgets as widgets\n",
    "z_slider = widgets.FloatSlider(\n",
    "    value=2.9,\n",
    "    min=2,\n",
    "    max=3.5,\n",
    "    step=0.1,\n",
    "    description='Threshold:',\n",
    "    disabled=False,\n",
    "    continuous_update=True,\n",
    "    orientation='horizontal',\n",
    "    readout=True,\n",
    "    readout_format='.1f',\n",
    ")\n",
    "z_slider"
   ]
  },
  {
   "cell_type": "code",
   "execution_count": 13,
   "metadata": {},
   "outputs": [
    {
     "name": "stdout",
     "output_type": "stream",
     "text": [
      "Threshhold: 2.9\n",
      "Index: [171 172]\n",
      "Outlier: [3.0010000000000003, 3.0]\n"
     ]
    }
   ],
   "source": [
    "from scipy import stats\n",
    "import numpy as np\n",
    "z = np.abs(stats.zscore(df1['MEI']))\n",
    "outlier_index = np.where(z > z_slider.value)[0]\n",
    "print('Threshhold:', z_slider.value)\n",
    "print('Index:', outlier_index)\n",
    "print('Outlier:', [df1['MEI'][i] for i in outlier_index])"
   ]
  },
  {
   "cell_type": "markdown",
   "metadata": {},
   "source": [
    "Since rare outliers, ignore at preparation step and continue."
   ]
  },
  {
   "cell_type": "markdown",
   "metadata": {},
   "source": [
    "#### Correlation"
   ]
  },
  {
   "cell_type": "markdown",
   "metadata": {},
   "source": [
    "Find and plot highly correlated variables (r>0.6 in df1, plotting r>0.5):"
   ]
  },
  {
   "cell_type": "code",
   "execution_count": 14,
   "metadata": {},
   "outputs": [
    {
     "data": {
      "text/html": [
       "<div>\n",
       "<style scoped>\n",
       "    .dataframe tbody tr th:only-of-type {\n",
       "        vertical-align: middle;\n",
       "    }\n",
       "\n",
       "    .dataframe tbody tr th {\n",
       "        vertical-align: top;\n",
       "    }\n",
       "\n",
       "    .dataframe thead th {\n",
       "        text-align: right;\n",
       "    }\n",
       "</style>\n",
       "<table border=\"1\" class=\"dataframe\">\n",
       "  <thead>\n",
       "    <tr style=\"text-align: right;\">\n",
       "      <th></th>\n",
       "      <th>Year</th>\n",
       "      <th>Month</th>\n",
       "      <th>MEI</th>\n",
       "      <th>CO2</th>\n",
       "      <th>CH4</th>\n",
       "      <th>N2O</th>\n",
       "      <th>CFC-11</th>\n",
       "      <th>CFC-12</th>\n",
       "      <th>TSI</th>\n",
       "      <th>Aerosols</th>\n",
       "      <th>Temp</th>\n",
       "    </tr>\n",
       "  </thead>\n",
       "  <tbody>\n",
       "    <tr>\n",
       "      <td>Year</td>\n",
       "      <td>1</td>\n",
       "      <td></td>\n",
       "      <td></td>\n",
       "      <td>0.985379</td>\n",
       "      <td>0.910563</td>\n",
       "      <td>0.99485</td>\n",
       "      <td></td>\n",
       "      <td>0.870067</td>\n",
       "      <td></td>\n",
       "      <td></td>\n",
       "      <td>0.755731</td>\n",
       "    </tr>\n",
       "    <tr>\n",
       "      <td>Month</td>\n",
       "      <td></td>\n",
       "      <td>1</td>\n",
       "      <td></td>\n",
       "      <td></td>\n",
       "      <td></td>\n",
       "      <td></td>\n",
       "      <td></td>\n",
       "      <td></td>\n",
       "      <td></td>\n",
       "      <td></td>\n",
       "      <td></td>\n",
       "    </tr>\n",
       "    <tr>\n",
       "      <td>MEI</td>\n",
       "      <td></td>\n",
       "      <td></td>\n",
       "      <td>1</td>\n",
       "      <td></td>\n",
       "      <td></td>\n",
       "      <td></td>\n",
       "      <td></td>\n",
       "      <td></td>\n",
       "      <td></td>\n",
       "      <td></td>\n",
       "      <td></td>\n",
       "    </tr>\n",
       "    <tr>\n",
       "      <td>CO2</td>\n",
       "      <td>0.985379</td>\n",
       "      <td></td>\n",
       "      <td></td>\n",
       "      <td>1</td>\n",
       "      <td>0.872253</td>\n",
       "      <td>0.981135</td>\n",
       "      <td></td>\n",
       "      <td>0.82321</td>\n",
       "      <td></td>\n",
       "      <td></td>\n",
       "      <td>0.748505</td>\n",
       "    </tr>\n",
       "    <tr>\n",
       "      <td>CH4</td>\n",
       "      <td>0.910563</td>\n",
       "      <td></td>\n",
       "      <td></td>\n",
       "      <td>0.872253</td>\n",
       "      <td>1</td>\n",
       "      <td>0.894409</td>\n",
       "      <td>0.713504</td>\n",
       "      <td>0.958237</td>\n",
       "      <td></td>\n",
       "      <td></td>\n",
       "      <td>0.699697</td>\n",
       "    </tr>\n",
       "    <tr>\n",
       "      <td>N2O</td>\n",
       "      <td>0.99485</td>\n",
       "      <td></td>\n",
       "      <td></td>\n",
       "      <td>0.981135</td>\n",
       "      <td>0.894409</td>\n",
       "      <td>1</td>\n",
       "      <td></td>\n",
       "      <td>0.839295</td>\n",
       "      <td></td>\n",
       "      <td></td>\n",
       "      <td>0.743242</td>\n",
       "    </tr>\n",
       "    <tr>\n",
       "      <td>CFC-11</td>\n",
       "      <td></td>\n",
       "      <td></td>\n",
       "      <td></td>\n",
       "      <td></td>\n",
       "      <td>0.713504</td>\n",
       "      <td></td>\n",
       "      <td>1</td>\n",
       "      <td>0.831381</td>\n",
       "      <td></td>\n",
       "      <td></td>\n",
       "      <td></td>\n",
       "    </tr>\n",
       "    <tr>\n",
       "      <td>CFC-12</td>\n",
       "      <td>0.870067</td>\n",
       "      <td></td>\n",
       "      <td></td>\n",
       "      <td>0.82321</td>\n",
       "      <td>0.958237</td>\n",
       "      <td>0.839295</td>\n",
       "      <td>0.831381</td>\n",
       "      <td>1</td>\n",
       "      <td></td>\n",
       "      <td></td>\n",
       "      <td>0.688944</td>\n",
       "    </tr>\n",
       "    <tr>\n",
       "      <td>TSI</td>\n",
       "      <td></td>\n",
       "      <td></td>\n",
       "      <td></td>\n",
       "      <td></td>\n",
       "      <td></td>\n",
       "      <td></td>\n",
       "      <td></td>\n",
       "      <td></td>\n",
       "      <td>1</td>\n",
       "      <td></td>\n",
       "      <td></td>\n",
       "    </tr>\n",
       "    <tr>\n",
       "      <td>Aerosols</td>\n",
       "      <td></td>\n",
       "      <td></td>\n",
       "      <td></td>\n",
       "      <td></td>\n",
       "      <td></td>\n",
       "      <td></td>\n",
       "      <td></td>\n",
       "      <td></td>\n",
       "      <td></td>\n",
       "      <td>1</td>\n",
       "      <td></td>\n",
       "    </tr>\n",
       "    <tr>\n",
       "      <td>Temp</td>\n",
       "      <td>0.755731</td>\n",
       "      <td></td>\n",
       "      <td></td>\n",
       "      <td>0.748505</td>\n",
       "      <td>0.699697</td>\n",
       "      <td>0.743242</td>\n",
       "      <td></td>\n",
       "      <td>0.688944</td>\n",
       "      <td></td>\n",
       "      <td></td>\n",
       "      <td>1</td>\n",
       "    </tr>\n",
       "  </tbody>\n",
       "</table>\n",
       "</div>"
      ],
      "text/plain": [
       "              Year Month MEI       CO2       CH4       N2O    CFC-11  \\\n",
       "Year             1            0.985379  0.910563   0.99485             \n",
       "Month                  1                                               \n",
       "MEI                        1                                           \n",
       "CO2       0.985379                   1  0.872253  0.981135             \n",
       "CH4       0.910563            0.872253         1  0.894409  0.713504   \n",
       "N2O        0.99485            0.981135  0.894409         1             \n",
       "CFC-11                                  0.713504                   1   \n",
       "CFC-12    0.870067             0.82321  0.958237  0.839295  0.831381   \n",
       "TSI                                                                    \n",
       "Aerosols                                                               \n",
       "Temp      0.755731            0.748505  0.699697  0.743242             \n",
       "\n",
       "            CFC-12 TSI Aerosols      Temp  \n",
       "Year      0.870067               0.755731  \n",
       "Month                                      \n",
       "MEI                                        \n",
       "CO2        0.82321               0.748505  \n",
       "CH4       0.958237               0.699697  \n",
       "N2O       0.839295               0.743242  \n",
       "CFC-11    0.831381                         \n",
       "CFC-12           1               0.688944  \n",
       "TSI                  1                     \n",
       "Aerosols                      1            \n",
       "Temp      0.688944                      1  "
      ]
     },
     "execution_count": 14,
     "metadata": {},
     "output_type": "execute_result"
    }
   ],
   "source": [
    "corr = df1.corr()\n",
    "high_corr = corr[np.abs(corr) > 0.5].fillna(0)\n",
    "corr[np.abs(corr) > 0.6].fillna('')"
   ]
  },
  {
   "cell_type": "code",
   "execution_count": 15,
   "metadata": {},
   "outputs": [
    {
     "data": {
      "image/png": "[encoded data removed]",
      "text/plain": [
       "<Figure size 768x512 with 2 Axes>"
      ]
     },
     "metadata": {
      "needs_background": "light"
     },
     "output_type": "display_data"
    }
   ],
   "source": [
    "plt.figure(dpi=128)\n",
    "ax = sns.heatmap(\n",
    "    high_corr, \n",
    "    vmin=-1, vmax=1, center=0,\n",
    "    cmap=sns.diverging_palette(20, 220, n=200),\n",
    "    square=True\n",
    ")\n",
    "ax.set_xticklabels(\n",
    "    ax.get_xticklabels(),\n",
    "    rotation=45,\n",
    "    horizontalalignment='right'\n",
    ");"
   ]
  },
  {
   "cell_type": "markdown",
   "metadata": {},
   "source": [
    "Similarly, correlation in df1:"
   ]
  },
  {
   "cell_type": "code",
   "execution_count": 16,
   "metadata": {},
   "outputs": [
    {
     "data": {
      "text/html": [
       "<div>\n",
       "<style scoped>\n",
       "    .dataframe tbody tr th:only-of-type {\n",
       "        vertical-align: middle;\n",
       "    }\n",
       "\n",
       "    .dataframe tbody tr th {\n",
       "        vertical-align: top;\n",
       "    }\n",
       "\n",
       "    .dataframe thead th {\n",
       "        text-align: right;\n",
       "    }\n",
       "</style>\n",
       "<table border=\"1\" class=\"dataframe\">\n",
       "  <thead>\n",
       "    <tr style=\"text-align: right;\">\n",
       "      <th></th>\n",
       "      <th>Year</th>\n",
       "      <th>Month</th>\n",
       "      <th>MEI</th>\n",
       "      <th>CO2</th>\n",
       "      <th>CH4</th>\n",
       "      <th>N2O</th>\n",
       "      <th>CFC-11</th>\n",
       "      <th>CFC-12</th>\n",
       "      <th>TSI</th>\n",
       "      <th>Aerosols</th>\n",
       "      <th>NO</th>\n",
       "      <th>Temp</th>\n",
       "    </tr>\n",
       "  </thead>\n",
       "  <tbody>\n",
       "    <tr>\n",
       "      <td>Year</td>\n",
       "      <td>1</td>\n",
       "      <td></td>\n",
       "      <td></td>\n",
       "      <td>0.985379</td>\n",
       "      <td>0.910563</td>\n",
       "      <td>0.99485</td>\n",
       "      <td></td>\n",
       "      <td>0.870067</td>\n",
       "      <td></td>\n",
       "      <td></td>\n",
       "      <td>0.910563</td>\n",
       "      <td>0.755731</td>\n",
       "    </tr>\n",
       "    <tr>\n",
       "      <td>Month</td>\n",
       "      <td></td>\n",
       "      <td>1</td>\n",
       "      <td></td>\n",
       "      <td></td>\n",
       "      <td></td>\n",
       "      <td></td>\n",
       "      <td></td>\n",
       "      <td></td>\n",
       "      <td></td>\n",
       "      <td></td>\n",
       "      <td></td>\n",
       "      <td></td>\n",
       "    </tr>\n",
       "    <tr>\n",
       "      <td>MEI</td>\n",
       "      <td></td>\n",
       "      <td></td>\n",
       "      <td>1</td>\n",
       "      <td></td>\n",
       "      <td></td>\n",
       "      <td></td>\n",
       "      <td></td>\n",
       "      <td></td>\n",
       "      <td></td>\n",
       "      <td></td>\n",
       "      <td></td>\n",
       "      <td></td>\n",
       "    </tr>\n",
       "    <tr>\n",
       "      <td>CO2</td>\n",
       "      <td>0.985379</td>\n",
       "      <td></td>\n",
       "      <td></td>\n",
       "      <td>1</td>\n",
       "      <td>0.872253</td>\n",
       "      <td>0.981135</td>\n",
       "      <td></td>\n",
       "      <td>0.82321</td>\n",
       "      <td></td>\n",
       "      <td></td>\n",
       "      <td>0.872253</td>\n",
       "      <td>0.748505</td>\n",
       "    </tr>\n",
       "    <tr>\n",
       "      <td>CH4</td>\n",
       "      <td>0.910563</td>\n",
       "      <td></td>\n",
       "      <td></td>\n",
       "      <td>0.872253</td>\n",
       "      <td>1</td>\n",
       "      <td>0.894409</td>\n",
       "      <td>0.713504</td>\n",
       "      <td>0.958237</td>\n",
       "      <td></td>\n",
       "      <td></td>\n",
       "      <td>1</td>\n",
       "      <td>0.699697</td>\n",
       "    </tr>\n",
       "    <tr>\n",
       "      <td>N2O</td>\n",
       "      <td>0.99485</td>\n",
       "      <td></td>\n",
       "      <td></td>\n",
       "      <td>0.981135</td>\n",
       "      <td>0.894409</td>\n",
       "      <td>1</td>\n",
       "      <td></td>\n",
       "      <td>0.839295</td>\n",
       "      <td></td>\n",
       "      <td></td>\n",
       "      <td>0.894409</td>\n",
       "      <td>0.743242</td>\n",
       "    </tr>\n",
       "    <tr>\n",
       "      <td>CFC-11</td>\n",
       "      <td></td>\n",
       "      <td></td>\n",
       "      <td></td>\n",
       "      <td></td>\n",
       "      <td>0.713504</td>\n",
       "      <td></td>\n",
       "      <td>1</td>\n",
       "      <td>0.831381</td>\n",
       "      <td></td>\n",
       "      <td></td>\n",
       "      <td>0.713504</td>\n",
       "      <td></td>\n",
       "    </tr>\n",
       "    <tr>\n",
       "      <td>CFC-12</td>\n",
       "      <td>0.870067</td>\n",
       "      <td></td>\n",
       "      <td></td>\n",
       "      <td>0.82321</td>\n",
       "      <td>0.958237</td>\n",
       "      <td>0.839295</td>\n",
       "      <td>0.831381</td>\n",
       "      <td>1</td>\n",
       "      <td></td>\n",
       "      <td></td>\n",
       "      <td>0.958237</td>\n",
       "      <td>0.688944</td>\n",
       "    </tr>\n",
       "    <tr>\n",
       "      <td>TSI</td>\n",
       "      <td></td>\n",
       "      <td></td>\n",
       "      <td></td>\n",
       "      <td></td>\n",
       "      <td></td>\n",
       "      <td></td>\n",
       "      <td></td>\n",
       "      <td></td>\n",
       "      <td>1</td>\n",
       "      <td></td>\n",
       "      <td></td>\n",
       "      <td></td>\n",
       "    </tr>\n",
       "    <tr>\n",
       "      <td>Aerosols</td>\n",
       "      <td></td>\n",
       "      <td></td>\n",
       "      <td></td>\n",
       "      <td></td>\n",
       "      <td></td>\n",
       "      <td></td>\n",
       "      <td></td>\n",
       "      <td></td>\n",
       "      <td></td>\n",
       "      <td>1</td>\n",
       "      <td></td>\n",
       "      <td></td>\n",
       "    </tr>\n",
       "    <tr>\n",
       "      <td>NO</td>\n",
       "      <td>0.910563</td>\n",
       "      <td></td>\n",
       "      <td></td>\n",
       "      <td>0.872253</td>\n",
       "      <td>1</td>\n",
       "      <td>0.894409</td>\n",
       "      <td>0.713504</td>\n",
       "      <td>0.958237</td>\n",
       "      <td></td>\n",
       "      <td></td>\n",
       "      <td>1</td>\n",
       "      <td>0.699697</td>\n",
       "    </tr>\n",
       "    <tr>\n",
       "      <td>Temp</td>\n",
       "      <td>0.755731</td>\n",
       "      <td></td>\n",
       "      <td></td>\n",
       "      <td>0.748505</td>\n",
       "      <td>0.699697</td>\n",
       "      <td>0.743242</td>\n",
       "      <td></td>\n",
       "      <td>0.688944</td>\n",
       "      <td></td>\n",
       "      <td></td>\n",
       "      <td>0.699697</td>\n",
       "      <td>1</td>\n",
       "    </tr>\n",
       "  </tbody>\n",
       "</table>\n",
       "</div>"
      ],
      "text/plain": [
       "              Year Month MEI       CO2       CH4       N2O    CFC-11  \\\n",
       "Year             1            0.985379  0.910563   0.99485             \n",
       "Month                  1                                               \n",
       "MEI                        1                                           \n",
       "CO2       0.985379                   1  0.872253  0.981135             \n",
       "CH4       0.910563            0.872253         1  0.894409  0.713504   \n",
       "N2O        0.99485            0.981135  0.894409         1             \n",
       "CFC-11                                  0.713504                   1   \n",
       "CFC-12    0.870067             0.82321  0.958237  0.839295  0.831381   \n",
       "TSI                                                                    \n",
       "Aerosols                                                               \n",
       "NO        0.910563            0.872253         1  0.894409  0.713504   \n",
       "Temp      0.755731            0.748505  0.699697  0.743242             \n",
       "\n",
       "            CFC-12 TSI Aerosols        NO      Temp  \n",
       "Year      0.870067               0.910563  0.755731  \n",
       "Month                                                \n",
       "MEI                                                  \n",
       "CO2        0.82321               0.872253  0.748505  \n",
       "CH4       0.958237                      1  0.699697  \n",
       "N2O       0.839295               0.894409  0.743242  \n",
       "CFC-11    0.831381               0.713504            \n",
       "CFC-12           1               0.958237  0.688944  \n",
       "TSI                  1                               \n",
       "Aerosols                      1                      \n",
       "NO        0.958237                      1  0.699697  \n",
       "Temp      0.688944               0.699697         1  "
      ]
     },
     "execution_count": 16,
     "metadata": {},
     "output_type": "execute_result"
    }
   ],
   "source": [
    "corr = df2.corr()\n",
    "high_corr = corr[np.abs(corr) > 0.5].fillna(0)\n",
    "corr[np.abs(corr) > 0.6].fillna('')"
   ]
  },
  {
   "cell_type": "code",
   "execution_count": 17,
   "metadata": {},
   "outputs": [
    {
     "data": {
      "image/png": "[encoded data removed]",
      "text/plain": [
       "<Figure size 768x512 with 2 Axes>"
      ]
     },
     "metadata": {
      "needs_background": "light"
     },
     "output_type": "display_data"
    }
   ],
   "source": [
    "plt.figure(dpi=128)\n",
    "ax = sns.heatmap(\n",
    "    high_corr, \n",
    "    vmin=-1, vmax=1, center=0,\n",
    "    cmap=sns.diverging_palette(20, 220, n=200),\n",
    "    square=True\n",
    ")\n",
    "ax.set_xticklabels(\n",
    "    ax.get_xticklabels(),\n",
    "    rotation=45,\n",
    "    horizontalalignment='right'\n",
    ");"
   ]
  },
  {
   "cell_type": "markdown",
   "metadata": {},
   "source": [
    "**Potential redundant variables found**, however, now the data is prepared for analyzing."
   ]
  },
  {
   "cell_type": "markdown",
   "metadata": {},
   "source": [
    "____"
   ]
  },
  {
   "cell_type": "markdown",
   "metadata": {},
   "source": [
    "## Problem 1 — First Model\n",
    "*We are interested in how changes in these variables affect future temperatures, as well as how well these variables explain temperature changes so far. To do this, first read the dataset climate_change_1.csv into Python or Matlab*.  \n",
    "  \n",
    "*Then, split the data into a training set, consisting of all the observations up to and including 2006, and a testing set consisting of the remaining years. A training set refers to the data that will be used to build the model, and a testing set refers to the data we will use to test our predictive ability*.  \n",
    "  \n",
    "*After seeing the problem, your classmate Alice immediately argues that we can apply a linear regression model. Though being a little doubtful, you decide to have a try. To solve the linear regression problem, you recall the linear regression has a closed form solution*:  \n",
    "$$\\theta = (X^TX)^{-1}X^TY$$"
   ]
  },
  {
   "cell_type": "markdown",
   "metadata": {},
   "source": [
    "### Read and split"
   ]
  },
  {
   "cell_type": "markdown",
   "metadata": {},
   "source": [
    "Though data have been prepared in section *Data Preparation*, dataset df1 has been imported again here following problem description."
   ]
  },
  {
   "cell_type": "markdown",
   "metadata": {},
   "source": [
    "**Read the dataset**:"
   ]
  },
  {
   "cell_type": "code",
   "execution_count": 18,
   "metadata": {},
   "outputs": [],
   "source": [
    "# loaded in exploration\n",
    "\n",
    "# import pandas as pd\n",
    "# df1 = pd.read_csv('../data/climate_change_1.csv').iloc[:,2:]"
   ]
  },
  {
   "cell_type": "markdown",
   "metadata": {},
   "source": [
    "**Split into training set and testing set**:"
   ]
  },
  {
   "cell_type": "code",
   "execution_count": 19,
   "metadata": {},
   "outputs": [
    {
     "data": {
      "text/html": [
       "<div>\n",
       "<style scoped>\n",
       "    .dataframe tbody tr th:only-of-type {\n",
       "        vertical-align: middle;\n",
       "    }\n",
       "\n",
       "    .dataframe tbody tr th {\n",
       "        vertical-align: top;\n",
       "    }\n",
       "\n",
       "    .dataframe thead th {\n",
       "        text-align: right;\n",
       "    }\n",
       "</style>\n",
       "<table border=\"1\" class=\"dataframe\">\n",
       "  <thead>\n",
       "    <tr style=\"text-align: right;\">\n",
       "      <th></th>\n",
       "      <th>MEI</th>\n",
       "      <th>CO2</th>\n",
       "      <th>CH4</th>\n",
       "      <th>N2O</th>\n",
       "      <th>CFC-11</th>\n",
       "      <th>CFC-12</th>\n",
       "      <th>TSI</th>\n",
       "      <th>Aerosols</th>\n",
       "      <th>Temp</th>\n",
       "    </tr>\n",
       "  </thead>\n",
       "  <tbody>\n",
       "    <tr>\n",
       "      <td>0</td>\n",
       "      <td>2.556</td>\n",
       "      <td>345.96</td>\n",
       "      <td>1638.59</td>\n",
       "      <td>303.677</td>\n",
       "      <td>191.324</td>\n",
       "      <td>350.113</td>\n",
       "      <td>1366.1024</td>\n",
       "      <td>0.0863</td>\n",
       "      <td>0.109</td>\n",
       "    </tr>\n",
       "    <tr>\n",
       "      <td>1</td>\n",
       "      <td>2.167</td>\n",
       "      <td>345.52</td>\n",
       "      <td>1633.71</td>\n",
       "      <td>303.746</td>\n",
       "      <td>192.057</td>\n",
       "      <td>351.848</td>\n",
       "      <td>1366.1208</td>\n",
       "      <td>0.0794</td>\n",
       "      <td>0.118</td>\n",
       "    </tr>\n",
       "    <tr>\n",
       "      <td>282</td>\n",
       "      <td>1.292</td>\n",
       "      <td>380.18</td>\n",
       "      <td>1791.91</td>\n",
       "      <td>320.321</td>\n",
       "      <td>248.605</td>\n",
       "      <td>539.500</td>\n",
       "      <td>1365.7039</td>\n",
       "      <td>0.0049</td>\n",
       "      <td>0.440</td>\n",
       "    </tr>\n",
       "    <tr>\n",
       "      <td>283</td>\n",
       "      <td>0.951</td>\n",
       "      <td>381.79</td>\n",
       "      <td>1795.04</td>\n",
       "      <td>320.451</td>\n",
       "      <td>248.480</td>\n",
       "      <td>539.377</td>\n",
       "      <td>1365.7087</td>\n",
       "      <td>0.0054</td>\n",
       "      <td>0.518</td>\n",
       "    </tr>\n",
       "  </tbody>\n",
       "</table>\n",
       "</div>"
      ],
      "text/plain": [
       "       MEI     CO2      CH4      N2O   CFC-11   CFC-12        TSI  Aerosols  \\\n",
       "0    2.556  345.96  1638.59  303.677  191.324  350.113  1366.1024    0.0863   \n",
       "1    2.167  345.52  1633.71  303.746  192.057  351.848  1366.1208    0.0794   \n",
       "282  1.292  380.18  1791.91  320.321  248.605  539.500  1365.7039    0.0049   \n",
       "283  0.951  381.79  1795.04  320.451  248.480  539.377  1365.7087    0.0054   \n",
       "\n",
       "      Temp  \n",
       "0    0.109  \n",
       "1    0.118  \n",
       "282  0.440  \n",
       "283  0.518  "
      ]
     },
     "execution_count": 19,
     "metadata": {},
     "output_type": "execute_result"
    }
   ],
   "source": [
    "# Df1 trainset\n",
    "df1_train = df1[df1['Year']<=2006].iloc[:,2:]\n",
    "# Check the result\n",
    "df1_train.iloc[[0, 1,-2, -1],:]"
   ]
  },
  {
   "cell_type": "code",
   "execution_count": 20,
   "metadata": {},
   "outputs": [
    {
     "data": {
      "text/html": [
       "<div>\n",
       "<style scoped>\n",
       "    .dataframe tbody tr th:only-of-type {\n",
       "        vertical-align: middle;\n",
       "    }\n",
       "\n",
       "    .dataframe tbody tr th {\n",
       "        vertical-align: top;\n",
       "    }\n",
       "\n",
       "    .dataframe thead th {\n",
       "        text-align: right;\n",
       "    }\n",
       "</style>\n",
       "<table border=\"1\" class=\"dataframe\">\n",
       "  <thead>\n",
       "    <tr style=\"text-align: right;\">\n",
       "      <th></th>\n",
       "      <th>MEI</th>\n",
       "      <th>CO2</th>\n",
       "      <th>CH4</th>\n",
       "      <th>N2O</th>\n",
       "      <th>CFC-11</th>\n",
       "      <th>CFC-12</th>\n",
       "      <th>TSI</th>\n",
       "      <th>Aerosols</th>\n",
       "      <th>Temp</th>\n",
       "    </tr>\n",
       "  </thead>\n",
       "  <tbody>\n",
       "    <tr>\n",
       "      <td>284</td>\n",
       "      <td>0.974</td>\n",
       "      <td>382.93</td>\n",
       "      <td>1799.66</td>\n",
       "      <td>320.561</td>\n",
       "      <td>248.372</td>\n",
       "      <td>539.206</td>\n",
       "      <td>1365.7173</td>\n",
       "      <td>0.0054</td>\n",
       "      <td>0.601</td>\n",
       "    </tr>\n",
       "    <tr>\n",
       "      <td>285</td>\n",
       "      <td>0.510</td>\n",
       "      <td>383.81</td>\n",
       "      <td>1803.08</td>\n",
       "      <td>320.571</td>\n",
       "      <td>248.264</td>\n",
       "      <td>538.973</td>\n",
       "      <td>1365.7145</td>\n",
       "      <td>0.0051</td>\n",
       "      <td>0.498</td>\n",
       "    </tr>\n",
       "    <tr>\n",
       "      <td>306</td>\n",
       "      <td>-0.621</td>\n",
       "      <td>384.13</td>\n",
       "      <td>1812.37</td>\n",
       "      <td>322.013</td>\n",
       "      <td>244.225</td>\n",
       "      <td>534.906</td>\n",
       "      <td>1365.7065</td>\n",
       "      <td>0.0048</td>\n",
       "      <td>0.394</td>\n",
       "    </tr>\n",
       "    <tr>\n",
       "      <td>307</td>\n",
       "      <td>-0.666</td>\n",
       "      <td>385.56</td>\n",
       "      <td>1812.88</td>\n",
       "      <td>322.182</td>\n",
       "      <td>244.204</td>\n",
       "      <td>535.005</td>\n",
       "      <td>1365.6926</td>\n",
       "      <td>0.0046</td>\n",
       "      <td>0.330</td>\n",
       "    </tr>\n",
       "  </tbody>\n",
       "</table>\n",
       "</div>"
      ],
      "text/plain": [
       "       MEI     CO2      CH4      N2O   CFC-11   CFC-12        TSI  Aerosols  \\\n",
       "284  0.974  382.93  1799.66  320.561  248.372  539.206  1365.7173    0.0054   \n",
       "285  0.510  383.81  1803.08  320.571  248.264  538.973  1365.7145    0.0051   \n",
       "306 -0.621  384.13  1812.37  322.013  244.225  534.906  1365.7065    0.0048   \n",
       "307 -0.666  385.56  1812.88  322.182  244.204  535.005  1365.6926    0.0046   \n",
       "\n",
       "      Temp  \n",
       "284  0.601  \n",
       "285  0.498  \n",
       "306  0.394  \n",
       "307  0.330  "
      ]
     },
     "execution_count": 20,
     "metadata": {},
     "output_type": "execute_result"
    }
   ],
   "source": [
    "# Df1 testet\n",
    "df1_test = df1[df1['Year']>2006].iloc[:,2:]\n",
    "# Check the result\n",
    "df1_test.iloc[[0, 1,-2, -1],:]"
   ]
  },
  {
   "cell_type": "markdown",
   "metadata": {},
   "source": [
    "### 1. Closed form function\n",
    "*Implement a function `closed_form_1` that computes this closed form solution given the features X, labels y (using Python or Matlab).*"
   ]
  },
  {
   "cell_type": "markdown",
   "metadata": {},
   "source": [
    "Given a pandas `Dataframe`, the features X is the dataframe excluding taget y, then:"
   ]
  },
  {
   "cell_type": "code",
   "execution_count": 21,
   "metadata": {},
   "outputs": [],
   "source": [
    "import numpy as np  # matrix, vector, and linear algebra support\n",
    "from numpy.linalg import inv  # matrix inversion\n",
    "\n",
    "\n",
    "def closed_form_1(X: np.ndarray, y: np.ndarray) -> np.matrix:\n",
    "    \"\"\"\n",
    "    To calculate OLS theta(s) given X, y in ndarrays.\n",
    "\n",
    "    Parameters: \n",
    "    ----------\n",
    "        X: features, IV.\n",
    "        y: taget variable, DV.\n",
    "    Return:\n",
    "    ----------\n",
    "        theta: coefficients\n",
    "    \"\"\"\n",
    "\n",
    "    X = np.column_stack((np.ones(len(X)), X))  # add x0 = 1 to matrix X\n",
    "    theta = inv(X.T @ X) @ X.T @ y\n",
    "    #theta = theta[1:].reshape((1,10))\n",
    "    return theta\n",
    "\n",
    "\n",
    "def closed_form_df(df: pd.core.frame.DataFrame, column: int = 8) -> np.matrix:\n",
    "    \"\"\"\n",
    "    To calculate OLS theta(s) given data in a DataFrame.\n",
    "    \n",
    "    Parameters: \n",
    "    ----------\n",
    "        df: a DataFrame of data including both IV X and DV y.\n",
    "        column = 8: index number of clomn where DV y lies. The default value is 8.\n",
    "    \n",
    "    Return:\n",
    "    ----------\n",
    "        theta: coefficients\n",
    "    \"\"\"\n",
    "\n",
    "    X = df.drop(df.columns[column], axis=1).to_numpy()  # X: the features\n",
    "    X = np.column_stack((np.ones(len(X)), X))  # add x0 = 1 to matrix X\n",
    "    y = df.iloc[:, [column]].to_numpy(\n",
    "    )  # y: the results, lower case to emphasize the difference\n",
    "    theta = inv(X.T @ X) @ X.T @ y\n",
    "    #theta = theta[1:].reshape((1,10))\n",
    "    return theta"
   ]
  },
  {
   "cell_type": "markdown",
   "metadata": {},
   "source": [
    "Test `closed_form_1` and `closed_form_df` on df1:"
   ]
  },
  {
   "cell_type": "code",
   "execution_count": 22,
   "metadata": {},
   "outputs": [
    {
     "data": {
      "text/html": [
       "<div>\n",
       "<style scoped>\n",
       "    .dataframe tbody tr th:only-of-type {\n",
       "        vertical-align: middle;\n",
       "    }\n",
       "\n",
       "    .dataframe tbody tr th {\n",
       "        vertical-align: top;\n",
       "    }\n",
       "\n",
       "    .dataframe thead th {\n",
       "        text-align: right;\n",
       "    }\n",
       "</style>\n",
       "<table border=\"1\" class=\"dataframe\">\n",
       "  <thead>\n",
       "    <tr style=\"text-align: right;\">\n",
       "      <th></th>\n",
       "      <th>MEI</th>\n",
       "      <th>CO2</th>\n",
       "      <th>CH4</th>\n",
       "      <th>N2O</th>\n",
       "      <th>CFC-11</th>\n",
       "      <th>CFC-12</th>\n",
       "      <th>TSI</th>\n",
       "      <th>Aerosols</th>\n",
       "    </tr>\n",
       "  </thead>\n",
       "  <tbody>\n",
       "    <tr>\n",
       "      <td>0</td>\n",
       "      <td>2.556</td>\n",
       "      <td>345.96</td>\n",
       "      <td>1638.59</td>\n",
       "      <td>303.677</td>\n",
       "      <td>191.324</td>\n",
       "      <td>350.113</td>\n",
       "      <td>1366.1024</td>\n",
       "      <td>0.0863</td>\n",
       "    </tr>\n",
       "    <tr>\n",
       "      <td>1</td>\n",
       "      <td>2.167</td>\n",
       "      <td>345.52</td>\n",
       "      <td>1633.71</td>\n",
       "      <td>303.746</td>\n",
       "      <td>192.057</td>\n",
       "      <td>351.848</td>\n",
       "      <td>1366.1208</td>\n",
       "      <td>0.0794</td>\n",
       "    </tr>\n",
       "    <tr>\n",
       "      <td>2</td>\n",
       "      <td>1.741</td>\n",
       "      <td>344.15</td>\n",
       "      <td>1633.22</td>\n",
       "      <td>303.795</td>\n",
       "      <td>192.818</td>\n",
       "      <td>353.725</td>\n",
       "      <td>1366.2850</td>\n",
       "      <td>0.0731</td>\n",
       "    </tr>\n",
       "  </tbody>\n",
       "</table>\n",
       "</div>"
      ],
      "text/plain": [
       "     MEI     CO2      CH4      N2O   CFC-11   CFC-12        TSI  Aerosols\n",
       "0  2.556  345.96  1638.59  303.677  191.324  350.113  1366.1024    0.0863\n",
       "1  2.167  345.52  1633.71  303.746  192.057  351.848  1366.1208    0.0794\n",
       "2  1.741  344.15  1633.22  303.795  192.818  353.725  1366.2850    0.0731"
      ]
     },
     "execution_count": 22,
     "metadata": {},
     "output_type": "execute_result"
    }
   ],
   "source": [
    "df1_train.drop(df1_train.columns[8], axis=1).head(3)"
   ]
  },
  {
   "cell_type": "code",
   "execution_count": 23,
   "metadata": {},
   "outputs": [
    {
     "data": {
      "text/plain": [
       "array([-1.24594260e+02,  6.42053134e-02,  6.45735927e-03,  1.24041896e-04,\n",
       "       -1.65280032e-02, -6.63048889e-03,  3.80810324e-03,  9.31410835e-02,\n",
       "       -1.53761324e+00])"
      ]
     },
     "execution_count": 23,
     "metadata": {},
     "output_type": "execute_result"
    }
   ],
   "source": [
    "# Given X, and y in numpy arrays\n",
    "X = df1_train.drop(df1_train.columns[8], axis=1).to_numpy() # X: the features\n",
    "y = df1_train.iloc[:, [8]].to_numpy()                       # y: the results, lower case to emphasize the difference\n",
    "X_test = df1_test.drop(df1_train.columns[8], axis=1).to_numpy()\n",
    "y_test = df1_test.iloc[:, [8]].to_numpy()\n",
    "theta = closed_form_1(X, y)\n",
    "theta.flatten()"
   ]
  },
  {
   "cell_type": "code",
   "execution_count": 24,
   "metadata": {},
   "outputs": [
    {
     "data": {
      "text/plain": [
       "array([-1.24594260e+02,  6.42053134e-02,  6.45735927e-03,  1.24041896e-04,\n",
       "       -1.65280032e-02, -6.63048889e-03,  3.80810324e-03,  9.31410835e-02,\n",
       "       -1.53761324e+00])"
      ]
     },
     "execution_count": 24,
     "metadata": {},
     "output_type": "execute_result"
    }
   ],
   "source": [
    "# Given a DataFrame\n",
    "theta = closed_form_df(df1_train).reshape((1,9))\n",
    "theta.flatten()"
   ]
  },
  {
   "cell_type": "markdown",
   "metadata": {},
   "source": [
    "Using *scipy* to check the result:"
   ]
  },
  {
   "cell_type": "code",
   "execution_count": 25,
   "metadata": {},
   "outputs": [
    {
     "data": {
      "text/plain": [
       "array([ 6.42053134e-02,  6.45735927e-03,  1.24041896e-04, -1.65280033e-02,\n",
       "       -6.63048889e-03,  3.80810324e-03,  9.31410835e-02, -1.53761324e+00])"
      ]
     },
     "execution_count": 25,
     "metadata": {},
     "output_type": "execute_result"
    }
   ],
   "source": [
    "from sklearn.linear_model import LinearRegression as lm\n",
    "l=lm().fit(X, y)\n",
    "l.coef_.flatten()"
   ]
  },
  {
   "cell_type": "markdown",
   "metadata": {},
   "source": [
    "Works fine (some differences due to SVD used in *sklearn.LinearRegression*)."
   ]
  },
  {
   "cell_type": "markdown",
   "metadata": {},
   "source": [
    "### 2. Fomula and R squre\n",
    "*Write down the mathematical formula for the linear model and evaluate the model R squre on the training set and the testing set.*"
   ]
  },
  {
   "cell_type": "code",
   "execution_count": 26,
   "metadata": {},
   "outputs": [
    {
     "data": {
      "text/plain": [
       "Index(['MEI', 'CO2', 'CH4', 'N2O', 'CFC-11', 'CFC-12', 'TSI', 'Aerosols',\n",
       "       'Temp'],\n",
       "      dtype='object')"
      ]
     },
     "execution_count": 26,
     "metadata": {},
     "output_type": "execute_result"
    }
   ],
   "source": [
    "df1_train.columns"
   ]
  },
  {
   "cell_type": "markdown",
   "metadata": {},
   "source": [
    "**Formula of this model**(`round(5)`)\n",
    "$$\\hat{Temp}=-124.594+0.06421*MEI +0.00646*CO_2+0.00012*CH_4-0.01653*N_2O-0.00663*CFC11+0.00381*CFC12+0.09314*TSI-1.53761*Aerosols$$  \n",
    "  \n",
    "**Formula of R-squred**  \n",
    "R-squared measures model fitting and can be calculated as:\n",
    "$$R^2 = \\frac{var(X\\hat{\\beta})}{var(y)} = \\frac{\\sum_{i=1}^{n}(\\hat{y}_i-\\bar{y})^2}{\\sum_{i=1}^{n}(y_i-\\bar{y})^2}$$ "
   ]
  },
  {
   "cell_type": "code",
   "execution_count": 27,
   "metadata": {},
   "outputs": [],
   "source": [
    "def predict(X: np.ndarray, theta: np.ndarray) -> np.ndarray:\n",
    "    \"\"\"\n",
    "    To predict y given X and theta.\n",
    "    \n",
    "    Parameters: \n",
    "    ----------\n",
    "\n",
    "        X: features, IV.\n",
    "        theta: coefficients.\n",
    "    \n",
    "    Return:\n",
    "    ----------\n",
    "        y_hat: predicted value.\n",
    "    \"\"\"\n",
    "\n",
    "    X = np.column_stack((np.ones(len(X)), X))  # add x0 = 1 to matrix X\n",
    "    # theta = theta.reshape((1, len(theta)))\n",
    "    y_hat = np.sum(X @ theta, axis=1)\n",
    "    return (y_hat)\n"
   ]
  },
  {
   "cell_type": "markdown",
   "metadata": {},
   "source": [
    "Define a `score` function to calculate $R^2$:"
   ]
  },
  {
   "cell_type": "code",
   "execution_count": 28,
   "metadata": {},
   "outputs": [],
   "source": [
    "def score(y: np.ndarray, y_hat: np.ndarray) -> float:\n",
    "    \"\"\"\n",
    "    To calculate OLS R^2 given data in ndarrays.\n",
    "    \n",
    "    Parameters: \n",
    "    ----------\n",
    "        y: actual labels.\n",
    "        y_hat: predicted values.\n",
    "    \n",
    "    Return:\n",
    "    ----------\n",
    "        SST: R^2 caculated based on y and y_hat.\n",
    "    \"\"\"\n",
    "\n",
    "    mean = y.mean()\n",
    "    TSS = np.sum(np.square(y_hat - mean))\n",
    "    ESS = np.sum(np.square(y - mean))\n",
    "    SST = TSS / ESS\n",
    "    return SST"
   ]
  },
  {
   "cell_type": "markdown",
   "metadata": {},
   "source": [
    "On training set:"
   ]
  },
  {
   "cell_type": "code",
   "execution_count": 29,
   "metadata": {},
   "outputs": [
    {
     "name": "stdout",
     "output_type": "stream",
     "text": [
      "R2: 0.7508932770388383\n",
      "R2 by scipy: 0.7508932770523428\n"
     ]
    }
   ],
   "source": [
    "X = df1_train.drop(df1_train.columns[8], axis=1).to_numpy()\n",
    "y = df1_train.iloc[:, [8]].to_numpy()\n",
    "rsquare_train = score(y, predict(X, closed_form_1(X, y)))\n",
    "print(\"R2:\", rsquare_train)\n",
    "\n",
    "# Use *scipy* to check the result:\n",
    "l=lm().fit(X, y)\n",
    "print(\"R2 by scipy:\", l.score(X, y))"
   ]
  },
  {
   "cell_type": "markdown",
   "metadata": {},
   "source": [
    "On testing set:"
   ]
  },
  {
   "cell_type": "code",
   "execution_count": 30,
   "metadata": {},
   "outputs": [
    {
     "name": "stdout",
     "output_type": "stream",
     "text": [
      "R2: 0.22517701916249677\n"
     ]
    }
   ],
   "source": [
    "rsquare_test = score(y_test, predict(X_test, closed_form_1(X, y)))\n",
    "print(\"R2:\", rsquare_test)"
   ]
  },
  {
   "cell_type": "markdown",
   "metadata": {},
   "source": [
    "Works fine."
   ]
  },
  {
   "cell_type": "markdown",
   "metadata": {},
   "source": [
    "**Evaluation**"
   ]
  },
  {
   "cell_type": "markdown",
   "metadata": {},
   "source": [
    "Based on the formula above, R-squred can be applied in Python to evaluate previous model. On training set: $R^2$ is 0.75089, while on testing set, $R^2$ is 0.22518.   \n",
    "  \n",
    "\\*\\*\\* *However, for a multi-variable linear model, $R^{2}_{adjusted}$ may be a better indicator because the original $R^{2}$ is sensitive to the number of features.*"
   ]
  },
  {
   "cell_type": "markdown",
   "metadata": {},
   "source": [
    "### 3. Significant variables\n",
    "*Which variables are significant in the model?*"
   ]
  },
  {
   "cell_type": "code",
   "execution_count": 31,
   "metadata": {},
   "outputs": [
    {
     "data": {
      "text/html": [
       "<div>\n",
       "<style scoped>\n",
       "    .dataframe tbody tr th:only-of-type {\n",
       "        vertical-align: middle;\n",
       "    }\n",
       "\n",
       "    .dataframe tbody tr th {\n",
       "        vertical-align: top;\n",
       "    }\n",
       "\n",
       "    .dataframe thead th {\n",
       "        text-align: right;\n",
       "    }\n",
       "</style>\n",
       "<table border=\"1\" class=\"dataframe\">\n",
       "  <thead>\n",
       "    <tr style=\"text-align: right;\">\n",
       "      <th></th>\n",
       "      <th>Variable</th>\n",
       "      <th>pvalues</th>\n",
       "    </tr>\n",
       "  </thead>\n",
       "  <tbody>\n",
       "    <tr>\n",
       "      <td>0</td>\n",
       "      <td>x0: constant</td>\n",
       "      <td>1.43105e-09</td>\n",
       "    </tr>\n",
       "    <tr>\n",
       "      <td>1</td>\n",
       "      <td>x1: MEI</td>\n",
       "      <td>4.89889e-20</td>\n",
       "    </tr>\n",
       "    <tr>\n",
       "      <td>2</td>\n",
       "      <td>x2: CO2</td>\n",
       "      <td>0.00505252</td>\n",
       "    </tr>\n",
       "    <tr>\n",
       "      <td>5</td>\n",
       "      <td>x5: CFC-11</td>\n",
       "      <td>5.95729e-05</td>\n",
       "    </tr>\n",
       "    <tr>\n",
       "      <td>6</td>\n",
       "      <td>x6: CFC-12</td>\n",
       "      <td>0.00020972</td>\n",
       "    </tr>\n",
       "    <tr>\n",
       "      <td>7</td>\n",
       "      <td>x7: TSI</td>\n",
       "      <td>1.09594e-09</td>\n",
       "    </tr>\n",
       "    <tr>\n",
       "      <td>8</td>\n",
       "      <td>x8: Aerosols</td>\n",
       "      <td>5.41127e-12</td>\n",
       "    </tr>\n",
       "  </tbody>\n",
       "</table>\n",
       "</div>"
      ],
      "text/plain": [
       "       Variable      pvalues\n",
       "0  x0: constant  1.43105e-09\n",
       "1       x1: MEI  4.89889e-20\n",
       "2       x2: CO2   0.00505252\n",
       "5    x5: CFC-11  5.95729e-05\n",
       "6    x6: CFC-12   0.00020972\n",
       "7       x7: TSI  1.09594e-09\n",
       "8  x8: Aerosols  5.41127e-12"
      ]
     },
     "execution_count": 31,
     "metadata": {},
     "output_type": "execute_result"
    }
   ],
   "source": [
    "import statsmodels.api as sm\n",
    "\n",
    "# set an alpha\n",
    "alpha = 0.05\n",
    "\n",
    "X2 = sm.add_constant(X)\n",
    "l = sm.OLS(y, X2).fit()\n",
    "pvalues = l.summary2().tables[1]['P>|t|']\n",
    "labels =  ['x0: constant'] + [\"x\" + str(i+1) + \": \" + df1_train.columns[i] for i in range(len(df1_train.columns)-1)]\n",
    "variables = pd.DataFrame(np.concatenate([pd.DataFrame(labels), pd.DataFrame(pvalues)], axis=1))\n",
    "variables.columns = ['Variable', 'pvalues']\n",
    "\n",
    "# print significant variables\n",
    "variables[variables.pvalues < alpha]"
   ]
  },
  {
   "cell_type": "markdown",
   "metadata": {},
   "source": [
    "That's to say, significant(alpha=0.05) varibles are:"
   ]
  },
  {
   "cell_type": "code",
   "execution_count": 32,
   "metadata": {},
   "outputs": [
    {
     "data": {
      "text/plain": [
       "['x0: constant',\n",
       " 'x1: MEI',\n",
       " 'x2: CO2',\n",
       " 'x5: CFC-11',\n",
       " 'x6: CFC-12',\n",
       " 'x7: TSI',\n",
       " 'x8: Aerosols']"
      ]
     },
     "execution_count": 32,
     "metadata": {},
     "output_type": "execute_result"
    }
   ],
   "source": [
    "[i for i in variables[variables.pvalues < alpha].Variable.to_numpy()]"
   ]
  },
  {
   "cell_type": "markdown",
   "metadata": {},
   "source": [
    "### 4. Necessary conditions and application\n",
    "*Write down the necessary conditions for using the closed form solution. And you can apply it to the dataset climate_change_2.csv, explain the solution is unreasonable.*"
   ]
  },
  {
   "cell_type": "markdown",
   "metadata": {},
   "source": [
    "**Necessary conditions**  \n",
    "$X^TX$ must be invertible."
   ]
  },
  {
   "cell_type": "code",
   "execution_count": 33,
   "metadata": {},
   "outputs": [
    {
     "data": {
      "text/html": [
       "<div>\n",
       "<style scoped>\n",
       "    .dataframe tbody tr th:only-of-type {\n",
       "        vertical-align: middle;\n",
       "    }\n",
       "\n",
       "    .dataframe tbody tr th {\n",
       "        vertical-align: top;\n",
       "    }\n",
       "\n",
       "    .dataframe thead th {\n",
       "        text-align: right;\n",
       "    }\n",
       "</style>\n",
       "<table border=\"1\" class=\"dataframe\">\n",
       "  <thead>\n",
       "    <tr style=\"text-align: right;\">\n",
       "      <th></th>\n",
       "      <th>Year</th>\n",
       "      <th>Month</th>\n",
       "      <th>MEI</th>\n",
       "      <th>CO2</th>\n",
       "      <th>CH4</th>\n",
       "      <th>N2O</th>\n",
       "      <th>CFC-11</th>\n",
       "      <th>CFC-12</th>\n",
       "      <th>TSI</th>\n",
       "      <th>Aerosols</th>\n",
       "      <th>NO</th>\n",
       "      <th>Temp</th>\n",
       "    </tr>\n",
       "  </thead>\n",
       "  <tbody>\n",
       "    <tr>\n",
       "      <td>0</td>\n",
       "      <td>1983</td>\n",
       "      <td>5</td>\n",
       "      <td>2.556</td>\n",
       "      <td>345.96</td>\n",
       "      <td>1638.59</td>\n",
       "      <td>303.677</td>\n",
       "      <td>191.324</td>\n",
       "      <td>350.113</td>\n",
       "      <td>1366.1024</td>\n",
       "      <td>0.0863</td>\n",
       "      <td>2.63859</td>\n",
       "      <td>0.109</td>\n",
       "    </tr>\n",
       "    <tr>\n",
       "      <td>1</td>\n",
       "      <td>1983</td>\n",
       "      <td>6</td>\n",
       "      <td>2.167</td>\n",
       "      <td>345.52</td>\n",
       "      <td>1633.71</td>\n",
       "      <td>303.746</td>\n",
       "      <td>192.057</td>\n",
       "      <td>351.848</td>\n",
       "      <td>1366.1208</td>\n",
       "      <td>0.0794</td>\n",
       "      <td>2.63371</td>\n",
       "      <td>0.118</td>\n",
       "    </tr>\n",
       "    <tr>\n",
       "      <td>2</td>\n",
       "      <td>1983</td>\n",
       "      <td>7</td>\n",
       "      <td>1.741</td>\n",
       "      <td>344.15</td>\n",
       "      <td>1633.22</td>\n",
       "      <td>303.795</td>\n",
       "      <td>192.818</td>\n",
       "      <td>353.725</td>\n",
       "      <td>1366.2850</td>\n",
       "      <td>0.0731</td>\n",
       "      <td>2.63322</td>\n",
       "      <td>0.137</td>\n",
       "    </tr>\n",
       "  </tbody>\n",
       "</table>\n",
       "</div>"
      ],
      "text/plain": [
       "   Year  Month    MEI     CO2      CH4      N2O   CFC-11   CFC-12        TSI  \\\n",
       "0  1983      5  2.556  345.96  1638.59  303.677  191.324  350.113  1366.1024   \n",
       "1  1983      6  2.167  345.52  1633.71  303.746  192.057  351.848  1366.1208   \n",
       "2  1983      7  1.741  344.15  1633.22  303.795  192.818  353.725  1366.2850   \n",
       "\n",
       "   Aerosols       NO   Temp  \n",
       "0    0.0863  2.63859  0.109  \n",
       "1    0.0794  2.63371  0.118  \n",
       "2    0.0731  2.63322  0.137  "
      ]
     },
     "execution_count": 33,
     "metadata": {},
     "output_type": "execute_result"
    }
   ],
   "source": [
    "df2.head(3)"
   ]
  },
  {
   "cell_type": "code",
   "execution_count": 34,
   "metadata": {},
   "outputs": [
    {
     "data": {
      "text/html": [
       "<div>\n",
       "<style scoped>\n",
       "    .dataframe tbody tr th:only-of-type {\n",
       "        vertical-align: middle;\n",
       "    }\n",
       "\n",
       "    .dataframe tbody tr th {\n",
       "        vertical-align: top;\n",
       "    }\n",
       "\n",
       "    .dataframe thead th {\n",
       "        text-align: right;\n",
       "    }\n",
       "</style>\n",
       "<table border=\"1\" class=\"dataframe\">\n",
       "  <thead>\n",
       "    <tr style=\"text-align: right;\">\n",
       "      <th></th>\n",
       "      <th>MEI</th>\n",
       "      <th>CO2</th>\n",
       "      <th>CH4</th>\n",
       "      <th>N2O</th>\n",
       "      <th>CFC-11</th>\n",
       "      <th>CFC-12</th>\n",
       "      <th>TSI</th>\n",
       "      <th>Aerosols</th>\n",
       "      <th>NO</th>\n",
       "      <th>Temp</th>\n",
       "    </tr>\n",
       "  </thead>\n",
       "  <tbody>\n",
       "    <tr>\n",
       "      <td>0</td>\n",
       "      <td>2.556</td>\n",
       "      <td>345.96</td>\n",
       "      <td>1638.59</td>\n",
       "      <td>303.677</td>\n",
       "      <td>191.324</td>\n",
       "      <td>350.113</td>\n",
       "      <td>1366.1024</td>\n",
       "      <td>0.0863</td>\n",
       "      <td>2.63859</td>\n",
       "      <td>0.109</td>\n",
       "    </tr>\n",
       "    <tr>\n",
       "      <td>1</td>\n",
       "      <td>2.167</td>\n",
       "      <td>345.52</td>\n",
       "      <td>1633.71</td>\n",
       "      <td>303.746</td>\n",
       "      <td>192.057</td>\n",
       "      <td>351.848</td>\n",
       "      <td>1366.1208</td>\n",
       "      <td>0.0794</td>\n",
       "      <td>2.63371</td>\n",
       "      <td>0.118</td>\n",
       "    </tr>\n",
       "    <tr>\n",
       "      <td>282</td>\n",
       "      <td>1.292</td>\n",
       "      <td>380.18</td>\n",
       "      <td>1791.91</td>\n",
       "      <td>320.321</td>\n",
       "      <td>248.605</td>\n",
       "      <td>539.500</td>\n",
       "      <td>1365.7039</td>\n",
       "      <td>0.0049</td>\n",
       "      <td>2.79191</td>\n",
       "      <td>0.440</td>\n",
       "    </tr>\n",
       "    <tr>\n",
       "      <td>283</td>\n",
       "      <td>0.951</td>\n",
       "      <td>381.79</td>\n",
       "      <td>1795.04</td>\n",
       "      <td>320.451</td>\n",
       "      <td>248.480</td>\n",
       "      <td>539.377</td>\n",
       "      <td>1365.7087</td>\n",
       "      <td>0.0054</td>\n",
       "      <td>2.79504</td>\n",
       "      <td>0.518</td>\n",
       "    </tr>\n",
       "  </tbody>\n",
       "</table>\n",
       "</div>"
      ],
      "text/plain": [
       "       MEI     CO2      CH4      N2O   CFC-11   CFC-12        TSI  Aerosols  \\\n",
       "0    2.556  345.96  1638.59  303.677  191.324  350.113  1366.1024    0.0863   \n",
       "1    2.167  345.52  1633.71  303.746  192.057  351.848  1366.1208    0.0794   \n",
       "282  1.292  380.18  1791.91  320.321  248.605  539.500  1365.7039    0.0049   \n",
       "283  0.951  381.79  1795.04  320.451  248.480  539.377  1365.7087    0.0054   \n",
       "\n",
       "          NO   Temp  \n",
       "0    2.63859  0.109  \n",
       "1    2.63371  0.118  \n",
       "282  2.79191  0.440  \n",
       "283  2.79504  0.518  "
      ]
     },
     "execution_count": 34,
     "metadata": {},
     "output_type": "execute_result"
    }
   ],
   "source": [
    "# Df2 trainset\n",
    "df2_train = df2[df2['Year']<=2006].iloc[:,2:]\n",
    "# Check the result\n",
    "df2_train.iloc[[0, 1,-2, -1],:]"
   ]
  },
  {
   "cell_type": "code",
   "execution_count": 35,
   "metadata": {},
   "outputs": [
    {
     "data": {
      "text/html": [
       "<div>\n",
       "<style scoped>\n",
       "    .dataframe tbody tr th:only-of-type {\n",
       "        vertical-align: middle;\n",
       "    }\n",
       "\n",
       "    .dataframe tbody tr th {\n",
       "        vertical-align: top;\n",
       "    }\n",
       "\n",
       "    .dataframe thead th {\n",
       "        text-align: right;\n",
       "    }\n",
       "</style>\n",
       "<table border=\"1\" class=\"dataframe\">\n",
       "  <thead>\n",
       "    <tr style=\"text-align: right;\">\n",
       "      <th></th>\n",
       "      <th>MEI</th>\n",
       "      <th>CO2</th>\n",
       "      <th>CH4</th>\n",
       "      <th>N2O</th>\n",
       "      <th>CFC-11</th>\n",
       "      <th>CFC-12</th>\n",
       "      <th>TSI</th>\n",
       "      <th>Aerosols</th>\n",
       "      <th>NO</th>\n",
       "      <th>Temp</th>\n",
       "    </tr>\n",
       "  </thead>\n",
       "  <tbody>\n",
       "    <tr>\n",
       "      <td>284</td>\n",
       "      <td>0.974</td>\n",
       "      <td>382.93</td>\n",
       "      <td>1799.66</td>\n",
       "      <td>320.561</td>\n",
       "      <td>248.372</td>\n",
       "      <td>539.206</td>\n",
       "      <td>1365.7173</td>\n",
       "      <td>0.0054</td>\n",
       "      <td>2.79966</td>\n",
       "      <td>0.601</td>\n",
       "    </tr>\n",
       "    <tr>\n",
       "      <td>285</td>\n",
       "      <td>0.510</td>\n",
       "      <td>383.81</td>\n",
       "      <td>1803.08</td>\n",
       "      <td>320.571</td>\n",
       "      <td>248.264</td>\n",
       "      <td>538.973</td>\n",
       "      <td>1365.7145</td>\n",
       "      <td>0.0051</td>\n",
       "      <td>2.80308</td>\n",
       "      <td>0.498</td>\n",
       "    </tr>\n",
       "    <tr>\n",
       "      <td>306</td>\n",
       "      <td>-0.621</td>\n",
       "      <td>384.13</td>\n",
       "      <td>1812.37</td>\n",
       "      <td>322.013</td>\n",
       "      <td>244.225</td>\n",
       "      <td>534.906</td>\n",
       "      <td>1365.7065</td>\n",
       "      <td>0.0048</td>\n",
       "      <td>2.81237</td>\n",
       "      <td>0.394</td>\n",
       "    </tr>\n",
       "    <tr>\n",
       "      <td>307</td>\n",
       "      <td>-0.666</td>\n",
       "      <td>385.56</td>\n",
       "      <td>1812.88</td>\n",
       "      <td>322.182</td>\n",
       "      <td>244.204</td>\n",
       "      <td>535.005</td>\n",
       "      <td>1365.6926</td>\n",
       "      <td>0.0046</td>\n",
       "      <td>2.81288</td>\n",
       "      <td>0.330</td>\n",
       "    </tr>\n",
       "  </tbody>\n",
       "</table>\n",
       "</div>"
      ],
      "text/plain": [
       "       MEI     CO2      CH4      N2O   CFC-11   CFC-12        TSI  Aerosols  \\\n",
       "284  0.974  382.93  1799.66  320.561  248.372  539.206  1365.7173    0.0054   \n",
       "285  0.510  383.81  1803.08  320.571  248.264  538.973  1365.7145    0.0051   \n",
       "306 -0.621  384.13  1812.37  322.013  244.225  534.906  1365.7065    0.0048   \n",
       "307 -0.666  385.56  1812.88  322.182  244.204  535.005  1365.6926    0.0046   \n",
       "\n",
       "          NO   Temp  \n",
       "284  2.79966  0.601  \n",
       "285  2.80308  0.498  \n",
       "306  2.81237  0.394  \n",
       "307  2.81288  0.330  "
      ]
     },
     "execution_count": 35,
     "metadata": {},
     "output_type": "execute_result"
    }
   ],
   "source": [
    "# Df2 testet\n",
    "df2_test = df2[df2['Year']>2006].iloc[:,2:]\n",
    "# Check the result\n",
    "df2_test.iloc[[0, 1,-2, -1],:]"
   ]
  },
  {
   "cell_type": "code",
   "execution_count": 36,
   "metadata": {},
   "outputs": [
    {
     "data": {
      "text/plain": [
       "array([-1.18459383e+02,  6.41762745e-02,  6.48209178e-03,  6.24389931e-03,\n",
       "       -1.65280032e-02, -6.63048889e-03,  3.80810324e-03,  9.31410835e-02,\n",
       "       -1.53761324e+00, -6.12593018e+00])"
      ]
     },
     "execution_count": 36,
     "metadata": {},
     "output_type": "execute_result"
    }
   ],
   "source": [
    "# Given X, and y in numpy arrays\n",
    "X_2 = df2_train.drop(df2_train.columns[9], axis=1).to_numpy() # X: the features\n",
    "y_2 = df2_train.iloc[:, [9]].to_numpy()                       # y: the results, lower case to emphasize the difference\n",
    "X_2_test = df2_test.drop(df2_test.columns[9], axis=1).to_numpy()\n",
    "y_2_test = df2_test.iloc[:, [9]].to_numpy()\n",
    "theta = closed_form_1(X_2, y_2)\n",
    "theta.flatten()"
   ]
  },
  {
   "cell_type": "markdown",
   "metadata": {},
   "source": [
    "**Why unreasonable:**  \n",
    "Because $X^TX$ is  non-invertible.  \n",
    "  \n",
    "According to [Andrew NG](https://www.coursera.org/learn/machine-learning/supplement/66bi5/normal-equation-noninvertibility), \n",
    ">When implementing the normal equation in octave we want to use the `pinv` function rather than `inv`. The 'pinv' function will give you a value of \\thetaθ even if $X^TX$ is not invertible.  \n",
    ">If $X^TX$ is noninvertible, the common causes might be having :\n",
    "> - **Redundant features**, where two features are very closely related (i.e. they are linearly dependent)\n",
    "> - **Too many features** (e.g. m ≤ n). In this case, delete some features or use \"regularization\" (to be explained in a later lesson).  \n",
    ">\n",
    ">Solutions to the above problems include deleting a feature that is linearly dependent with another or deleting one or more features when there are too many features.\n",
    "  \n",
    "In this case, many variables (as mentioned in the first section exploration) are highly correlated."
   ]
  },
  {
   "cell_type": "markdown",
   "metadata": {},
   "source": [
    "  "
   ]
  },
  {
   "cell_type": "markdown",
   "metadata": {},
   "source": [
    "___"
   ]
  },
  {
   "cell_type": "markdown",
   "metadata": {},
   "source": [
    "## Problem 2 — Regularization\n",
    "*Regularization is a method to boost robustness of model, including L1 regularization and L_2 regularization.*"
   ]
  },
  {
   "cell_type": "markdown",
   "metadata": {},
   "source": [
    "### 1. Loss function\n",
    "*Please write down the loss function for linear model with L1 regularization, L2\n",
    "regularization, respectively.*"
   ]
  },
  {
   "cell_type": "markdown",
   "metadata": {},
   "source": [
    "**L1， Lasso Regression:**\n",
    "$$J\\left( \\theta  \\right)=\\frac{1}{2m}[\\sum\\limits_{i=1}^{m}{{{({h_\\theta}({{x}^{(i)}})-{{y}^{(i)}})}^{2}}+\\lambda \\sum\\limits_{j=1}^{n}{|\\theta _{j}|}]}$$"
   ]
  },
  {
   "cell_type": "markdown",
   "metadata": {},
   "source": [
    "**L2， Ridge Regression:**\n",
    "$$J\\left( \\theta  \\right)=\\frac{1}{2m}[\\sum\\limits_{i=1}^{m}{{{({h_\\theta}({{x}^{(i)}})-{{y}^{(i)}})}^{2}}+\\lambda \\sum\\limits_{j=1}^{n}{\\theta _{j}^{2}}]}$$"
   ]
  },
  {
   "cell_type": "markdown",
   "metadata": {},
   "source": [
    "### 2. Compute and regularization\n",
    "*The closed form solution for linear model with L2 regularization:*\n",
    "$$𝛉 = (𝐗^𝐓𝐗 + 𝛌𝐈)^{−𝟏}𝐗^𝐓𝐘$$\n",
    "*where I is the identity matrix. \n",
    "Write a function closed_form_2 that computes this\n",
    "closed form solution given the features X, labels Y and the regularization\n",
    "parameter λ (using Python or Matlab).*"
   ]
  },
  {
   "cell_type": "code",
   "execution_count": 37,
   "metadata": {},
   "outputs": [],
   "source": [
    "def closed_form_2(X: np.ndarray, y: np.ndarray, lambd: float) -> np.ndarray:\n",
    "    \"\"\"\n",
    "    To calculate OLS theta(s) given X, y in ndarrays.\n",
    "\n",
    "    Parameters: \n",
    "    ----------\n",
    "        X: features, IV.\n",
    "        y: taget variable, DV.\n",
    "        lambd: regularization parameter\n",
    "    Return:\n",
    "    ----------\n",
    "        theta: coefficients\n",
    "    \"\"\"\n",
    "\n",
    "    X = np.concatenate([np.ones((len(X), 1)), X], axis=1)  # add x0 = 1 to matrix X\n",
    "    I = np.identity(len(X[0]))\n",
    "    theta = inv(X.T @ X + lambd * I) @ (X.T @ y)\n",
    "    return theta"
   ]
  },
  {
   "cell_type": "markdown",
   "metadata": {},
   "source": [
    "### 3. Comparison\n",
    "*Compare the two solutions in problem 1 and problem 2 and explain the reason why linear model with L2 regularization is robust. (using climate_change_1.csv)*"
   ]
  },
  {
   "cell_type": "code",
   "execution_count": 38,
   "metadata": {},
   "outputs": [
    {
     "data": {
      "text/plain": [
       "array([-1.24594260e+02,  6.42053134e-02,  6.45735927e-03,  1.24041896e-04,\n",
       "       -1.65280032e-02, -6.63048889e-03,  3.80810324e-03,  9.31410835e-02,\n",
       "       -1.53761324e+00])"
      ]
     },
     "execution_count": 38,
     "metadata": {},
     "output_type": "execute_result"
    }
   ],
   "source": [
    "X_train = df1_train.drop(df1_train.columns[8], axis=1).to_numpy()\n",
    "y_train = df1_train.iloc[:, [8]].to_numpy()\n",
    "theta_0 = closed_form_1(X_train, y_train)\n",
    "theta_0.flatten()"
   ]
  },
  {
   "cell_type": "code",
   "execution_count": 39,
   "metadata": {},
   "outputs": [
    {
     "data": {
      "text/plain": [
       "array([-4.68953239e-03,  4.55768014e-02,  7.80443532e-03,  1.95701031e-04,\n",
       "       -1.64893727e-02, -6.38359095e-03,  3.74766007e-03,  1.44919104e-03,\n",
       "       -3.65599605e-01])"
      ]
     },
     "execution_count": 39,
     "metadata": {},
     "output_type": "execute_result"
    }
   ],
   "source": [
    "theta_2 = closed_form_2(X_train, y_train, 0.5)\n",
    "theta_2.flatten()"
   ]
  },
  {
   "cell_type": "code",
   "execution_count": 40,
   "metadata": {},
   "outputs": [
    {
     "name": "stdout",
     "output_type": "stream",
     "text": [
      "R2: 0.22517701916249677 0.8022366128860432\n"
     ]
    }
   ],
   "source": [
    "rsquare_test_theta_0 = score(y_test, predict(X_test, theta_0))\n",
    "rsquare_test_theta_2 = score(y_test, predict(X_test, theta_2))\n",
    "print(\"R2:\", rsquare_test_theta_0, rsquare_test_theta_2)"
   ]
  },
  {
   "cell_type": "markdown",
   "metadata": {},
   "source": [
    "Obviously, theta_2, which is the result of ridge regression, is much better due to the lower effect of redundant variables."
   ]
  },
  {
   "cell_type": "markdown",
   "metadata": {},
   "source": [
    "### 4. Change λ\n",
    "*You can change the regularization parameter λ to get different solutions for this problem. Suppose we set λ = 10, 1, 0.1, 0.01, 0.001, and please evaluate the model*  $R^2$ *on the training set and the testing set.*"
   ]
  },
  {
   "cell_type": "code",
   "execution_count": 41,
   "metadata": {},
   "outputs": [
    {
     "name": "stdout",
     "output_type": "stream",
     "text": [
      "R scores comparison\n",
      "λ　　　　　　Training R2　　　　　　Testing R2\n",
      "10.0 　　　　 0.67461 　　　　　　　 0.94087\n",
      "1.0 　　　　 0.67947 　　　　　　　 0.84675\n",
      "0.1 　　　　 0.69447 　　　　　　　 0.67329\n",
      "0.01 　　　　 0.71165 　　　　　　　 0.58528\n",
      "0.001 　　　　 0.71483 　　　　　　　 0.56252\n"
     ]
    }
   ],
   "source": [
    "from sklearn.metrics import mean_squared_error as mse\n",
    "\n",
    "# Define constants\n",
    "X_train = df1_train.drop(df1_train.columns[8], axis=1).to_numpy()\n",
    "y_train = df1_train.iloc[:, [8]].to_numpy()\n",
    "X_test = df1_test.drop(df1_test.columns[8], axis=1).to_numpy()\n",
    "y_test = df1_test.iloc[:, [8]].to_numpy()\n",
    "lambds = [10.00, 1.000, 0.10, 0.01, 0.001]\n",
    "\n",
    "print(\"R scores comparison\")\n",
    "# print(\"λ　　　　　　Training R2　　　　　　Testing R2 　　　　　　Testing MSE\")\n",
    "print(\"λ　　　　　　Training R2　　　　　　Testing R2\")\n",
    "for lambd in lambds:\n",
    "    theta = closed_form_2(X_train, y_train, lambd)\n",
    "    rsquare_train = score(y_train, predict(X_train, theta))\n",
    "    rsquare_test = score(y_test, predict(X_test, theta))\n",
    "    # meanse = mse(y_test, predict(X_test, theta))\n",
    "    # print(lambd, \"　　　　\", rsquare_train.round(5), \"　　　　　　　\", rsquare_test.round(5), \"　　　　　　　\", meanse.round(5))\n",
    "    print(lambd, \"　　　　\", rsquare_train.round(5), \"　　　　　　　\", rsquare_test.round(5))"
   ]
  },
  {
   "cell_type": "markdown",
   "metadata": {},
   "source": [
    "*Finally, please decide the best regularization parameter λ. (Note that: As a qualified data analyst, you must know how to choose model parameters, please learn about cross validation methods.)*"
   ]
  },
  {
   "cell_type": "code",
   "execution_count": 42,
   "metadata": {},
   "outputs": [
    {
     "name": "stdout",
     "output_type": "stream",
     "text": [
      "Optimal lamba should be  0.1\n"
     ]
    },
    {
     "name": "stderr",
     "output_type": "stream",
     "text": [
      "C:\\Users\\oyrx\\Anaconda3\\lib\\site-packages\\sklearn\\model_selection\\_search.py:814: DeprecationWarning: The default of the `iid` parameter will change from True to False in version 0.22 and will be removed in 0.24. This will change numeric results when test-set sizes are unequal.\n",
      "  DeprecationWarning)\n"
     ]
    }
   ],
   "source": [
    "from sklearn.model_selection import KFold\n",
    "from sklearn.linear_model import Ridge\n",
    "from sklearn.model_selection import GridSearchCV\n",
    "\n",
    "def cross_validation(X, y):\n",
    "    \"\"\"\n",
    "    Using k-fold to get optimal value of lambda based on R-squared.\n",
    "\n",
    "    Parameters: \n",
    "    ----------\n",
    "        X: features, IV.\n",
    "        y: taget variable, DV.\n",
    "    Return:\n",
    "    ----------\n",
    "        alpha: learning rate\n",
    "    \"\"\"\n",
    "    kfold = KFold(n_splits=10).split(X, y)\n",
    "    model = Ridge(normalize=True)  # Normalization returns better result\n",
    "    lambdas = [10, 1, 0.1, 0.01, 0.001]\n",
    "    grid_param = {\"alpha\": lambdas}\n",
    "    grid = GridSearchCV(estimator=model,\n",
    "                        param_grid=grid_param,\n",
    "                        cv=kfold,\n",
    "                        scoring=\"r2\")\n",
    "    grid.fit(X, y)\n",
    "    alpha = grid.best_params_['alpha']\n",
    "    return alpha\n",
    "\n",
    "\n",
    "print('Optimal lamba should be ', cross_validation(X_train, y_train))"
   ]
  },
  {
   "cell_type": "markdown",
   "metadata": {},
   "source": [
    "___"
   ]
  },
  {
   "cell_type": "markdown",
   "metadata": {},
   "source": [
    "## Problem 3 — Feature Selection"
   ]
  },
  {
   "cell_type": "markdown",
   "metadata": {},
   "source": [
    "### 1. Lesser variables\n",
    "*From Problem 1, you can know which variables are significant, therefore you can use less variables to train model. For example, remove highly correlated and redundant features. You can propose a workflow to select feature.*"
   ]
  },
  {
   "cell_type": "markdown",
   "metadata": {},
   "source": [
    "As mentioned in the first section and known siginificant variables(MEI, CO2, CDC-11, CDC-12, TST, Aerocols), a new correlation matrix can be introduced:\n"
   ]
  },
  {
   "cell_type": "code",
   "execution_count": 43,
   "metadata": {},
   "outputs": [
    {
     "data": {
      "image/png": "[encoded data removed]",
      "text/plain": [
       "<Figure size 576x384 with 2 Axes>"
      ]
     },
     "metadata": {
      "needs_background": "light"
     },
     "output_type": "display_data"
    }
   ],
   "source": [
    "corr = df1[['MEI', 'CO2', 'CFC-11', 'CFC-12', 'TSI', 'Aerosols' ]].corr()\n",
    "high_corr = corr[np.abs(corr) > 0.5].fillna(0)\n",
    "corr[np.abs(corr) > 0.6].fillna('')\n",
    "plt.figure(dpi=96)\n",
    "ax = sns.heatmap(\n",
    "    high_corr, \n",
    "    vmin=-1, vmax=1, center=0,\n",
    "    cmap=sns.diverging_palette(20, 220, n=200),\n",
    "    square=True\n",
    ")\n",
    "ax.set_xticklabels(\n",
    "    ax.get_xticklabels(),\n",
    "    rotation=45,\n",
    "    horizontalalignment='right'\n",
    ");"
   ]
  },
  {
   "cell_type": "markdown",
   "metadata": {},
   "source": [
    "Thus, CFC-12 should also be removed(r>0.6) then we have:"
   ]
  },
  {
   "cell_type": "code",
   "execution_count": 44,
   "metadata": {},
   "outputs": [
    {
     "data": {
      "image/png": "[encoded data removed]",
      "text/plain": [
       "<Figure size 576x384 with 2 Axes>"
      ]
     },
     "metadata": {
      "needs_background": "light"
     },
     "output_type": "display_data"
    }
   ],
   "source": [
    "corr = df1[['MEI', 'CO2', 'CFC-11', 'TSI', 'Aerosols' ]].corr()\n",
    "high_corr = corr[np.abs(corr) > 0.5].fillna(0)\n",
    "corr[np.abs(corr) > 0.6].fillna('')\n",
    "plt.figure(dpi=96)\n",
    "ax = sns.heatmap(\n",
    "    high_corr, \n",
    "    vmin=-1, vmax=1, center=0,\n",
    "    cmap=sns.diverging_palette(20, 220, n=200),\n",
    "    square=True\n",
    ")\n",
    "ax.set_xticklabels(\n",
    "    ax.get_xticklabels(),\n",
    "    rotation=45,\n",
    "    horizontalalignment='right'\n",
    ");"
   ]
  },
  {
   "cell_type": "markdown",
   "metadata": {},
   "source": [
    "Now no redundant variables left."
   ]
  },
  {
   "cell_type": "markdown",
   "metadata": {},
   "source": [
    "### 2. A better model\n",
    "*Train a better model than the model in Problem 2.*"
   ]
  },
  {
   "cell_type": "code",
   "execution_count": 45,
   "metadata": {},
   "outputs": [
    {
     "name": "stdout",
     "output_type": "stream",
     "text": [
      "Thus our better model is: \n",
      "y = -0.02465 +  0.04909 * x1 +  0.0118 * x2 +  2e-05 * x3 +  -0.00293 * x4 +  -0.88807 * x5\n"
     ]
    },
    {
     "name": "stderr",
     "output_type": "stream",
     "text": [
      "C:\\Users\\oyrx\\Anaconda3\\lib\\site-packages\\sklearn\\model_selection\\_search.py:814: DeprecationWarning: The default of the `iid` parameter will change from True to False in version 0.22 and will be removed in 0.24. This will change numeric results when test-set sizes are unequal.\n",
      "  DeprecationWarning)\n"
     ]
    }
   ],
   "source": [
    "X_lesser = df1_train[['MEI', 'CO2', 'CFC-11', 'TSI', 'Aerosols' ]].to_numpy() # X: the features\n",
    "y_lesser = df1_train.iloc[:, [8]].to_numpy()                                  # y: the results, lower case to emphasize the difference\n",
    "X_test = df1_test[['MEI', 'CO2', 'CFC-11', 'TSI', 'Aerosols' ]].to_numpy()\n",
    "y_test = df1_test.iloc[:, [8]].to_numpy()\n",
    "\n",
    "#theta_lesser = closed_form_1(X_lesser, y_lesser)\n",
    "theta_lesser = closed_form_2(X_lesser, y_train, cross_validation(X_lesser,y_lesser))\n",
    "theta_lesser = np.array(theta_lesser)\n",
    "formula = [str(theta_lesser.round(5).tolist()[i][0]) + ' * x' + str(i) + ' + ' for i in range(0, len(theta_lesser.round(5).tolist()))]\n",
    "print('Thus our better model is: \\ny = '+ ' '.join(formula).replace(' * x0', '')[:-3])"
   ]
  },
  {
   "cell_type": "markdown",
   "metadata": {},
   "source": [
    "Significance:"
   ]
  },
  {
   "cell_type": "code",
   "execution_count": 46,
   "metadata": {},
   "outputs": [
    {
     "data": {
      "text/plain": [
       "x1     True\n",
       "x2     True\n",
       "x3    False\n",
       "x4     True\n",
       "x5     True\n",
       "Name: P>|t|, dtype: bool"
      ]
     },
     "execution_count": 46,
     "metadata": {},
     "output_type": "execute_result"
    }
   ],
   "source": [
    "l = sm.OLS(y_lesser, X_lesser).fit()\n",
    "pvalues = l.summary2().tables[1]['P>|t|']\n",
    "pvalues < 0.05"
   ]
  },
  {
   "cell_type": "markdown",
   "metadata": {},
   "source": [
    "Then remove x3 based on the new result:"
   ]
  },
  {
   "cell_type": "code",
   "execution_count": 47,
   "metadata": {},
   "outputs": [
    {
     "name": "stdout",
     "output_type": "stream",
     "text": [
      "Thus our better model is: \n",
      "\n",
      "y = -118.60162 +  0.06204 * x1 +  0.01069 * x2 +  0.08418 * x3 +  -1.58444 * x4\n"
     ]
    }
   ],
   "source": [
    "X_lesser = df1_train[['MEI', 'CO2', 'TSI', 'Aerosols' ]].to_numpy() # X: the features\n",
    "y_lesser = df1_train.iloc[:, [8]].to_numpy()                                  # y: the results, lower case to emphasize the difference\n",
    "X_test = df1_test[['MEI', 'CO2', 'TSI', 'Aerosols' ]].to_numpy()\n",
    "y_test = df1_test.iloc[:, [8]].to_numpy()\n",
    "\n",
    "theta_lesser = closed_form_1(X_lesser, y_train)\n",
    "theta_lesser = np.array(theta_lesser)\n",
    "formula = [str(theta_lesser.round(5).tolist()[i][0]) + ' * x' + str(i) + ' + ' for i in range(0, len(theta_lesser.round(5).tolist()))]\n",
    "print('Thus our better model is: \\n\\ny = '+ ' '.join(formula).replace(' * x0', '')[:-3])"
   ]
  },
  {
   "cell_type": "code",
   "execution_count": 48,
   "metadata": {},
   "outputs": [
    {
     "data": {
      "text/plain": [
       "x1    True\n",
       "x2    True\n",
       "x3    True\n",
       "x4    True\n",
       "Name: P>|t|, dtype: bool"
      ]
     },
     "execution_count": 48,
     "metadata": {},
     "output_type": "execute_result"
    }
   ],
   "source": [
    "l = sm.OLS(y_lesser, X_lesser).fit()\n",
    "pvalues = l.summary2().tables[1]['P>|t|']\n",
    "pvalues < 0.05"
   ]
  },
  {
   "cell_type": "markdown",
   "metadata": {},
   "source": [
    "R2:"
   ]
  },
  {
   "cell_type": "code",
   "execution_count": 49,
   "metadata": {},
   "outputs": [
    {
     "name": "stdout",
     "output_type": "stream",
     "text": [
      "R2\n",
      "Training: 0.7336403428986276\n",
      "Testing: 0.6328867941215394\n"
     ]
    }
   ],
   "source": [
    "rsquare_train = score(y_lesser, predict(X_lesser, theta_lesser))\n",
    "rsquare_test = score(y_test, predict(X_test, theta_lesser))\n",
    "print(('R2\\nTraining: {}\\nTesting: {}').format(rsquare_train, rsquare_test))"
   ]
  },
  {
   "cell_type": "markdown",
   "metadata": {},
   "source": [
    "___"
   ]
  },
  {
   "cell_type": "markdown",
   "metadata": {},
   "source": [
    "## Problem 4 — Gradient Descent\n",
    "*Gradient descent algorithm is an iterative process that takes us to the minimum of a function. Please write down the iterative expression for updating the solution of linear model and implement it using Python or Matlab in gradientDescent function.*"
   ]
  },
  {
   "cell_type": "markdown",
   "metadata": {},
   "source": [
    "### Cost and gradient functions"
   ]
  },
  {
   "cell_type": "code",
   "execution_count": 50,
   "metadata": {},
   "outputs": [],
   "source": [
    "def normalize(mtx: np.matrix, method=\"std\"):\n",
    "    \"\"\"\n",
    "    To normalize a matrix\n",
    "\n",
    "    Parameters: \n",
    "    ----------\n",
    "        mtx: matrix\n",
    "    Return:\n",
    "    ----------\n",
    "        normalized matrix\n",
    "    \"\"\"\n",
    "    return (mtx - np.mean(mtx)) / np.std(mtx)  # Normalization for faster convergence\n",
    "    \n",
    "def costFunction(X: np.matrix, y: np.matrix, theta: np.ndarray) -> float:\n",
    "    \"\"\"\n",
    "    To calculate cost given X, y, and theta in ndarrays.\n",
    "\n",
    "    Parameters: \n",
    "    ----------\n",
    "        X: features, IV.\n",
    "        y: taget variable, DV.\n",
    "        theta: coefficients\n",
    "    Return:\n",
    "    ----------\n",
    "        cost: calculated cost\n",
    "    \"\"\"\n",
    "    # print(X.shape, np.array(theta).shape, y.shape) # for debugging\n",
    "    \n",
    "    m = len(y_train)  # no. of training samples\n",
    "    temp = X @ theta - y\n",
    "    return np.sum(np.power(temp, 2)) / (2 * m)\n",
    "\n",
    "\n",
    "def gradientDescent(X: np.matrix,\n",
    "                    y: np.matrix,\n",
    "                    theta: np.ndarray,\n",
    "                    alpha: float = 0.001,\n",
    "                    iterations: int = 10000,\n",
    "                    norm: bool = True) -> np.ndarray:\n",
    "    \"\"\"\n",
    "    To find optimal theta given X, y, theta in ndarrays and alpha, iters in float.\n",
    "\n",
    "    Parameters: \n",
    "    ----------\n",
    "        X: features, IV.\n",
    "        y: taget variable, DV.\n",
    "        theta: initial coefficients\n",
    "        alpha: learning rate, default by 0.001\n",
    "        iterations: an assigned number of iterations\n",
    "        norm: nomalization or not, default by True\n",
    "    Return:\n",
    "    ----------\n",
    "        theta: np.matrix, final theta\n",
    "        J_history: np.ndarray, cost history\n",
    "    \"\"\"\n",
    "    \n",
    "    X = (X, normalize(X))[norm] # normalization\n",
    "    print(X.shape, np.array(theta).shape, y.shape)\n",
    "    m = len(y)\n",
    "    J_history = []\n",
    "    for i in range(iterations):\n",
    "        error = X.T @ (X @ theta - y)\n",
    "        theta -= alpha * 1 / m * error\n",
    "        J_history.append(costFunction(X, y, theta))\n",
    "    # print(theta, J_history)\n",
    "    return theta, J_history"
   ]
  },
  {
   "cell_type": "markdown",
   "metadata": {},
   "source": [
    "### Datasets"
   ]
  },
  {
   "cell_type": "code",
   "execution_count": 51,
   "metadata": {},
   "outputs": [],
   "source": [
    "\n",
    "features = [\"MEI\", \"CO2\", \"CH4\", \"N2O\", \"CFC-11\", \"CFC-12\", \"TSI\", \"Aerosols\"]  # Features\n",
    "target = [\"Temp\"] # taget\n",
    "\n",
    "# Splitting into training and testing\n",
    "year = 2006  # Specific year for splitting\n",
    "train, test= df1[df1['Year'] <= year], df1[df1['Year'] > year]\n",
    "X_train, X_test = train.get(features), test.get(features)\n",
    "X_train, X_test = np.column_stack((np.ones(len(X_train)), X_train)), np.column_stack((np.ones(len(X_test)), X_test))\n",
    "y_train, y_test = train.get(target), test.get(target)\n",
    "X_train, X_test, y_train, y_test = np.mat(X_train), np.mat(X_test), np.mat(y_train), np.mat(y_test)"
   ]
  },
  {
   "cell_type": "markdown",
   "metadata": {},
   "source": [
    "#### Parameters"
   ]
  },
  {
   "cell_type": "code",
   "execution_count": 52,
   "metadata": {},
   "outputs": [],
   "source": [
    "# Define parameters\n",
    "alpha = 0.01  # Learning rate\n",
    "iterations = 1000  # The number of iterations"
   ]
  },
  {
   "cell_type": "markdown",
   "metadata": {},
   "source": [
    "#### Run"
   ]
  },
  {
   "cell_type": "code",
   "execution_count": 53,
   "metadata": {},
   "outputs": [
    {
     "name": "stdout",
     "output_type": "stream",
     "text": [
      "Initial cost: 0.047\n",
      "(284, 9) (9, 1) (284, 1)\n",
      "Final cost: 0.014 \n",
      "Final theta: [-0.008, -0.008, 0.023, 0.108, 0.007, 0.018, 0.111, 0.014, -0.008]\n"
     ]
    },
    {
     "data": {
      "image/png": "[encoded data removed]",
      "text/plain": [
       "<Figure size 432x288 with 1 Axes>"
      ]
     },
     "metadata": {
      "needs_background": "light"
     },
     "output_type": "display_data"
    }
   ],
   "source": [
    "# Initial\n",
    "theta_init = np.zeros((X_train.shape[1], 1))\n",
    "J_init = costFunction(X_train, y_train, theta_init)\n",
    "print(\"Initial cost:\", J_init.round(3))\n",
    "\n",
    "## Gradient descent method (normalizaed)\n",
    "result = gradientDescent(X_train, y_train, theta_init, alpha, iterations)\n",
    "theta, J_history = result[0], pd.DataFrame(result[1])\n",
    "\n",
    "J_history.plot.line()\n",
    "J_final = float(J_history.round(3)[-1:][0])\n",
    "print(\"Final cost:\", J_final, \"\\nFinal theta:\",\n",
    "      [i[0] for i in theta.round(3)])"
   ]
  },
  {
   "cell_type": "markdown",
   "metadata": {},
   "source": [
    "#### Compare with theta(s)=0"
   ]
  },
  {
   "cell_type": "code",
   "execution_count": 54,
   "metadata": {},
   "outputs": [
    {
     "data": {
      "text/plain": [
       "<matplotlib.axes._subplots.AxesSubplot at 0x225f5098148>"
      ]
     },
     "execution_count": 54,
     "metadata": {},
     "output_type": "execute_result"
    },
    {
     "data": {
      "image/png": "[encoded data removed]",
      "text/plain": [
       "<Figure size 432x288 with 1 Axes>"
      ]
     },
     "metadata": {
      "needs_background": "light"
     },
     "output_type": "display_data"
    }
   ],
   "source": [
    "comparison = {'Init': [J_init.round(2)], \n",
    "              'Final': [float(J_history[-1:][0])]}\n",
    "pd.DataFrame(comparison).plot.bar()"
   ]
  }
 ],
 "metadata": {
  "file_extension": ".py",
  "kernelspec": {
   "display_name": "Python 3",
   "language": "python",
   "name": "python3"
  },
  "language_info": {
   "codemirror_mode": {
    "name": "ipython",
    "version": 3
   },
   "file_extension": ".py",
   "mimetype": "text/x-python",
   "name": "python",
   "nbconvert_exporter": "python",
   "pygments_lexer": "ipython3",
   "version": "3.7.4"
  },
  "mimetype": "text/x-python",
  "name": "python",
  "npconvert_exporter": "python",
  "pygments_lexer": "ipython3",
  "toc-showtags": false,
  "version": 3
 },
 "nbformat": 4,
 "nbformat_minor": 4
}
