{
 "cells": [
  {
   "cell_type": "markdown",
   "metadata": {},
   "source": [
    "Task: Predicting Sina Weibo Interaction Behaviours"
   ]
  },
  {
   "cell_type": "markdown",
   "metadata": {},
   "source": [
    "# Import"
   ]
  },
  {
   "cell_type": "code",
   "execution_count": 1,
   "metadata": {},
   "outputs": [],
   "source": [
    "import sys\n",
    "import numpy as np\n",
    "import pandas as pd\n",
    "import matplotlib.pyplot as plt\n",
    "import seaborn as sns"
   ]
  },
  {
   "cell_type": "code",
   "execution_count": 2,
   "metadata": {},
   "outputs": [],
   "source": [
    "df = pd.read_table('./data/weibo_train_data.txt', header=None, sep='\\t')      # training\n",
    "df2 = pd.read_table('./data/weibo_predict_data.txt', header=None, sep='\\t')   # predicting"
   ]
  },
  {
   "cell_type": "markdown",
   "metadata": {},
   "source": [
    "# Exploration"
   ]
  },
  {
   "cell_type": "markdown",
   "metadata": {},
   "source": [
    "### Structure"
   ]
  },
  {
   "cell_type": "code",
   "execution_count": 3,
   "metadata": {},
   "outputs": [
    {
     "data": {
      "text/html": [
       "<div>\n",
       "<style scoped>\n",
       "    .dataframe tbody tr th:only-of-type {\n",
       "        vertical-align: middle;\n",
       "    }\n",
       "\n",
       "    .dataframe tbody tr th {\n",
       "        vertical-align: top;\n",
       "    }\n",
       "\n",
       "    .dataframe thead th {\n",
       "        text-align: right;\n",
       "    }\n",
       "</style>\n",
       "<table border=\"1\" class=\"dataframe\">\n",
       "  <thead>\n",
       "    <tr style=\"text-align: right;\">\n",
       "      <th></th>\n",
       "      <th>uid</th>\n",
       "      <th>mid</th>\n",
       "      <th>time</th>\n",
       "      <th>f</th>\n",
       "      <th>c</th>\n",
       "      <th>l</th>\n",
       "      <th>content</th>\n",
       "    </tr>\n",
       "  </thead>\n",
       "  <tbody>\n",
       "    <tr>\n",
       "      <td>0</td>\n",
       "      <td>d38e9bed5d98110dc2489d0d1cac3c2a</td>\n",
       "      <td>7d45833d9865727a88b960b0603c19f6</td>\n",
       "      <td>2015-02-23 17:41:29</td>\n",
       "      <td>0</td>\n",
       "      <td>0</td>\n",
       "      <td>0</td>\n",
       "      <td>丽江旅游(sz002033)#股票##炒股##财经##理财##投资#推荐包赢股，盈利对半分成...</td>\n",
       "    </tr>\n",
       "    <tr>\n",
       "      <td>1</td>\n",
       "      <td>fa13974743d3fe6ff40d21b872325e9e</td>\n",
       "      <td>8169f1d45051e08ef213bf1106b1225d</td>\n",
       "      <td>2015-02-14 12:49:58</td>\n",
       "      <td>0</td>\n",
       "      <td>0</td>\n",
       "      <td>0</td>\n",
       "      <td>#丁辰灵的红包#挣钱是一种能力，抢红包拼的是技术。我抢到了丁辰灵 和@阚洪岩 一起发出的现金...</td>\n",
       "    </tr>\n",
       "    <tr>\n",
       "      <td>2</td>\n",
       "      <td>da534fe87e7a52777bee5c30573ed5fd</td>\n",
       "      <td>68cd0258c31c2c525f94febea2d9523b</td>\n",
       "      <td>2015-03-31 13:58:06</td>\n",
       "      <td>0</td>\n",
       "      <td>0</td>\n",
       "      <td>0</td>\n",
       "      <td>淘宝网这些傻逼。。。气的劳资有火没地儿发~尼玛，你们都瞎了</td>\n",
       "    </tr>\n",
       "    <tr>\n",
       "      <td>3</td>\n",
       "      <td>e06a22b7e065e559a1f0bf7841a85c51</td>\n",
       "      <td>00b9f86b4915aedb7db943c54fd19d59</td>\n",
       "      <td>2015-06-11 20:39:57</td>\n",
       "      <td>0</td>\n",
       "      <td>4</td>\n",
       "      <td>3</td>\n",
       "      <td>看点不能说的，你们都懂[笑cry]</td>\n",
       "    </tr>\n",
       "    <tr>\n",
       "      <td>4</td>\n",
       "      <td>f9828598f9664d4e347ef2048ce17734</td>\n",
       "      <td>c7f6f66044c0c5a3330e2c5371be6824</td>\n",
       "      <td>2015-03-10 18:02:38</td>\n",
       "      <td>0</td>\n",
       "      <td>0</td>\n",
       "      <td>0</td>\n",
       "      <td>111多张</td>\n",
       "    </tr>\n",
       "  </tbody>\n",
       "</table>\n",
       "</div>"
      ],
      "text/plain": [
       "                                uid                               mid  \\\n",
       "0  d38e9bed5d98110dc2489d0d1cac3c2a  7d45833d9865727a88b960b0603c19f6   \n",
       "1  fa13974743d3fe6ff40d21b872325e9e  8169f1d45051e08ef213bf1106b1225d   \n",
       "2  da534fe87e7a52777bee5c30573ed5fd  68cd0258c31c2c525f94febea2d9523b   \n",
       "3  e06a22b7e065e559a1f0bf7841a85c51  00b9f86b4915aedb7db943c54fd19d59   \n",
       "4  f9828598f9664d4e347ef2048ce17734  c7f6f66044c0c5a3330e2c5371be6824   \n",
       "\n",
       "                  time  f  c  l  \\\n",
       "0  2015-02-23 17:41:29  0  0  0   \n",
       "1  2015-02-14 12:49:58  0  0  0   \n",
       "2  2015-03-31 13:58:06  0  0  0   \n",
       "3  2015-06-11 20:39:57  0  4  3   \n",
       "4  2015-03-10 18:02:38  0  0  0   \n",
       "\n",
       "                                             content  \n",
       "0  丽江旅游(sz002033)#股票##炒股##财经##理财##投资#推荐包赢股，盈利对半分成...  \n",
       "1  #丁辰灵的红包#挣钱是一种能力，抢红包拼的是技术。我抢到了丁辰灵 和@阚洪岩 一起发出的现金...  \n",
       "2                      淘宝网这些傻逼。。。气的劳资有火没地儿发~尼玛，你们都瞎了  \n",
       "3                                  看点不能说的，你们都懂[笑cry]  \n",
       "4                                              111多张  "
      ]
     },
     "execution_count": 3,
     "metadata": {},
     "output_type": "execute_result"
    }
   ],
   "source": [
    "df.columns = ['uid', 'mid', 'time', 'f', 'c', 'l', 'content']\n",
    "df2.columns = ['uid', 'mid', 'time', 'content']\n",
    "df.head()"
   ]
  },
  {
   "cell_type": "markdown",
   "metadata": {},
   "source": [
    "### Statistics"
   ]
  },
  {
   "cell_type": "code",
   "execution_count": 4,
   "metadata": {},
   "outputs": [
    {
     "data": {
      "text/html": [
       "<div>\n",
       "<style scoped>\n",
       "    .dataframe tbody tr th:only-of-type {\n",
       "        vertical-align: middle;\n",
       "    }\n",
       "\n",
       "    .dataframe tbody tr th {\n",
       "        vertical-align: top;\n",
       "    }\n",
       "\n",
       "    .dataframe thead th {\n",
       "        text-align: right;\n",
       "    }\n",
       "</style>\n",
       "<table border=\"1\" class=\"dataframe\">\n",
       "  <thead>\n",
       "    <tr style=\"text-align: right;\">\n",
       "      <th></th>\n",
       "      <th>f</th>\n",
       "      <th>c</th>\n",
       "      <th>l</th>\n",
       "    </tr>\n",
       "  </thead>\n",
       "  <tbody>\n",
       "    <tr>\n",
       "      <td>count</td>\n",
       "      <td>1225088.000</td>\n",
       "      <td>1225088.000</td>\n",
       "      <td>1225088.000</td>\n",
       "    </tr>\n",
       "    <tr>\n",
       "      <td>mean</td>\n",
       "      <td>3.541</td>\n",
       "      <td>1.257</td>\n",
       "      <td>2.217</td>\n",
       "    </tr>\n",
       "    <tr>\n",
       "      <td>std</td>\n",
       "      <td>85.285</td>\n",
       "      <td>19.333</td>\n",
       "      <td>41.264</td>\n",
       "    </tr>\n",
       "    <tr>\n",
       "      <td>min</td>\n",
       "      <td>0.000</td>\n",
       "      <td>0.000</td>\n",
       "      <td>0.000</td>\n",
       "    </tr>\n",
       "    <tr>\n",
       "      <td>25%</td>\n",
       "      <td>0.000</td>\n",
       "      <td>0.000</td>\n",
       "      <td>0.000</td>\n",
       "    </tr>\n",
       "    <tr>\n",
       "      <td>50%</td>\n",
       "      <td>0.000</td>\n",
       "      <td>0.000</td>\n",
       "      <td>0.000</td>\n",
       "    </tr>\n",
       "    <tr>\n",
       "      <td>75%</td>\n",
       "      <td>0.000</td>\n",
       "      <td>0.000</td>\n",
       "      <td>1.000</td>\n",
       "    </tr>\n",
       "    <tr>\n",
       "      <td>max</td>\n",
       "      <td>41850.000</td>\n",
       "      <td>7467.000</td>\n",
       "      <td>11871.000</td>\n",
       "    </tr>\n",
       "    <tr>\n",
       "      <td>skew</td>\n",
       "      <td>193.439</td>\n",
       "      <td>192.929</td>\n",
       "      <td>114.572</td>\n",
       "    </tr>\n",
       "    <tr>\n",
       "      <td>mad</td>\n",
       "      <td>6.229</td>\n",
       "      <td>2.030</td>\n",
       "      <td>3.591</td>\n",
       "    </tr>\n",
       "    <tr>\n",
       "      <td>kurt</td>\n",
       "      <td>65466.076</td>\n",
       "      <td>58653.611</td>\n",
       "      <td>22911.779</td>\n",
       "    </tr>\n",
       "  </tbody>\n",
       "</table>\n",
       "</div>"
      ],
      "text/plain": [
       "                 f            c            l\n",
       "count  1225088.000  1225088.000  1225088.000\n",
       "mean         3.541        1.257        2.217\n",
       "std         85.285       19.333       41.264\n",
       "min          0.000        0.000        0.000\n",
       "25%          0.000        0.000        0.000\n",
       "50%          0.000        0.000        0.000\n",
       "75%          0.000        0.000        1.000\n",
       "max      41850.000     7467.000    11871.000\n",
       "skew       193.439      192.929      114.572\n",
       "mad          6.229        2.030        3.591\n",
       "kurt     65466.076    58653.611    22911.779"
      ]
     },
     "execution_count": 4,
     "metadata": {},
     "output_type": "execute_result"
    }
   ],
   "source": [
    "def describe(df, stats): # additional parameters\n",
    "    d = df.describe()\n",
    "    return d.append(df.reindex(d.columns, axis=\"columns\").agg(stats))\n",
    "\n",
    "describe(df, ['skew', 'mad', 'kurt']).round(3)"
   ]
  },
  {
   "cell_type": "markdown",
   "metadata": {},
   "source": [
    "### Missing values"
   ]
  },
  {
   "cell_type": "code",
   "execution_count": 5,
   "metadata": {},
   "outputs": [
    {
     "name": "stdout",
     "output_type": "stream",
     "text": [
      "<class 'pandas.core.frame.DataFrame'>\n",
      "RangeIndex: 1225088 entries, 0 to 1225087\n",
      "Data columns (total 3 columns):\n",
      "f    1225088 non-null int64\n",
      "c    1225088 non-null int64\n",
      "l    1225088 non-null int64\n",
      "dtypes: int64(3)\n",
      "memory usage: 28.0 MB\n"
     ]
    }
   ],
   "source": [
    "df[['f', 'c', 'l']].info()"
   ]
  },
  {
   "cell_type": "markdown",
   "metadata": {},
   "source": [
    "### Duplications"
   ]
  },
  {
   "cell_type": "markdown",
   "metadata": {},
   "source": [
    "Duplicated records:"
   ]
  },
  {
   "cell_type": "code",
   "execution_count": 6,
   "metadata": {},
   "outputs": [
    {
     "data": {
      "text/plain": [
       "0"
      ]
     },
     "execution_count": 6,
     "metadata": {},
     "output_type": "execute_result"
    }
   ],
   "source": [
    "len(df[df.duplicated()])"
   ]
  },
  {
   "cell_type": "markdown",
   "metadata": {},
   "source": [
    "Duplicated users:"
   ]
  },
  {
   "cell_type": "code",
   "execution_count": 7,
   "metadata": {},
   "outputs": [],
   "source": [
    "user_counts = df['uid'][df['uid'].duplicated()].value_counts()"
   ]
  },
  {
   "cell_type": "code",
   "execution_count": 8,
   "metadata": {},
   "outputs": [
    {
     "data": {
      "text/html": [
       "<div>\n",
       "<style scoped>\n",
       "    .dataframe tbody tr th:only-of-type {\n",
       "        vertical-align: middle;\n",
       "    }\n",
       "\n",
       "    .dataframe tbody tr th {\n",
       "        vertical-align: top;\n",
       "    }\n",
       "\n",
       "    .dataframe thead th {\n",
       "        text-align: right;\n",
       "    }\n",
       "</style>\n",
       "<table border=\"1\" class=\"dataframe\">\n",
       "  <thead>\n",
       "    <tr style=\"text-align: right;\">\n",
       "      <th></th>\n",
       "      <th>uid</th>\n",
       "    </tr>\n",
       "  </thead>\n",
       "  <tbody>\n",
       "    <tr>\n",
       "      <td>875a4a77b339d93f819e2c4de5bd0b57</td>\n",
       "      <td>31014</td>\n",
       "    </tr>\n",
       "    <tr>\n",
       "      <td>0faddeeabf8b2cfd75afc6ad9c1ba2da</td>\n",
       "      <td>17159</td>\n",
       "    </tr>\n",
       "    <tr>\n",
       "      <td>7511e346911dd7d1e38f11485abb25c5</td>\n",
       "      <td>12012</td>\n",
       "    </tr>\n",
       "    <tr>\n",
       "      <td>c35d635cd9d875e63fcaff8e4f1398a9</td>\n",
       "      <td>7874</td>\n",
       "    </tr>\n",
       "    <tr>\n",
       "      <td>c60533fdb5278412b14379f693f77dd5</td>\n",
       "      <td>7800</td>\n",
       "    </tr>\n",
       "  </tbody>\n",
       "</table>\n",
       "</div>"
      ],
      "text/plain": [
       "                                    uid\n",
       "875a4a77b339d93f819e2c4de5bd0b57  31014\n",
       "0faddeeabf8b2cfd75afc6ad9c1ba2da  17159\n",
       "7511e346911dd7d1e38f11485abb25c5  12012\n",
       "c35d635cd9d875e63fcaff8e4f1398a9   7874\n",
       "c60533fdb5278412b14379f693f77dd5   7800"
      ]
     },
     "execution_count": 8,
     "metadata": {},
     "output_type": "execute_result"
    }
   ],
   "source": [
    "pd.DataFrame(user_counts[:5])"
   ]
  },
  {
   "cell_type": "code",
   "execution_count": 9,
   "metadata": {},
   "outputs": [
    {
     "data": {
      "text/plain": [
       "<matplotlib.axes._subplots.AxesSubplot at 0x2780e16bf48>"
      ]
     },
     "execution_count": 9,
     "metadata": {},
     "output_type": "execute_result"
    },
    {
     "data": {
      "image/png": "[encoded data removed]",
      "text/plain": [
       "<Figure size 1536x384 with 1 Axes>"
      ]
     },
     "metadata": {
      "needs_background": "light"
     },
     "output_type": "display_data"
    }
   ],
   "source": [
    "\n",
    "plt.figure(figsize=(12,3), dpi=128)\n",
    "user_counts[:200].plot()# top 200"
   ]
  },
  {
   "cell_type": "markdown",
   "metadata": {},
   "source": [
    "### Outliers"
   ]
  },
  {
   "cell_type": "code",
   "execution_count": 10,
   "metadata": {},
   "outputs": [
    {
     "data": {
      "image/png": "[encoded data removed]",
      "text/plain": [
       "<Figure size 1536x640 with 3 Axes>"
      ]
     },
     "metadata": {
      "needs_background": "light"
     },
     "output_type": "display_data"
    }
   ],
   "source": [
    "\n",
    "outlier = plt.figure(figsize=(12,5), dpi=128)\n",
    "\n",
    "for i in range(1,4):\n",
    "    outlier.add_subplot(1, 3, i)\n",
    "    df[[['f', 'c', 'l'][i-1]]].boxplot()"
   ]
  },
  {
   "cell_type": "markdown",
   "metadata": {},
   "source": [
    "### Correlation"
   ]
  },
  {
   "cell_type": "code",
   "execution_count": 11,
   "metadata": {},
   "outputs": [
    {
     "data": {
      "text/html": [
       "<div>\n",
       "<style scoped>\n",
       "    .dataframe tbody tr th:only-of-type {\n",
       "        vertical-align: middle;\n",
       "    }\n",
       "\n",
       "    .dataframe tbody tr th {\n",
       "        vertical-align: top;\n",
       "    }\n",
       "\n",
       "    .dataframe thead th {\n",
       "        text-align: right;\n",
       "    }\n",
       "</style>\n",
       "<table border=\"1\" class=\"dataframe\">\n",
       "  <thead>\n",
       "    <tr style=\"text-align: right;\">\n",
       "      <th></th>\n",
       "      <th>f</th>\n",
       "      <th>c</th>\n",
       "      <th>l</th>\n",
       "    </tr>\n",
       "  </thead>\n",
       "  <tbody>\n",
       "    <tr>\n",
       "      <td>f</td>\n",
       "      <td>1.000</td>\n",
       "      <td>0.579</td>\n",
       "      <td>0.554</td>\n",
       "    </tr>\n",
       "    <tr>\n",
       "      <td>c</td>\n",
       "      <td>0.579</td>\n",
       "      <td>1.000</td>\n",
       "      <td>0.617</td>\n",
       "    </tr>\n",
       "    <tr>\n",
       "      <td>l</td>\n",
       "      <td>0.554</td>\n",
       "      <td>0.617</td>\n",
       "      <td>1.000</td>\n",
       "    </tr>\n",
       "  </tbody>\n",
       "</table>\n",
       "</div>"
      ],
      "text/plain": [
       "       f      c      l\n",
       "f  1.000  0.579  0.554\n",
       "c  0.579  1.000  0.617\n",
       "l  0.554  0.617  1.000"
      ]
     },
     "execution_count": 11,
     "metadata": {},
     "output_type": "execute_result"
    }
   ],
   "source": [
    "import numpy as np\n",
    "corr = df[['f', 'c', 'l']].corr()\n",
    "high_corr = corr[np.abs(corr) > 0.5].fillna(0)\n",
    "high_corr[np.abs(corr) > 0.5].fillna(0).round(3)"
   ]
  },
  {
   "cell_type": "code",
   "execution_count": 12,
   "metadata": {},
   "outputs": [
    {
     "data": {
      "image/png": "[encoded data removed]",
      "text/plain": [
       "<Figure size 768x512 with 2 Axes>"
      ]
     },
     "metadata": {
      "needs_background": "light"
     },
     "output_type": "display_data"
    }
   ],
   "source": [
    "plt.figure(dpi=128)\n",
    "ax = sns.heatmap(\n",
    "    high_corr,\n",
    "    vmin=-1, vmax=1, center=0,\n",
    "    cmap=sns.diverging_palette(20, 220, n=200),\n",
    "    square=True\n",
    ")\n",
    "ax.set_xticklabels(\n",
    "    ax.get_xticklabels(),\n",
    "    rotation=45,\n",
    "    horizontalalignment='right'\n",
    ");"
   ]
  },
  {
   "cell_type": "markdown",
   "metadata": {},
   "source": [
    "## Constants and features"
   ]
  },
  {
   "cell_type": "markdown",
   "metadata": {
    "toc-hr-collapsed": false
   },
   "source": [
    "### Constants"
   ]
  },
  {
   "cell_type": "markdown",
   "metadata": {},
   "source": [
    "General constants are effective predicting values for some tweets.   "
   ]
  },
  {
   "cell_type": "markdown",
   "metadata": {},
   "source": [
    "#### Mean"
   ]
  },
  {
   "cell_type": "markdown",
   "metadata": {},
   "source": [
    "Use mean, generally."
   ]
  },
  {
   "cell_type": "code",
   "execution_count": 13,
   "metadata": {},
   "outputs": [
    {
     "data": {
      "text/plain": [
       "(3, 1, 2)"
      ]
     },
     "execution_count": 13,
     "metadata": {},
     "output_type": "execute_result"
    }
   ],
   "source": [
    "f_mean = int(df.f.mean()) # only integers according to the task description\n",
    "c_mean = int(df.c.mean())\n",
    "l_mean = int(df.l.mean())\n",
    "f_mean, c_mean, l_mean"
   ]
  },
  {
   "cell_type": "markdown",
   "metadata": {},
   "source": [
    "#### Median"
   ]
  },
  {
   "cell_type": "markdown",
   "metadata": {},
   "source": [
    "Use median, since high skewness"
   ]
  },
  {
   "cell_type": "code",
   "execution_count": 14,
   "metadata": {},
   "outputs": [
    {
     "data": {
      "text/plain": [
       "(0, 0, 0)"
      ]
     },
     "execution_count": 14,
     "metadata": {},
     "output_type": "execute_result"
    }
   ],
   "source": [
    "f_median = int(df.f.median()) # only integers according to the task description\n",
    "c_median = int(df.c.median())\n",
    "l_median = int(df.l.median())\n",
    "f_median, c_median, l_median"
   ]
  },
  {
   "cell_type": "markdown",
   "metadata": {},
   "source": [
    "##### TODO: Considering median for unique users since all medians are zero."
   ]
  },
  {
   "cell_type": "markdown",
   "metadata": {},
   "source": [
    "## Sorting"
   ]
  },
  {
   "cell_type": "code",
   "execution_count": 15,
   "metadata": {},
   "outputs": [
    {
     "data": {
      "text/html": [
       "<div>\n",
       "<style scoped>\n",
       "    .dataframe tbody tr th:only-of-type {\n",
       "        vertical-align: middle;\n",
       "    }\n",
       "\n",
       "    .dataframe tbody tr th {\n",
       "        vertical-align: top;\n",
       "    }\n",
       "\n",
       "    .dataframe thead th {\n",
       "        text-align: right;\n",
       "    }\n",
       "</style>\n",
       "<table border=\"1\" class=\"dataframe\">\n",
       "  <thead>\n",
       "    <tr style=\"text-align: right;\">\n",
       "      <th></th>\n",
       "      <th>uid</th>\n",
       "      <th>mid</th>\n",
       "      <th>time</th>\n",
       "      <th>f</th>\n",
       "      <th>c</th>\n",
       "      <th>l</th>\n",
       "      <th>content</th>\n",
       "    </tr>\n",
       "  </thead>\n",
       "  <tbody>\n",
       "    <tr>\n",
       "      <td>78155</td>\n",
       "      <td>ffff5e493015a9240bd4d29de15ef55b</td>\n",
       "      <td>6f10a53787eeb7f79741f44620d0f058</td>\n",
       "      <td>2015-06-04 13:54:19</td>\n",
       "      <td>1</td>\n",
       "      <td>0</td>\n",
       "      <td>0</td>\n",
       "      <td>【滴滴专车】终于等到您，恭喜通过审核，正式成为专车司机！您的登陆账号：13718124000...</td>\n",
       "    </tr>\n",
       "    <tr>\n",
       "      <td>280520</td>\n",
       "      <td>ffff5e493015a9240bd4d29de15ef55b</td>\n",
       "      <td>8cb2af37fe818c3d8b58370c8ad94e1d</td>\n",
       "      <td>2015-02-08 01:04:25</td>\n",
       "      <td>1</td>\n",
       "      <td>9</td>\n",
       "      <td>0</td>\n",
       "      <td>静不下心看书了，咋办@刘曼_missL</td>\n",
       "    </tr>\n",
       "    <tr>\n",
       "      <td>404249</td>\n",
       "      <td>ffff5e493015a9240bd4d29de15ef55b</td>\n",
       "      <td>60d8206c24b8cb3a08f51b23d0f82cef</td>\n",
       "      <td>2015-06-21 17:24:46</td>\n",
       "      <td>1</td>\n",
       "      <td>4</td>\n",
       "      <td>0</td>\n",
       "      <td>798 http://t.cn/R2Wx6Sv</td>\n",
       "    </tr>\n",
       "    <tr>\n",
       "      <td>409066</td>\n",
       "      <td>ffff5e493015a9240bd4d29de15ef55b</td>\n",
       "      <td>8156e096c12e013bdc3a14fa0cdbe1a8</td>\n",
       "      <td>2015-02-07 08:03:23</td>\n",
       "      <td>1</td>\n",
       "      <td>3</td>\n",
       "      <td>1</td>\n",
       "      <td>12期，每期528元</td>\n",
       "    </tr>\n",
       "    <tr>\n",
       "      <td>550083</td>\n",
       "      <td>ffff5e493015a9240bd4d29de15ef55b</td>\n",
       "      <td>d583bb36db72d30d0ff71cacefbd3e13</td>\n",
       "      <td>2015-03-21 18:46:11</td>\n",
       "      <td>1</td>\n",
       "      <td>0</td>\n",
       "      <td>0</td>\n",
       "      <td>【张三丰为什么没有去找过郭襄？】木先生 : 和“志向、脱俗”无关。这事，终究不过一个“情”字...</td>\n",
       "    </tr>\n",
       "  </tbody>\n",
       "</table>\n",
       "</div>"
      ],
      "text/plain": [
       "                                     uid                               mid  \\\n",
       "78155   ffff5e493015a9240bd4d29de15ef55b  6f10a53787eeb7f79741f44620d0f058   \n",
       "280520  ffff5e493015a9240bd4d29de15ef55b  8cb2af37fe818c3d8b58370c8ad94e1d   \n",
       "404249  ffff5e493015a9240bd4d29de15ef55b  60d8206c24b8cb3a08f51b23d0f82cef   \n",
       "409066  ffff5e493015a9240bd4d29de15ef55b  8156e096c12e013bdc3a14fa0cdbe1a8   \n",
       "550083  ffff5e493015a9240bd4d29de15ef55b  d583bb36db72d30d0ff71cacefbd3e13   \n",
       "\n",
       "                       time  f  c  l  \\\n",
       "78155   2015-06-04 13:54:19  1  0  0   \n",
       "280520  2015-02-08 01:04:25  1  9  0   \n",
       "404249  2015-06-21 17:24:46  1  4  0   \n",
       "409066  2015-02-07 08:03:23  1  3  1   \n",
       "550083  2015-03-21 18:46:11  1  0  0   \n",
       "\n",
       "                                                  content  \n",
       "78155   【滴滴专车】终于等到您，恭喜通过审核，正式成为专车司机！您的登陆账号：13718124000...  \n",
       "280520                                静不下心看书了，咋办@刘曼_missL  \n",
       "404249                            798 http://t.cn/R2Wx6Sv  \n",
       "409066                                         12期，每期528元  \n",
       "550083  【张三丰为什么没有去找过郭襄？】木先生 : 和“志向、脱俗”无关。这事，终究不过一个“情”字...  "
      ]
     },
     "execution_count": 15,
     "metadata": {},
     "output_type": "execute_result"
    }
   ],
   "source": [
    "df  = df.sort_values( by=['uid', 'f'], ascending=False)\n",
    "df2 = df2.sort_values(by=['uid'],      ascending=False)\n",
    "df.head()"
   ]
  },
  {
   "cell_type": "code",
   "execution_count": 16,
   "metadata": {},
   "outputs": [
    {
     "name": "stdout",
     "output_type": "stream",
     "text": [
      "699 users from predicting data are not in the training data\n"
     ]
    }
   ],
   "source": [
    "users = pd.DataFrame(df2['uid'].unique()).isin(df['uid'].unique())\n",
    "users.columns = ['in_train']\n",
    "print(len(users[users['in_train'] == False]), \"users from predicting data are not in the training data\")"
   ]
  },
  {
   "cell_type": "code",
   "execution_count": 17,
   "metadata": {},
   "outputs": [
    {
     "ename": "SyntaxError",
     "evalue": "invalid syntax (<ipython-input-17-71f11347ebfc>, line 1)",
     "output_type": "error",
     "traceback": [
      "\u001b[1;36m  File \u001b[1;32m\"<ipython-input-17-71f11347ebfc>\"\u001b[1;36m, line \u001b[1;32m1\u001b[0m\n\u001b[1;33m    df[]\u001b[0m\n\u001b[1;37m       ^\u001b[0m\n\u001b[1;31mSyntaxError\u001b[0m\u001b[1;31m:\u001b[0m invalid syntax\n"
     ]
    }
   ],
   "source": [
    "df[]"
   ]
  },
  {
   "cell_type": "markdown",
   "metadata": {},
   "source": [
    "### Features"
   ]
  },
  {
   "cell_type": "code",
   "execution_count": null,
   "metadata": {},
   "outputs": [],
   "source": []
  },
  {
   "cell_type": "markdown",
   "metadata": {},
   "source": [
    "## Scores"
   ]
  },
  {
   "cell_type": "code",
   "execution_count": null,
   "metadata": {},
   "outputs": [],
   "source": [
    "df_test = pd.DataFrame({\n",
    "    'id':[1, 2, 3, 4, 5],\n",
    "    'f':[333, 1, 0, 0, 1],\n",
    "    'fp':[0, 0, 0, 0, 0],\n",
    "    'c':[222, 3, 0, 1, 0],\n",
    "    'cp':[0, 0, 0, 0, 0],\n",
    "    'l':[250, 2, 1, 0, 0],\n",
    "    'lp':[0, 0, 0, 0, 0],\n",
    "})\n",
    "df_test"
   ]
  },
  {
   "cell_type": "code",
   "execution_count": null,
   "metadata": {},
   "outputs": [],
   "source": [
    "df_test['precision'] =  df_test.apply(lambda x: 1 - 0.5  * abs( x['fp'] - x['f'] ) / ( x['f'] + 5) \\\n",
    "                                                  - 0.25 * abs( x['cp'] - x['c'] ) / ( x['c'] + 3) \\\n",
    "                                                  - 0.25 * abs( x['lp']    - x['l'])    / ( x['l'] + 3)     , axis=1)\n",
    "df_test"
   ]
  },
  {
   "cell_type": "markdown",
   "metadata": {},
   "source": [
    "#### TODO: score function"
   ]
  },
  {
   "cell_type": "code",
   "execution_count": null,
   "metadata": {},
   "outputs": [],
   "source": [
    "def score(df, times=2):\n",
    "    df['precision'] =  df.apply(lambda x: 1 - 0.5  * abs( x['fp'] - x['f'] ) / ( x['f'] + 5) \\\n",
    "                                                  - 0.25 * abs( x['cp'] - x['c'] ) / ( x['c'] + 3) \\\n",
    "                                                  - 0.25 * abs( x['lp']    - x['l'])    / ( x['l'] + 3)     , axis=1)\n",
    "    return \n",
    "score(df_test)"
   ]
  },
  {
   "cell_type": "markdown",
   "metadata": {},
   "source": [
    "## Predict"
   ]
  },
  {
   "cell_type": "markdown",
   "metadata": {},
   "source": [
    "- Predict with 0,0,0,  online accuracy: 22.94%"
   ]
  },
  {
   "cell_type": "code",
   "execution_count": 132,
   "metadata": {},
   "outputs": [
    {
     "name": "stderr",
     "output_type": "stream",
     "text": [
      "C:\\Users\\oyrx\\Anaconda3\\lib\\site-packages\\ipykernel_launcher.py:3: SettingWithCopyWarning: \n",
      "A value is trying to be set on a copy of a slice from a DataFrame.\n",
      "Try using .loc[row_indexer,col_indexer] = value instead\n",
      "\n",
      "See the caveats in the documentation: http://pandas.pydata.org/pandas-docs/stable/user_guide/indexing.html#returning-a-view-versus-a-copy\n",
      "  This is separate from the ipykernel package so we can avoid doing imports until\n"
     ]
    }
   ],
   "source": [
    "# dfp: a new pandas DF for predicting\n",
    "dfp = df2[['uid', 'mid']]\n",
    "dfp['fp,cp,lp'] = str(\"0,0,0\")\n",
    "dfp.to_csv(\"./output/result_000.txt\", header = False, sep = \"\\t\", index = False)"
   ]
  },
  {
   "cell_type": "markdown",
   "metadata": {},
   "source": [
    "Predict with 0,1,0, online accuracy: 23.26%"
   ]
  },
  {
   "cell_type": "code",
   "execution_count": 29,
   "metadata": {},
   "outputs": [
    {
     "name": "stderr",
     "output_type": "stream",
     "text": [
      "C:\\Users\\oyrx\\Anaconda3\\lib\\site-packages\\ipykernel_launcher.py:3: SettingWithCopyWarning: \n",
      "A value is trying to be set on a copy of a slice from a DataFrame.\n",
      "Try using .loc[row_indexer,col_indexer] = value instead\n",
      "\n",
      "See the caveats in the documentation: http://pandas.pydata.org/pandas-docs/stable/user_guide/indexing.html#returning-a-view-versus-a-copy\n",
      "  This is separate from the ipykernel package so we can avoid doing imports until\n"
     ]
    }
   ],
   "source": [
    "# dfp: a new pandas DF for predicting\n",
    "dfp = df2[['uid', 'mid']]\n",
    "dfp['fp,cp,lp'] = str(\"0,1,0\")\n",
    "dfp.to_csv(\"./output/result_010.txt\", \n",
    "           header = False, \n",
    "           sep = \"\\t\", \n",
    "           index = False)"
   ]
  },
  {
   "cell_type": "markdown",
   "metadata": {},
   "source": [
    "Predict with individual history median and fillna() with 0, online accuracy 29.38%"
   ]
  },
  {
   "cell_type": "code",
   "execution_count": 28,
   "metadata": {},
   "outputs": [],
   "source": [
    "# dfp: a new pandas DF for predicting\n",
    "dfp = df2[['uid', 'mid']]\n",
    "m = df.groupby(['uid'])[['f', 'c', 'l']].median()\n",
    "m = m.sort_values(by='f', ascending=False)\n",
    "# dfp = pd.merge(dfp, m, how='left', on='uid')\n",
    "dfp = pd.merge(dfp, m, how='left', on='uid').sort_values(by='f',\n",
    "                                                         ascending=False)\n",
    "dfp = dfp.fillna(0)\n",
    "dfp = dfp.assign(\n",
    "    predict=dfp.f.astype(int).astype(str) + ',' +\n",
    "    dfp.c.astype(int).astype(str) + ',' +\n",
    "    dfp.l.astype(int).astype(str))  # long but faster than apply lambda\n",
    "dfp = dfp[['uid', 'mid', 'predict']]\n",
    "dfp.head()\n",
    "dfp.to_csv(\"./output/result_user_median.txt\",\n",
    "           header=False,\n",
    "           sep=\"\\t\",\n",
    "           index=False)\n"
   ]
  },
  {
   "cell_type": "code",
   "execution_count": null,
   "metadata": {},
   "outputs": [],
   "source": []
  }
 ],
 "metadata": {
  "kernelspec": {
   "display_name": "Python 3",
   "language": "python",
   "name": "python3"
  },
  "language_info": {
   "codemirror_mode": {
    "name": "ipython",
    "version": 3
   },
   "file_extension": ".py",
   "mimetype": "text/x-python",
   "name": "python",
   "nbconvert_exporter": "python",
   "pygments_lexer": "ipython3",
   "version": "3.7.4"
  }
 },
 "nbformat": 4,
 "nbformat_minor": 4
}
