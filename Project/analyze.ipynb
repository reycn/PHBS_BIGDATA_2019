{
 "cells": [
  {
   "cell_type": "markdown",
   "metadata": {},
   "source": [
    "Task: Predicting Sina Weibo Interaction Behaviours"
   ]
  },
  {
   "cell_type": "markdown",
   "metadata": {},
   "source": [
    "# Import"
   ]
  },
  {
   "cell_type": "code",
   "execution_count": 1,
   "metadata": {},
   "outputs": [],
   "source": [
    "import sys\n",
    "import numpy as np\n",
    "import pandas as pd\n",
    "import matplotlib.pyplot as plt\n",
    "import seaborn as sns"
   ]
  },
  {
   "cell_type": "code",
   "execution_count": 2,
   "metadata": {},
   "outputs": [],
   "source": [
    "df = pd.read_table('./data/weibo_train_data.txt', header=None, sep='\\t')      # training\n",
    "df2 = pd.read_table('./data/weibo_predict_data.txt', header=None, sep='\\t')   # predicting"
   ]
  },
  {
   "cell_type": "markdown",
   "metadata": {},
   "source": [
    "# Exploration"
   ]
  },
  {
   "cell_type": "markdown",
   "metadata": {},
   "source": [
    "### Structure"
   ]
  },
  {
   "cell_type": "code",
   "execution_count": 3,
   "metadata": {},
   "outputs": [
    {
     "data": {
      "text/html": [
       "<div>\n",
       "<style scoped>\n",
       "    .dataframe tbody tr th:only-of-type {\n",
       "        vertical-align: middle;\n",
       "    }\n",
       "\n",
       "    .dataframe tbody tr th {\n",
       "        vertical-align: top;\n",
       "    }\n",
       "\n",
       "    .dataframe thead th {\n",
       "        text-align: right;\n",
       "    }\n",
       "</style>\n",
       "<table border=\"1\" class=\"dataframe\">\n",
       "  <thead>\n",
       "    <tr style=\"text-align: right;\">\n",
       "      <th></th>\n",
       "      <th>uid</th>\n",
       "      <th>mid</th>\n",
       "      <th>time</th>\n",
       "      <th>f</th>\n",
       "      <th>c</th>\n",
       "      <th>l</th>\n",
       "      <th>content</th>\n",
       "    </tr>\n",
       "  </thead>\n",
       "  <tbody>\n",
       "    <tr>\n",
       "      <td>0</td>\n",
       "      <td>d38e9bed5d98110dc2489d0d1cac3c2a</td>\n",
       "      <td>7d45833d9865727a88b960b0603c19f6</td>\n",
       "      <td>2015-02-23 17:41:29</td>\n",
       "      <td>0</td>\n",
       "      <td>0</td>\n",
       "      <td>0</td>\n",
       "      <td>丽江旅游(sz002033)#股票##炒股##财经##理财##投资#推荐包赢股，盈利对半分成...</td>\n",
       "    </tr>\n",
       "    <tr>\n",
       "      <td>1</td>\n",
       "      <td>fa13974743d3fe6ff40d21b872325e9e</td>\n",
       "      <td>8169f1d45051e08ef213bf1106b1225d</td>\n",
       "      <td>2015-02-14 12:49:58</td>\n",
       "      <td>0</td>\n",
       "      <td>0</td>\n",
       "      <td>0</td>\n",
       "      <td>#丁辰灵的红包#挣钱是一种能力，抢红包拼的是技术。我抢到了丁辰灵 和@阚洪岩 一起发出的现金...</td>\n",
       "    </tr>\n",
       "    <tr>\n",
       "      <td>2</td>\n",
       "      <td>da534fe87e7a52777bee5c30573ed5fd</td>\n",
       "      <td>68cd0258c31c2c525f94febea2d9523b</td>\n",
       "      <td>2015-03-31 13:58:06</td>\n",
       "      <td>0</td>\n",
       "      <td>0</td>\n",
       "      <td>0</td>\n",
       "      <td>淘宝网这些傻逼。。。气的劳资有火没地儿发~尼玛，你们都瞎了</td>\n",
       "    </tr>\n",
       "    <tr>\n",
       "      <td>3</td>\n",
       "      <td>e06a22b7e065e559a1f0bf7841a85c51</td>\n",
       "      <td>00b9f86b4915aedb7db943c54fd19d59</td>\n",
       "      <td>2015-06-11 20:39:57</td>\n",
       "      <td>0</td>\n",
       "      <td>4</td>\n",
       "      <td>3</td>\n",
       "      <td>看点不能说的，你们都懂[笑cry]</td>\n",
       "    </tr>\n",
       "    <tr>\n",
       "      <td>4</td>\n",
       "      <td>f9828598f9664d4e347ef2048ce17734</td>\n",
       "      <td>c7f6f66044c0c5a3330e2c5371be6824</td>\n",
       "      <td>2015-03-10 18:02:38</td>\n",
       "      <td>0</td>\n",
       "      <td>0</td>\n",
       "      <td>0</td>\n",
       "      <td>111多张</td>\n",
       "    </tr>\n",
       "  </tbody>\n",
       "</table>\n",
       "</div>"
      ],
      "text/plain": [
       "                                uid                               mid  \\\n",
       "0  d38e9bed5d98110dc2489d0d1cac3c2a  7d45833d9865727a88b960b0603c19f6   \n",
       "1  fa13974743d3fe6ff40d21b872325e9e  8169f1d45051e08ef213bf1106b1225d   \n",
       "2  da534fe87e7a52777bee5c30573ed5fd  68cd0258c31c2c525f94febea2d9523b   \n",
       "3  e06a22b7e065e559a1f0bf7841a85c51  00b9f86b4915aedb7db943c54fd19d59   \n",
       "4  f9828598f9664d4e347ef2048ce17734  c7f6f66044c0c5a3330e2c5371be6824   \n",
       "\n",
       "                  time  f  c  l  \\\n",
       "0  2015-02-23 17:41:29  0  0  0   \n",
       "1  2015-02-14 12:49:58  0  0  0   \n",
       "2  2015-03-31 13:58:06  0  0  0   \n",
       "3  2015-06-11 20:39:57  0  4  3   \n",
       "4  2015-03-10 18:02:38  0  0  0   \n",
       "\n",
       "                                             content  \n",
       "0  丽江旅游(sz002033)#股票##炒股##财经##理财##投资#推荐包赢股，盈利对半分成...  \n",
       "1  #丁辰灵的红包#挣钱是一种能力，抢红包拼的是技术。我抢到了丁辰灵 和@阚洪岩 一起发出的现金...  \n",
       "2                      淘宝网这些傻逼。。。气的劳资有火没地儿发~尼玛，你们都瞎了  \n",
       "3                                  看点不能说的，你们都懂[笑cry]  \n",
       "4                                              111多张  "
      ]
     },
     "execution_count": 3,
     "metadata": {},
     "output_type": "execute_result"
    }
   ],
   "source": [
    "df.columns = ['uid', 'mid', 'time', 'f', 'c', 'l', 'content']\n",
    "df2.columns = ['uid', 'mid', 'time', 'content']\n",
    "df.head()"
   ]
  },
  {
   "cell_type": "markdown",
   "metadata": {},
   "source": [
    "### Statistics"
   ]
  },
  {
   "cell_type": "code",
   "execution_count": 4,
   "metadata": {},
   "outputs": [
    {
     "data": {
      "text/html": [
       "<div>\n",
       "<style scoped>\n",
       "    .dataframe tbody tr th:only-of-type {\n",
       "        vertical-align: middle;\n",
       "    }\n",
       "\n",
       "    .dataframe tbody tr th {\n",
       "        vertical-align: top;\n",
       "    }\n",
       "\n",
       "    .dataframe thead th {\n",
       "        text-align: right;\n",
       "    }\n",
       "</style>\n",
       "<table border=\"1\" class=\"dataframe\">\n",
       "  <thead>\n",
       "    <tr style=\"text-align: right;\">\n",
       "      <th></th>\n",
       "      <th>f</th>\n",
       "      <th>c</th>\n",
       "      <th>l</th>\n",
       "    </tr>\n",
       "  </thead>\n",
       "  <tbody>\n",
       "    <tr>\n",
       "      <td>count</td>\n",
       "      <td>1225088.000</td>\n",
       "      <td>1225088.000</td>\n",
       "      <td>1225088.000</td>\n",
       "    </tr>\n",
       "    <tr>\n",
       "      <td>mean</td>\n",
       "      <td>3.541</td>\n",
       "      <td>1.257</td>\n",
       "      <td>2.217</td>\n",
       "    </tr>\n",
       "    <tr>\n",
       "      <td>std</td>\n",
       "      <td>85.285</td>\n",
       "      <td>19.333</td>\n",
       "      <td>41.264</td>\n",
       "    </tr>\n",
       "    <tr>\n",
       "      <td>min</td>\n",
       "      <td>0.000</td>\n",
       "      <td>0.000</td>\n",
       "      <td>0.000</td>\n",
       "    </tr>\n",
       "    <tr>\n",
       "      <td>25%</td>\n",
       "      <td>0.000</td>\n",
       "      <td>0.000</td>\n",
       "      <td>0.000</td>\n",
       "    </tr>\n",
       "    <tr>\n",
       "      <td>50%</td>\n",
       "      <td>0.000</td>\n",
       "      <td>0.000</td>\n",
       "      <td>0.000</td>\n",
       "    </tr>\n",
       "    <tr>\n",
       "      <td>75%</td>\n",
       "      <td>0.000</td>\n",
       "      <td>0.000</td>\n",
       "      <td>1.000</td>\n",
       "    </tr>\n",
       "    <tr>\n",
       "      <td>max</td>\n",
       "      <td>41850.000</td>\n",
       "      <td>7467.000</td>\n",
       "      <td>11871.000</td>\n",
       "    </tr>\n",
       "    <tr>\n",
       "      <td>skew</td>\n",
       "      <td>193.439</td>\n",
       "      <td>192.929</td>\n",
       "      <td>114.572</td>\n",
       "    </tr>\n",
       "    <tr>\n",
       "      <td>mad</td>\n",
       "      <td>6.229</td>\n",
       "      <td>2.030</td>\n",
       "      <td>3.591</td>\n",
       "    </tr>\n",
       "    <tr>\n",
       "      <td>kurt</td>\n",
       "      <td>65466.076</td>\n",
       "      <td>58653.611</td>\n",
       "      <td>22911.779</td>\n",
       "    </tr>\n",
       "  </tbody>\n",
       "</table>\n",
       "</div>"
      ],
      "text/plain": [
       "                 f            c            l\n",
       "count  1225088.000  1225088.000  1225088.000\n",
       "mean         3.541        1.257        2.217\n",
       "std         85.285       19.333       41.264\n",
       "min          0.000        0.000        0.000\n",
       "25%          0.000        0.000        0.000\n",
       "50%          0.000        0.000        0.000\n",
       "75%          0.000        0.000        1.000\n",
       "max      41850.000     7467.000    11871.000\n",
       "skew       193.439      192.929      114.572\n",
       "mad          6.229        2.030        3.591\n",
       "kurt     65466.076    58653.611    22911.779"
      ]
     },
     "execution_count": 4,
     "metadata": {},
     "output_type": "execute_result"
    }
   ],
   "source": [
    "def describe(df, stats): # additional parameters\n",
    "    d = df.describe()\n",
    "    return d.append(df.reindex(d.columns, axis=\"columns\").agg(stats))\n",
    "\n",
    "describe(df, ['skew', 'mad', 'kurt']).round(3)"
   ]
  },
  {
   "cell_type": "markdown",
   "metadata": {},
   "source": [
    "### Missing values"
   ]
  },
  {
   "cell_type": "code",
   "execution_count": 5,
   "metadata": {},
   "outputs": [
    {
     "name": "stdout",
     "output_type": "stream",
     "text": [
      "<class 'pandas.core.frame.DataFrame'>\n",
      "RangeIndex: 1225088 entries, 0 to 1225087\n",
      "Data columns (total 3 columns):\n",
      "f    1225088 non-null int64\n",
      "c    1225088 non-null int64\n",
      "l    1225088 non-null int64\n",
      "dtypes: int64(3)\n",
      "memory usage: 28.0 MB\n"
     ]
    }
   ],
   "source": [
    "df[['f', 'c', 'l']].info()"
   ]
  },
  {
   "cell_type": "markdown",
   "metadata": {},
   "source": [
    "### Duplications"
   ]
  },
  {
   "cell_type": "markdown",
   "metadata": {},
   "source": [
    "Duplicated records:"
   ]
  },
  {
   "cell_type": "code",
   "execution_count": 6,
   "metadata": {},
   "outputs": [
    {
     "data": {
      "text/plain": [
       "0"
      ]
     },
     "execution_count": 6,
     "metadata": {},
     "output_type": "execute_result"
    }
   ],
   "source": [
    "len(df[df.duplicated()])"
   ]
  },
  {
   "cell_type": "markdown",
   "metadata": {},
   "source": [
    "Duplicated users:"
   ]
  },
  {
   "cell_type": "code",
   "execution_count": 7,
   "metadata": {},
   "outputs": [],
   "source": [
    "user_counts = df['uid'][df['uid'].duplicated()].value_counts()"
   ]
  },
  {
   "cell_type": "code",
   "execution_count": 8,
   "metadata": {},
   "outputs": [
    {
     "data": {
      "text/html": [
       "<div>\n",
       "<style scoped>\n",
       "    .dataframe tbody tr th:only-of-type {\n",
       "        vertical-align: middle;\n",
       "    }\n",
       "\n",
       "    .dataframe tbody tr th {\n",
       "        vertical-align: top;\n",
       "    }\n",
       "\n",
       "    .dataframe thead th {\n",
       "        text-align: right;\n",
       "    }\n",
       "</style>\n",
       "<table border=\"1\" class=\"dataframe\">\n",
       "  <thead>\n",
       "    <tr style=\"text-align: right;\">\n",
       "      <th></th>\n",
       "      <th>uid</th>\n",
       "    </tr>\n",
       "  </thead>\n",
       "  <tbody>\n",
       "    <tr>\n",
       "      <td>875a4a77b339d93f819e2c4de5bd0b57</td>\n",
       "      <td>31014</td>\n",
       "    </tr>\n",
       "    <tr>\n",
       "      <td>0faddeeabf8b2cfd75afc6ad9c1ba2da</td>\n",
       "      <td>17159</td>\n",
       "    </tr>\n",
       "    <tr>\n",
       "      <td>7511e346911dd7d1e38f11485abb25c5</td>\n",
       "      <td>12012</td>\n",
       "    </tr>\n",
       "    <tr>\n",
       "      <td>c35d635cd9d875e63fcaff8e4f1398a9</td>\n",
       "      <td>7874</td>\n",
       "    </tr>\n",
       "    <tr>\n",
       "      <td>c60533fdb5278412b14379f693f77dd5</td>\n",
       "      <td>7800</td>\n",
       "    </tr>\n",
       "  </tbody>\n",
       "</table>\n",
       "</div>"
      ],
      "text/plain": [
       "                                    uid\n",
       "875a4a77b339d93f819e2c4de5bd0b57  31014\n",
       "0faddeeabf8b2cfd75afc6ad9c1ba2da  17159\n",
       "7511e346911dd7d1e38f11485abb25c5  12012\n",
       "c35d635cd9d875e63fcaff8e4f1398a9   7874\n",
       "c60533fdb5278412b14379f693f77dd5   7800"
      ]
     },
     "execution_count": 8,
     "metadata": {},
     "output_type": "execute_result"
    }
   ],
   "source": [
    "pd.DataFrame(user_counts[:5])"
   ]
  },
  {
   "cell_type": "code",
   "execution_count": 9,
   "metadata": {},
   "outputs": [
    {
     "data": {
      "text/plain": [
       "<matplotlib.axes._subplots.AxesSubplot at 0x218b16d03c8>"
      ]
     },
     "execution_count": 9,
     "metadata": {},
     "output_type": "execute_result"
    },
    {
     "data": {
      "image/png": "[encoded data removed]",
      "text/plain": [
       "<Figure size 1536x384 with 1 Axes>"
      ]
     },
     "metadata": {
      "needs_background": "light"
     },
     "output_type": "display_data"
    }
   ],
   "source": [
    "\n",
    "plt.figure(figsize=(12,3), dpi=128)\n",
    "user_counts[:200].plot()# top 200"
   ]
  },
  {
   "cell_type": "markdown",
   "metadata": {},
   "source": [
    "### Outliers"
   ]
  },
  {
   "cell_type": "code",
   "execution_count": 10,
   "metadata": {},
   "outputs": [
    {
     "data": {
      "image/png": "[encoded data removed]",
      "text/plain": [
       "<Figure size 1536x640 with 3 Axes>"
      ]
     },
     "metadata": {
      "needs_background": "light"
     },
     "output_type": "display_data"
    }
   ],
   "source": [
    "\n",
    "outlier = plt.figure(figsize=(12,5), dpi=128)\n",
    "\n",
    "for i in range(1,4):\n",
    "    outlier.add_subplot(1, 3, i)\n",
    "    df[[['f', 'c', 'l'][i-1]]].boxplot()"
   ]
  },
  {
   "cell_type": "markdown",
   "metadata": {},
   "source": [
    "### Correlation"
   ]
  },
  {
   "cell_type": "code",
   "execution_count": 11,
   "metadata": {},
   "outputs": [
    {
     "data": {
      "text/html": [
       "<div>\n",
       "<style scoped>\n",
       "    .dataframe tbody tr th:only-of-type {\n",
       "        vertical-align: middle;\n",
       "    }\n",
       "\n",
       "    .dataframe tbody tr th {\n",
       "        vertical-align: top;\n",
       "    }\n",
       "\n",
       "    .dataframe thead th {\n",
       "        text-align: right;\n",
       "    }\n",
       "</style>\n",
       "<table border=\"1\" class=\"dataframe\">\n",
       "  <thead>\n",
       "    <tr style=\"text-align: right;\">\n",
       "      <th></th>\n",
       "      <th>f</th>\n",
       "      <th>c</th>\n",
       "      <th>l</th>\n",
       "    </tr>\n",
       "  </thead>\n",
       "  <tbody>\n",
       "    <tr>\n",
       "      <td>f</td>\n",
       "      <td>1.000</td>\n",
       "      <td>0.579</td>\n",
       "      <td>0.554</td>\n",
       "    </tr>\n",
       "    <tr>\n",
       "      <td>c</td>\n",
       "      <td>0.579</td>\n",
       "      <td>1.000</td>\n",
       "      <td>0.617</td>\n",
       "    </tr>\n",
       "    <tr>\n",
       "      <td>l</td>\n",
       "      <td>0.554</td>\n",
       "      <td>0.617</td>\n",
       "      <td>1.000</td>\n",
       "    </tr>\n",
       "  </tbody>\n",
       "</table>\n",
       "</div>"
      ],
      "text/plain": [
       "       f      c      l\n",
       "f  1.000  0.579  0.554\n",
       "c  0.579  1.000  0.617\n",
       "l  0.554  0.617  1.000"
      ]
     },
     "execution_count": 11,
     "metadata": {},
     "output_type": "execute_result"
    }
   ],
   "source": [
    "import numpy as np\n",
    "corr = df[['f', 'c', 'l']].corr()\n",
    "high_corr = corr[np.abs(corr) > 0.5].fillna(0)\n",
    "high_corr[np.abs(corr) > 0.5].fillna(0).round(3)"
   ]
  },
  {
   "cell_type": "code",
   "execution_count": 12,
   "metadata": {},
   "outputs": [
    {
     "data": {
      "image/png": "[encoded data removed]",
      "text/plain": [
       "<Figure size 768x512 with 2 Axes>"
      ]
     },
     "metadata": {
      "needs_background": "light"
     },
     "output_type": "display_data"
    }
   ],
   "source": [
    "plt.figure(dpi=128)\n",
    "ax = sns.heatmap(\n",
    "    high_corr,\n",
    "    vmin=-1, vmax=1, center=0,\n",
    "    cmap=sns.diverging_palette(20, 220, n=200),\n",
    "    square=True\n",
    ")\n",
    "ax.set_xticklabels(\n",
    "    ax.get_xticklabels(),\n",
    "    rotation=45,\n",
    "    horizontalalignment='right'\n",
    ");"
   ]
  },
  {
   "cell_type": "markdown",
   "metadata": {},
   "source": [
    "## Constants and features"
   ]
  },
  {
   "cell_type": "markdown",
   "metadata": {
    "toc-hr-collapsed": false
   },
   "source": [
    "### Constants"
   ]
  },
  {
   "cell_type": "markdown",
   "metadata": {},
   "source": [
    "General constants are effective predicting values for some tweets.   "
   ]
  },
  {
   "cell_type": "markdown",
   "metadata": {},
   "source": [
    "#### Mean"
   ]
  },
  {
   "cell_type": "markdown",
   "metadata": {},
   "source": [
    "Use mean, generally."
   ]
  },
  {
   "cell_type": "code",
   "execution_count": 13,
   "metadata": {},
   "outputs": [
    {
     "data": {
      "text/plain": [
       "(3, 1, 2)"
      ]
     },
     "execution_count": 13,
     "metadata": {},
     "output_type": "execute_result"
    }
   ],
   "source": [
    "f_mean = int(df.f.mean()) # only integers according to the task description\n",
    "c_mean = int(df.c.mean())\n",
    "l_mean = int(df.l.mean())\n",
    "f_mean, c_mean, l_mean"
   ]
  },
  {
   "cell_type": "markdown",
   "metadata": {},
   "source": [
    "#### Median"
   ]
  },
  {
   "cell_type": "markdown",
   "metadata": {},
   "source": [
    "Use median, since high skewness"
   ]
  },
  {
   "cell_type": "code",
   "execution_count": 14,
   "metadata": {},
   "outputs": [
    {
     "data": {
      "text/plain": [
       "(0, 0, 0)"
      ]
     },
     "execution_count": 14,
     "metadata": {},
     "output_type": "execute_result"
    }
   ],
   "source": [
    "f_median = int(df.f.median()) # only integers according to the task description\n",
    "c_median = int(df.c.median())\n",
    "l_median = int(df.l.median())\n",
    "f_median, c_median, l_median"
   ]
  },
  {
   "cell_type": "markdown",
   "metadata": {},
   "source": [
    "##### TODO: Considering median for unique users since all medians are zero."
   ]
  },
  {
   "cell_type": "markdown",
   "metadata": {},
   "source": [
    "## Sorting"
   ]
  },
  {
   "cell_type": "code",
   "execution_count": 15,
   "metadata": {},
   "outputs": [
    {
     "data": {
      "text/html": [
       "<div>\n",
       "<style scoped>\n",
       "    .dataframe tbody tr th:only-of-type {\n",
       "        vertical-align: middle;\n",
       "    }\n",
       "\n",
       "    .dataframe tbody tr th {\n",
       "        vertical-align: top;\n",
       "    }\n",
       "\n",
       "    .dataframe thead th {\n",
       "        text-align: right;\n",
       "    }\n",
       "</style>\n",
       "<table border=\"1\" class=\"dataframe\">\n",
       "  <thead>\n",
       "    <tr style=\"text-align: right;\">\n",
       "      <th></th>\n",
       "      <th>uid</th>\n",
       "      <th>mid</th>\n",
       "      <th>time</th>\n",
       "      <th>f</th>\n",
       "      <th>c</th>\n",
       "      <th>l</th>\n",
       "      <th>content</th>\n",
       "    </tr>\n",
       "  </thead>\n",
       "  <tbody>\n",
       "    <tr>\n",
       "      <td>78155</td>\n",
       "      <td>ffff5e493015a9240bd4d29de15ef55b</td>\n",
       "      <td>6f10a53787eeb7f79741f44620d0f058</td>\n",
       "      <td>2015-06-04 13:54:19</td>\n",
       "      <td>1</td>\n",
       "      <td>0</td>\n",
       "      <td>0</td>\n",
       "      <td>【滴滴专车】终于等到您，恭喜通过审核，正式成为专车司机！您的登陆账号：13718124000...</td>\n",
       "    </tr>\n",
       "    <tr>\n",
       "      <td>280520</td>\n",
       "      <td>ffff5e493015a9240bd4d29de15ef55b</td>\n",
       "      <td>8cb2af37fe818c3d8b58370c8ad94e1d</td>\n",
       "      <td>2015-02-08 01:04:25</td>\n",
       "      <td>1</td>\n",
       "      <td>9</td>\n",
       "      <td>0</td>\n",
       "      <td>静不下心看书了，咋办@刘曼_missL</td>\n",
       "    </tr>\n",
       "    <tr>\n",
       "      <td>404249</td>\n",
       "      <td>ffff5e493015a9240bd4d29de15ef55b</td>\n",
       "      <td>60d8206c24b8cb3a08f51b23d0f82cef</td>\n",
       "      <td>2015-06-21 17:24:46</td>\n",
       "      <td>1</td>\n",
       "      <td>4</td>\n",
       "      <td>0</td>\n",
       "      <td>798 http://t.cn/R2Wx6Sv</td>\n",
       "    </tr>\n",
       "    <tr>\n",
       "      <td>409066</td>\n",
       "      <td>ffff5e493015a9240bd4d29de15ef55b</td>\n",
       "      <td>8156e096c12e013bdc3a14fa0cdbe1a8</td>\n",
       "      <td>2015-02-07 08:03:23</td>\n",
       "      <td>1</td>\n",
       "      <td>3</td>\n",
       "      <td>1</td>\n",
       "      <td>12期，每期528元</td>\n",
       "    </tr>\n",
       "    <tr>\n",
       "      <td>550083</td>\n",
       "      <td>ffff5e493015a9240bd4d29de15ef55b</td>\n",
       "      <td>d583bb36db72d30d0ff71cacefbd3e13</td>\n",
       "      <td>2015-03-21 18:46:11</td>\n",
       "      <td>1</td>\n",
       "      <td>0</td>\n",
       "      <td>0</td>\n",
       "      <td>【张三丰为什么没有去找过郭襄？】木先生 : 和“志向、脱俗”无关。这事，终究不过一个“情”字...</td>\n",
       "    </tr>\n",
       "  </tbody>\n",
       "</table>\n",
       "</div>"
      ],
      "text/plain": [
       "                                     uid                               mid  \\\n",
       "78155   ffff5e493015a9240bd4d29de15ef55b  6f10a53787eeb7f79741f44620d0f058   \n",
       "280520  ffff5e493015a9240bd4d29de15ef55b  8cb2af37fe818c3d8b58370c8ad94e1d   \n",
       "404249  ffff5e493015a9240bd4d29de15ef55b  60d8206c24b8cb3a08f51b23d0f82cef   \n",
       "409066  ffff5e493015a9240bd4d29de15ef55b  8156e096c12e013bdc3a14fa0cdbe1a8   \n",
       "550083  ffff5e493015a9240bd4d29de15ef55b  d583bb36db72d30d0ff71cacefbd3e13   \n",
       "\n",
       "                       time  f  c  l  \\\n",
       "78155   2015-06-04 13:54:19  1  0  0   \n",
       "280520  2015-02-08 01:04:25  1  9  0   \n",
       "404249  2015-06-21 17:24:46  1  4  0   \n",
       "409066  2015-02-07 08:03:23  1  3  1   \n",
       "550083  2015-03-21 18:46:11  1  0  0   \n",
       "\n",
       "                                                  content  \n",
       "78155   【滴滴专车】终于等到您，恭喜通过审核，正式成为专车司机！您的登陆账号：13718124000...  \n",
       "280520                                静不下心看书了，咋办@刘曼_missL  \n",
       "404249                            798 http://t.cn/R2Wx6Sv  \n",
       "409066                                         12期，每期528元  \n",
       "550083  【张三丰为什么没有去找过郭襄？】木先生 : 和“志向、脱俗”无关。这事，终究不过一个“情”字...  "
      ]
     },
     "execution_count": 15,
     "metadata": {},
     "output_type": "execute_result"
    }
   ],
   "source": [
    "df  = df.sort_values( by=['uid', 'f'], ascending=False)\n",
    "df2 = df2.sort_values(by=['uid'],      ascending=False)\n",
    "df.head()"
   ]
  },
  {
   "cell_type": "code",
   "execution_count": 16,
   "metadata": {},
   "outputs": [
    {
     "name": "stdout",
     "output_type": "stream",
     "text": [
      "699 users from predicting data are not in the training data\n"
     ]
    }
   ],
   "source": [
    "users = pd.DataFrame(df2['uid'].unique()).isin(df['uid'].unique())\n",
    "users.columns = ['in_train']\n",
    "print(len(users[users['in_train'] == False]), \"users from predicting data are not in the training data\")"
   ]
  },
  {
   "cell_type": "markdown",
   "metadata": {},
   "source": [
    "## Features"
   ]
  },
  {
   "cell_type": "markdown",
   "metadata": {},
   "source": [
    "-  3-rd party applications  \n",
    "if \"我在#\" in content, then 1; else 0."
   ]
  },
  {
   "cell_type": "code",
   "execution_count": 17,
   "metadata": {},
   "outputs": [
    {
     "data": {
      "text/html": [
       "<div>\n",
       "<style scoped>\n",
       "    .dataframe tbody tr th:only-of-type {\n",
       "        vertical-align: middle;\n",
       "    }\n",
       "\n",
       "    .dataframe tbody tr th {\n",
       "        vertical-align: top;\n",
       "    }\n",
       "\n",
       "    .dataframe thead th {\n",
       "        text-align: right;\n",
       "    }\n",
       "</style>\n",
       "<table border=\"1\" class=\"dataframe\">\n",
       "  <thead>\n",
       "    <tr style=\"text-align: right;\">\n",
       "      <th></th>\n",
       "      <th>uid</th>\n",
       "      <th>mid</th>\n",
       "      <th>time</th>\n",
       "      <th>f</th>\n",
       "      <th>c</th>\n",
       "      <th>l</th>\n",
       "      <th>content</th>\n",
       "      <th>application</th>\n",
       "    </tr>\n",
       "  </thead>\n",
       "  <tbody>\n",
       "    <tr>\n",
       "      <td>166917</td>\n",
       "      <td>fff7d9e6a58934f7f40f23b67c4196b8</td>\n",
       "      <td>94476fb5da5685da647125f5d8610549</td>\n",
       "      <td>2015-07-09 17:28:05</td>\n",
       "      <td>0</td>\n",
       "      <td>0</td>\n",
       "      <td>0</td>\n",
       "      <td>我在#微盘#找到了一个超赞的文件\"董方-2014GITC-网站云防护体系下的数据分析...\"...</td>\n",
       "      <td>1</td>\n",
       "    </tr>\n",
       "    <tr>\n",
       "      <td>295734</td>\n",
       "      <td>fff092ad59869987f022e62337c5efe5</td>\n",
       "      <td>0af2ca96ca26e00d5b4fbe109e0f2ed3</td>\n",
       "      <td>2015-03-13 13:42:37</td>\n",
       "      <td>0</td>\n",
       "      <td>0</td>\n",
       "      <td>0</td>\n",
       "      <td>我在#微盘#找到了一个超赞的文件\"libmfcc-a99d34a62ba4.zip\"，我已经...</td>\n",
       "      <td>1</td>\n",
       "    </tr>\n",
       "  </tbody>\n",
       "</table>\n",
       "</div>"
      ],
      "text/plain": [
       "                                     uid                               mid  \\\n",
       "166917  fff7d9e6a58934f7f40f23b67c4196b8  94476fb5da5685da647125f5d8610549   \n",
       "295734  fff092ad59869987f022e62337c5efe5  0af2ca96ca26e00d5b4fbe109e0f2ed3   \n",
       "\n",
       "                       time  f  c  l  \\\n",
       "166917  2015-07-09 17:28:05  0  0  0   \n",
       "295734  2015-03-13 13:42:37  0  0  0   \n",
       "\n",
       "                                                  content  application  \n",
       "166917  我在#微盘#找到了一个超赞的文件\"董方-2014GITC-网站云防护体系下的数据分析...\"...            1  \n",
       "295734  我在#微盘#找到了一个超赞的文件\"libmfcc-a99d34a62ba4.zip\"，我已经...            1  "
      ]
     },
     "execution_count": 17,
     "metadata": {},
     "output_type": "execute_result"
    }
   ],
   "source": [
    "df['application'] = df.content.apply(lambda x: 1 if '我' in str(x) else 0) # str to convert string in numbers into strings\n",
    "df[df['content'].str.contains(\"我在#\") == 1].head(2)"
   ]
  },
  {
   "cell_type": "markdown",
   "metadata": {},
   "source": [
    "-  title  \n",
    "if content starts with \"【\", then 1; else 0."
   ]
  },
  {
   "cell_type": "code",
   "execution_count": 18,
   "metadata": {},
   "outputs": [],
   "source": [
    "df['title'] = df.content.apply(lambda x: 1 if str(x)[0] == '【' else 0) "
   ]
  },
  {
   "cell_type": "markdown",
   "metadata": {},
   "source": [
    "TODO: entertainment"
   ]
  },
  {
   "cell_type": "markdown",
   "metadata": {},
   "source": [
    "-  ad related  \n",
    "if any ad keywords in content then 1; else 0"
   ]
  },
  {
   "cell_type": "code",
   "execution_count": 19,
   "metadata": {},
   "outputs": [
    {
     "data": {
      "text/html": [
       "<div>\n",
       "<style scoped>\n",
       "    .dataframe tbody tr th:only-of-type {\n",
       "        vertical-align: middle;\n",
       "    }\n",
       "\n",
       "    .dataframe tbody tr th {\n",
       "        vertical-align: top;\n",
       "    }\n",
       "\n",
       "    .dataframe thead th {\n",
       "        text-align: right;\n",
       "    }\n",
       "</style>\n",
       "<table border=\"1\" class=\"dataframe\">\n",
       "  <thead>\n",
       "    <tr style=\"text-align: right;\">\n",
       "      <th></th>\n",
       "      <th>uid</th>\n",
       "      <th>mid</th>\n",
       "      <th>time</th>\n",
       "      <th>f</th>\n",
       "      <th>c</th>\n",
       "      <th>l</th>\n",
       "      <th>content</th>\n",
       "      <th>application</th>\n",
       "      <th>title</th>\n",
       "      <th>advertisement</th>\n",
       "    </tr>\n",
       "  </thead>\n",
       "  <tbody>\n",
       "    <tr>\n",
       "      <td>44191</td>\n",
       "      <td>ffefb5e064e72ca10ab4372391c265ce</td>\n",
       "      <td>dc33f5adc1714b2903c42eb58cb4eadb</td>\n",
       "      <td>2015-03-09 15:51:10</td>\n",
       "      <td>5</td>\n",
       "      <td>1</td>\n",
       "      <td>0</td>\n",
       "      <td>前两天moto有活动,正好打算给家里买个手机,觉得还是直接从官方(天猫)买保险.但是收到的手...</td>\n",
       "      <td>0</td>\n",
       "      <td>0</td>\n",
       "      <td>1</td>\n",
       "    </tr>\n",
       "    <tr>\n",
       "      <td>37149</td>\n",
       "      <td>ffefb5e064e72ca10ab4372391c265ce</td>\n",
       "      <td>2e57076dc8b248e2adcc66c71eba6ecc</td>\n",
       "      <td>2015-03-09 15:50:23</td>\n",
       "      <td>0</td>\n",
       "      <td>0</td>\n",
       "      <td>0</td>\n",
       "      <td>前两天moto有活动,正好打算给家里买个手机,觉得还是直接从官方(天猫)买保险.但是收到的手...</td>\n",
       "      <td>0</td>\n",
       "      <td>0</td>\n",
       "      <td>1</td>\n",
       "    </tr>\n",
       "  </tbody>\n",
       "</table>\n",
       "</div>"
      ],
      "text/plain": [
       "                                    uid                               mid  \\\n",
       "44191  ffefb5e064e72ca10ab4372391c265ce  dc33f5adc1714b2903c42eb58cb4eadb   \n",
       "37149  ffefb5e064e72ca10ab4372391c265ce  2e57076dc8b248e2adcc66c71eba6ecc   \n",
       "\n",
       "                      time  f  c  l  \\\n",
       "44191  2015-03-09 15:51:10  5  1  0   \n",
       "37149  2015-03-09 15:50:23  0  0  0   \n",
       "\n",
       "                                                 content  application  title  \\\n",
       "44191  前两天moto有活动,正好打算给家里买个手机,觉得还是直接从官方(天猫)买保险.但是收到的手...            0      0   \n",
       "37149  前两天moto有活动,正好打算给家里买个手机,觉得还是直接从官方(天猫)买保险.但是收到的手...            0      0   \n",
       "\n",
       "       advertisement  \n",
       "44191              1  \n",
       "37149              1  "
      ]
     },
     "execution_count": 19,
     "metadata": {},
     "output_type": "execute_result"
    }
   ],
   "source": [
    "ad_keywords = ['天猫', '淘宝', '购物券', '折扣', '优惠']\n",
    "df['advertisement'] = df.content.apply(lambda x: 1 if any( keyword in str(x) for keyword in ad_keywords) else 0) # list generator\n",
    "df[df['content'].str.contains('天猫') == 1].head(2)"
   ]
  },
  {
   "cell_type": "markdown",
   "metadata": {},
   "source": [
    "-  hotwords  \n",
    "if any baidu hotwords in content then 1; else 0"
   ]
  },
  {
   "cell_type": "code",
   "execution_count": 20,
   "metadata": {},
   "outputs": [
    {
     "data": {
      "text/html": [
       "<div>\n",
       "<style scoped>\n",
       "    .dataframe tbody tr th:only-of-type {\n",
       "        vertical-align: middle;\n",
       "    }\n",
       "\n",
       "    .dataframe tbody tr th {\n",
       "        vertical-align: top;\n",
       "    }\n",
       "\n",
       "    .dataframe thead th {\n",
       "        text-align: right;\n",
       "    }\n",
       "</style>\n",
       "<table border=\"1\" class=\"dataframe\">\n",
       "  <thead>\n",
       "    <tr style=\"text-align: right;\">\n",
       "      <th></th>\n",
       "      <th>uid</th>\n",
       "      <th>mid</th>\n",
       "      <th>time</th>\n",
       "      <th>f</th>\n",
       "      <th>c</th>\n",
       "      <th>l</th>\n",
       "      <th>content</th>\n",
       "      <th>application</th>\n",
       "      <th>title</th>\n",
       "      <th>advertisement</th>\n",
       "      <th>hotwords</th>\n",
       "    </tr>\n",
       "  </thead>\n",
       "  <tbody>\n",
       "    <tr>\n",
       "      <td>784151</td>\n",
       "      <td>e4d7949da62db4e7304c8e8abc561595</td>\n",
       "      <td>12d7dad4d7498263c24b4109f1884838</td>\n",
       "      <td>2015-04-22 10:20:34</td>\n",
       "      <td>0</td>\n",
       "      <td>0</td>\n",
       "      <td>0</td>\n",
       "      <td>😭😱甩头车震一路狂嗨啊！电音帅炸了，妈妈问我为什么跪着听歌😳😳😳 分享单曲http://t....</td>\n",
       "      <td>1</td>\n",
       "      <td>0</td>\n",
       "      <td>0</td>\n",
       "      <td>1</td>\n",
       "    </tr>\n",
       "    <tr>\n",
       "      <td>424249</td>\n",
       "      <td>d5bc2b6e85cc880bf5e807f1c446540e</td>\n",
       "      <td>ec072ebd9dd0c2554a9844db2a4a3f33</td>\n",
       "      <td>2015-03-20 14:24:23</td>\n",
       "      <td>0</td>\n",
       "      <td>0</td>\n",
       "      <td>0</td>\n",
       "      <td>我tm笑了！！@深夜慎点 的美拍“深夜话题！你车震过吗？各种神回复，最后那位男生走好😂2]]...</td>\n",
       "      <td>1</td>\n",
       "      <td>0</td>\n",
       "      <td>0</td>\n",
       "      <td>1</td>\n",
       "    </tr>\n",
       "  </tbody>\n",
       "</table>\n",
       "</div>"
      ],
      "text/plain": [
       "                                     uid                               mid  \\\n",
       "784151  e4d7949da62db4e7304c8e8abc561595  12d7dad4d7498263c24b4109f1884838   \n",
       "424249  d5bc2b6e85cc880bf5e807f1c446540e  ec072ebd9dd0c2554a9844db2a4a3f33   \n",
       "\n",
       "                       time  f  c  l  \\\n",
       "784151  2015-04-22 10:20:34  0  0  0   \n",
       "424249  2015-03-20 14:24:23  0  0  0   \n",
       "\n",
       "                                                  content  application  title  \\\n",
       "784151  😭😱甩头车震一路狂嗨啊！电音帅炸了，妈妈问我为什么跪着听歌😳😳😳 分享单曲http://t....            1      0   \n",
       "424249  我tm笑了！！@深夜慎点 的美拍“深夜话题！你车震过吗？各种神回复，最后那位男生走好😂2]]...            1      0   \n",
       "\n",
       "        advertisement  hotwords  \n",
       "784151              0         1  \n",
       "424249              0         1  "
      ]
     },
     "execution_count": 20,
     "metadata": {},
     "output_type": "execute_result"
    }
   ],
   "source": [
    "baidu_hot_words = ['2015阅兵', '奔跑吧兄弟', '花干骨', 'duang', 'DUANG', '毕福剑', '完美世界', '清华大学', '九寨沟', '天津爆炸', '快乐大本营', \\\n",
    "                   '校花的贴身高手', '车震', '金星', '大主宰', '武汉大学', '泰山', '全面开放二孩政策', 'running man','Running Man','Running man',\\\n",
    "                   'RUNNING MAN', '盗墓笔记', '萌萌哒', '王思聪', '淘宝', '厦门大学', '颐和园', '优衣库事件', '最强大脑', '何以笙箫默', '然并卵', \\\n",
    "                   '叶良辰', '百度', '北京大学', '故宫', '毕福剑违纪', '极限挑战', '斗鱼', '有钱就是任性', '昆凌', '我欲封天', '中山大学', '华山', \\\n",
    "                   'a股保卫战','A股保卫战', '欢乐喜剧人', '琅琊榜', '不做死就不会死', '刘雯', '双色球开奖结果', '中南大学', '北戴河', '人民币贬值', \\\n",
    "                   '天天向上', '克拉恋人', '小鲜肉', '章泽天', 'qq', 'QQ', '复旦大学', '普陀山', '2015苹果发布会', '中国好声音', '旋风少年', '绿茶婊', \\\n",
    "                   '马云', '微信', '山东大学', '五台山', '另一个地球可能发现', '康熙来了', '终极教师', '壕', '宁泽涛', '花千骨', '浙江大学', '峨眉山', \\\n",
    "                   '日本8.5级地震', '奇葩说', '武媚娘传奇', '我也是醉了', '柴静', '双色球', '西南大学', '云台山']\n",
    "df['hotwords'] = df.content.apply(lambda x: 1 if any( keyword in str(x) for keyword in baidu_hot_words) else 0) # list generator\n",
    "df[df['content'].str.contains('车震') == 1].head(2)"
   ]
  },
  {
   "cell_type": "markdown",
   "metadata": {},
   "source": [
    "-  keywords in high interactions\n",
    "jieba "
   ]
  },
  {
   "cell_type": "code",
   "execution_count": 52,
   "metadata": {},
   "outputs": [
    {
     "data": {
      "text/html": [
       "<div>\n",
       "<style scoped>\n",
       "    .dataframe tbody tr th:only-of-type {\n",
       "        vertical-align: middle;\n",
       "    }\n",
       "\n",
       "    .dataframe tbody tr th {\n",
       "        vertical-align: top;\n",
       "    }\n",
       "\n",
       "    .dataframe thead th {\n",
       "        text-align: right;\n",
       "    }\n",
       "</style>\n",
       "<table border=\"1\" class=\"dataframe\">\n",
       "  <thead>\n",
       "    <tr style=\"text-align: right;\">\n",
       "      <th></th>\n",
       "      <th>uid</th>\n",
       "      <th>mid</th>\n",
       "      <th>time</th>\n",
       "      <th>f</th>\n",
       "      <th>c</th>\n",
       "      <th>l</th>\n",
       "      <th>content</th>\n",
       "      <th>application</th>\n",
       "      <th>title</th>\n",
       "      <th>advertisement</th>\n",
       "      <th>hotwords</th>\n",
       "    </tr>\n",
       "  </thead>\n",
       "  <tbody>\n",
       "    <tr>\n",
       "      <td>829674</td>\n",
       "      <td>fff67a9d6f8b2745a2cada662fc9c4a9</td>\n",
       "      <td>c382b1fd661f33fd5b0cb0c47119a015</td>\n",
       "      <td>2015-05-07 00:01:47</td>\n",
       "      <td>54</td>\n",
       "      <td>14</td>\n",
       "      <td>11</td>\n",
       "      <td>南京大学计算机系／软件新技术国家重点实验室“本科生开放日”开始报名了！面向全国高校计算机相关...</td>\n",
       "      <td>0</td>\n",
       "      <td>0</td>\n",
       "      <td>0</td>\n",
       "      <td>0</td>\n",
       "    </tr>\n",
       "    <tr>\n",
       "      <td>135785</td>\n",
       "      <td>ffefb5e064e72ca10ab4372391c265ce</td>\n",
       "      <td>95bf4bbd1dcfaab07d848b25c15abe56</td>\n",
       "      <td>2015-05-07 14:32:41</td>\n",
       "      <td>19</td>\n",
       "      <td>44</td>\n",
       "      <td>7</td>\n",
       "      <td>大家好啊，目前我们贴吧移动团队，急需android,iOS,QA各级别工程师,我们这边有很强...</td>\n",
       "      <td>1</td>\n",
       "      <td>0</td>\n",
       "      <td>0</td>\n",
       "      <td>0</td>\n",
       "    </tr>\n",
       "  </tbody>\n",
       "</table>\n",
       "</div>"
      ],
      "text/plain": [
       "                                     uid                               mid  \\\n",
       "829674  fff67a9d6f8b2745a2cada662fc9c4a9  c382b1fd661f33fd5b0cb0c47119a015   \n",
       "135785  ffefb5e064e72ca10ab4372391c265ce  95bf4bbd1dcfaab07d848b25c15abe56   \n",
       "\n",
       "                       time   f   c   l  \\\n",
       "829674  2015-05-07 00:01:47  54  14  11   \n",
       "135785  2015-05-07 14:32:41  19  44   7   \n",
       "\n",
       "                                                  content  application  title  \\\n",
       "829674  南京大学计算机系／软件新技术国家重点实验室“本科生开放日”开始报名了！面向全国高校计算机相关...            0      0   \n",
       "135785  大家好啊，目前我们贴吧移动团队，急需android,iOS,QA各级别工程师,我们这边有很强...            1      0   \n",
       "\n",
       "        advertisement  hotwords  \n",
       "829674              0         0  \n",
       "135785              0         0  "
      ]
     },
     "execution_count": 52,
     "metadata": {},
     "output_type": "execute_result"
    }
   ],
   "source": [
    "threshold = 5\n",
    "df[(df['f'] > threshold) & (df['c'] > threshold) & (df['l'] > threshold)].head(2)"
   ]
  },
  {
   "cell_type": "code",
   "execution_count": 56,
   "metadata": {},
   "outputs": [
    {
     "data": {
      "text/plain": [
       "' 南京大学计算机系／软件新技术国家重点实验室“本科生开放日”开始报名了！面向全国高校计算机相关...\\n 大家好啊，目前我们贴吧移动团队，急需android,iOS,QA各级别工程师,我们这边有很强..'"
      ]
     },
     "execution_count": 56,
     "metadata": {},
     "output_type": "execute_result"
    }
   ],
   "source": [
    "content = df[(df['f'] > threshold) & (df['c'] > threshold) & (df['l'] > threshold)]['content'].to_string( index = False, header = False)\n",
    "content[0:100]"
   ]
  },
  {
   "cell_type": "code",
   "execution_count": 58,
   "metadata": {},
   "outputs": [
    {
     "name": "stdout",
     "output_type": "stream",
     "text": [
      "...,http,cn,分享,程序员,doge,##,一个,10,2015,教程,Python,RAIN,微博,Java,PS,大家,cry,rain,设计,今天,克拉,恋人,Rain,Android,学习,JIHOON,微软,Linux,开源,代码,技术,设计师,哈哈,UI,网站,技巧,文章,开发,推荐,iOS,我们,编程,Windows,如何,慕课,郑智薰,可以,数据,视频,这个,Web,自己,阿里,算法,JavaScript,转发,早安,20,Photoshop,....,方法,同学,最近,什么,知乎,PHP,前端,使用,小伙伴,百度,手机,公司,很多,用户,15,知道,Google,黑客,中国,App,就是,看到,福利,问题,互联网,下载,开发者,时候,现在,作者,程序,机器,工程师,团队,来自,发布,拜拜,安全,为什么,工作,工具,30,MySQL,一下,腾讯,朋友,面试,偷笑,趣图,喜欢,软件,系统,一些,字体,已经,如果,不是,觉得,简单,框架,小编,13,应用,HTML5,C++,没有,非常,图标,CSS,网络,粉丝,关于,图片,生日快乐,发现,微信,你们,午间,怎么,一组,免费,招聘,介绍,语言,晚安,需要,还是,网页,本文,编程语言,项目,开始,移动,入门,创意,漏洞,嘻嘻,利用,这么,手把手,课程,支付宝,真的,实现,总结,效果,2014,Git,动画,数据库,指南,创业,优化,照片,世界,感觉,素材,深度,12,浏览器,photoshop,基于,论文,应该,系列,Data,一篇,GitHub,有个,实用,在线,北京,灵感,Learning,可视化,平台,Logo,不要,看看,翻译,动图,11,Swift,这样,游戏,优秀,分析,其实,终于,服务器,360,苹果,真是,感谢,内存,产品,因为,谷歌,性能,那些,更新,新手,干货,Apple,支持,广告,Studio,25,架构,时间,测试,js,别人,各种,有人,老师,快速,打包,出来,电脑,Mac,web,服务,打造,优设,博客,这些,全文,good,童鞋,篇文章,一张,制作,版本,人生,100,JS,一种,他们,每日,那么,不能,每天,美国,但是,经典,昨天,一直,配色,Build,com,Chrome,呵呵,然后,几个,插件,PPT,Rain625,作品,评论,出道,周年,上线,基础,体验,汇总,Machine,详解,正式,思考,计算机,绘制,关注,大学,地址,攻击,一起,所有,发表,微博上,APP,插画,实践,周末,大会,图灵,武汉,一样,围观,14,ht,Facebook,Spark,居然,这是,为了,不会,海报,知识,功能,东西,htt,作为,通过,下面,一定,欢迎,资源,整理,信息,可爱,新浪,科技,18,动效,可能,实战,了解,电影,比较,理解,客户端,CSS3,之前,哈哈哈,收到,各位,妹子,爬虫,运维,同事,视觉,讨论,希望,进阶,有趣,一次,红包,全球,起来,页面,手绘,故事,本书,神器,简历,SQL,Deep,老板,欣赏,源码,生活,经常,最后,每个,一天,据说,哪些,Go,Visual,计算,抓狂,多少,不错,事情,网友,一位,处理,阿里巴巴,两个,大哥,以前,最佳,一款,内容,官方,国外,最好,个人,遇到,交互,孩子,极客,50,科学,面试题,佳佳,译者,时代,16,Twitter,HTTP,bug,宣布,强大,小米,还有,特别,回答,常用,最新,有没有,超赞,小时,携程,经验,必备,员工,3D,iPhone,里面,搜索,活动,界面,地图,几天,SAE,抽奖,人类,是不是,分钟,原理,研究,排序,记得,get,app,淘宝,成为,晚上,数据分析,国内,朋友圈,只有,今年,逗比,C语言,萧亮,文件,越来越,未来,完成,这里,QQ,17,Docker,海报设计,GIF,亲们,简直,模板,大全,键盘,这次,成功,花心,第一,创建,专业,IE,男神,安卓,CEO,选择,怎样,搞定,一年,模型,告诉,重要,所以,联合,提供,社交,API,AI,HTML,建议,解析\n"
     ]
    }
   ],
   "source": [
    "# import sys\n",
    "# sys.path.append('../')\n",
    "\n",
    "import jieba\n",
    "import jieba.analyse\n",
    "\n",
    "# jieba.analyse.set_stop_words('stoped.txt') # do not remove any meaningless words for 1st model \n",
    "keywords = jieba.analyse.extract_tags(content, topK=500)\n",
    "print(\",\".join(keywords))"
   ]
  },
  {
   "cell_type": "code",
   "execution_count": 59,
   "metadata": {},
   "outputs": [
    {
     "data": {
      "text/html": [
       "<div>\n",
       "<style scoped>\n",
       "    .dataframe tbody tr th:only-of-type {\n",
       "        vertical-align: middle;\n",
       "    }\n",
       "\n",
       "    .dataframe tbody tr th {\n",
       "        vertical-align: top;\n",
       "    }\n",
       "\n",
       "    .dataframe thead th {\n",
       "        text-align: right;\n",
       "    }\n",
       "</style>\n",
       "<table border=\"1\" class=\"dataframe\">\n",
       "  <thead>\n",
       "    <tr style=\"text-align: right;\">\n",
       "      <th></th>\n",
       "      <th>uid</th>\n",
       "      <th>mid</th>\n",
       "      <th>time</th>\n",
       "      <th>f</th>\n",
       "      <th>c</th>\n",
       "      <th>l</th>\n",
       "      <th>content</th>\n",
       "      <th>application</th>\n",
       "      <th>title</th>\n",
       "      <th>advertisement</th>\n",
       "      <th>hotwords</th>\n",
       "      <th>keywords</th>\n",
       "    </tr>\n",
       "  </thead>\n",
       "  <tbody>\n",
       "    <tr>\n",
       "      <td>894876</td>\n",
       "      <td>ffff5e493015a9240bd4d29de15ef55b</td>\n",
       "      <td>03cb5be84a2fda1b27bf987b6033594e</td>\n",
       "      <td>2015-03-20 15:44:37</td>\n",
       "      <td>0</td>\n",
       "      <td>0</td>\n",
       "      <td>1</td>\n",
       "      <td>我发现一个程序员网站 OutOfMemory.CN, 他的宗旨是“为程序员服务”，挺不错的，...</td>\n",
       "      <td>1</td>\n",
       "      <td>0</td>\n",
       "      <td>0</td>\n",
       "      <td>0</td>\n",
       "      <td>1</td>\n",
       "    </tr>\n",
       "    <tr>\n",
       "      <td>1187742</td>\n",
       "      <td>ffff39bf301adf32d06aae9dc70892fa</td>\n",
       "      <td>c9825f32b79b998f1e56068c8ae14c2d</td>\n",
       "      <td>2015-04-02 12:14:48</td>\n",
       "      <td>0</td>\n",
       "      <td>1</td>\n",
       "      <td>0</td>\n",
       "      <td>一直知道猿题库，一直知道@唐巧_boy ，一直以为猿题库是程序员的题目，一直以为@唐巧_bo...</td>\n",
       "      <td>0</td>\n",
       "      <td>0</td>\n",
       "      <td>0</td>\n",
       "      <td>0</td>\n",
       "      <td>1</td>\n",
       "    </tr>\n",
       "  </tbody>\n",
       "</table>\n",
       "</div>"
      ],
      "text/plain": [
       "                                      uid                               mid  \\\n",
       "894876   ffff5e493015a9240bd4d29de15ef55b  03cb5be84a2fda1b27bf987b6033594e   \n",
       "1187742  ffff39bf301adf32d06aae9dc70892fa  c9825f32b79b998f1e56068c8ae14c2d   \n",
       "\n",
       "                        time  f  c  l  \\\n",
       "894876   2015-03-20 15:44:37  0  0  1   \n",
       "1187742  2015-04-02 12:14:48  0  1  0   \n",
       "\n",
       "                                                   content  application  \\\n",
       "894876   我发现一个程序员网站 OutOfMemory.CN, 他的宗旨是“为程序员服务”，挺不错的，...            1   \n",
       "1187742  一直知道猿题库，一直知道@唐巧_boy ，一直以为猿题库是程序员的题目，一直以为@唐巧_bo...            0   \n",
       "\n",
       "         title  advertisement  hotwords  keywords  \n",
       "894876       0              0         0         1  \n",
       "1187742      0              0         0         1  "
      ]
     },
     "execution_count": 59,
     "metadata": {},
     "output_type": "execute_result"
    }
   ],
   "source": [
    "df['keywords'] = df.content.apply(lambda x: 1 if any( keyword in str(x) for keyword in keywords) else 0) # list generator\n",
    "df[df['content'].str.contains('程序员') == 1].head(2)"
   ]
  },
  {
   "cell_type": "markdown",
   "metadata": {},
   "source": [
    "-  TF-IDF  "
   ]
  },
  {
   "cell_type": "code",
   "execution_count": 75,
   "metadata": {},
   "outputs": [],
   "source": [
    "def tfidf(content:str) -> float:\n",
    "    \"\"\"\n",
    "    Find TF-IDF value of the most valuable word in a single tweet\n",
    "    \"\"\"\n",
    "    keyword = jieba.analyse.extract_tags(content, topK=1, withWeight=True)\n",
    "    if len(keyword) != 0:\n",
    "        return keyword[0][1]\n",
    "    else:\n",
    "        return 0\n"
   ]
  },
  {
   "cell_type": "code",
   "execution_count": 81,
   "metadata": {},
   "outputs": [
    {
     "data": {
      "text/html": [
       "<div>\n",
       "<style scoped>\n",
       "    .dataframe tbody tr th:only-of-type {\n",
       "        vertical-align: middle;\n",
       "    }\n",
       "\n",
       "    .dataframe tbody tr th {\n",
       "        vertical-align: top;\n",
       "    }\n",
       "\n",
       "    .dataframe thead th {\n",
       "        text-align: right;\n",
       "    }\n",
       "</style>\n",
       "<table border=\"1\" class=\"dataframe\">\n",
       "  <thead>\n",
       "    <tr style=\"text-align: right;\">\n",
       "      <th></th>\n",
       "      <th>uid</th>\n",
       "      <th>mid</th>\n",
       "      <th>time</th>\n",
       "      <th>f</th>\n",
       "      <th>c</th>\n",
       "      <th>l</th>\n",
       "      <th>content</th>\n",
       "      <th>application</th>\n",
       "      <th>title</th>\n",
       "      <th>advertisement</th>\n",
       "      <th>hotwords</th>\n",
       "      <th>keywords</th>\n",
       "    </tr>\n",
       "  </thead>\n",
       "  <tbody>\n",
       "    <tr>\n",
       "      <td>280520</td>\n",
       "      <td>ffff5e493015a9240bd4d29de15ef55b</td>\n",
       "      <td>8cb2af37fe818c3d8b58370c8ad94e1d</td>\n",
       "      <td>2015-02-08 01:04:25</td>\n",
       "      <td>1</td>\n",
       "      <td>9</td>\n",
       "      <td>0</td>\n",
       "      <td>静不下心看书了，咋办@刘曼_missL</td>\n",
       "      <td>0</td>\n",
       "      <td>0</td>\n",
       "      <td>0</td>\n",
       "      <td>0</td>\n",
       "      <td>0</td>\n",
       "    </tr>\n",
       "    <tr>\n",
       "      <td>404249</td>\n",
       "      <td>ffff5e493015a9240bd4d29de15ef55b</td>\n",
       "      <td>60d8206c24b8cb3a08f51b23d0f82cef</td>\n",
       "      <td>2015-06-21 17:24:46</td>\n",
       "      <td>1</td>\n",
       "      <td>4</td>\n",
       "      <td>0</td>\n",
       "      <td>798 http://t.cn/R2Wx6Sv</td>\n",
       "      <td>0</td>\n",
       "      <td>0</td>\n",
       "      <td>0</td>\n",
       "      <td>0</td>\n",
       "      <td>1</td>\n",
       "    </tr>\n",
       "  </tbody>\n",
       "</table>\n",
       "</div>"
      ],
      "text/plain": [
       "                                     uid                               mid  \\\n",
       "280520  ffff5e493015a9240bd4d29de15ef55b  8cb2af37fe818c3d8b58370c8ad94e1d   \n",
       "404249  ffff5e493015a9240bd4d29de15ef55b  60d8206c24b8cb3a08f51b23d0f82cef   \n",
       "\n",
       "                       time  f  c  l                  content  application  \\\n",
       "280520  2015-02-08 01:04:25  1  9  0      静不下心看书了，咋办@刘曼_missL            0   \n",
       "404249  2015-06-21 17:24:46  1  4  0  798 http://t.cn/R2Wx6Sv            0   \n",
       "\n",
       "        title  advertisement  hotwords  keywords  \n",
       "280520      0              0         0         0  \n",
       "404249      0              0         0         1  "
      ]
     },
     "execution_count": 81,
     "metadata": {},
     "output_type": "execute_result"
    }
   ],
   "source": [
    "testdf = df[1:10]\n",
    "testdf.head(2)"
   ]
  },
  {
   "cell_type": "code",
   "execution_count": 79,
   "metadata": {},
   "outputs": [
    {
     "name": "stderr",
     "output_type": "stream",
     "text": [
      "C:\\Users\\oyrx\\Anaconda3\\lib\\site-packages\\ipykernel_launcher.py:1: SettingWithCopyWarning: \n",
      "A value is trying to be set on a copy of a slice from a DataFrame.\n",
      "Try using .loc[row_indexer,col_indexer] = value instead\n",
      "\n",
      "See the caveats in the documentation: http://pandas.pydata.org/pandas-docs/stable/user_guide/indexing.html#returning-a-view-versus-a-copy\n",
      "  \"\"\"Entry point for launching an IPython kernel.\n"
     ]
    },
    {
     "data": {
      "text/html": [
       "<div>\n",
       "<style scoped>\n",
       "    .dataframe tbody tr th:only-of-type {\n",
       "        vertical-align: middle;\n",
       "    }\n",
       "\n",
       "    .dataframe tbody tr th {\n",
       "        vertical-align: top;\n",
       "    }\n",
       "\n",
       "    .dataframe thead th {\n",
       "        text-align: right;\n",
       "    }\n",
       "</style>\n",
       "<table border=\"1\" class=\"dataframe\">\n",
       "  <thead>\n",
       "    <tr style=\"text-align: right;\">\n",
       "      <th></th>\n",
       "      <th>uid</th>\n",
       "      <th>mid</th>\n",
       "      <th>time</th>\n",
       "      <th>f</th>\n",
       "      <th>c</th>\n",
       "      <th>l</th>\n",
       "      <th>content</th>\n",
       "      <th>application</th>\n",
       "      <th>title</th>\n",
       "      <th>advertisement</th>\n",
       "      <th>hotwords</th>\n",
       "      <th>keywords</th>\n",
       "      <th>tfidf</th>\n",
       "    </tr>\n",
       "  </thead>\n",
       "  <tbody>\n",
       "    <tr>\n",
       "      <td>280520</td>\n",
       "      <td>ffff5e493015a9240bd4d29de15ef55b</td>\n",
       "      <td>8cb2af37fe818c3d8b58370c8ad94e1d</td>\n",
       "      <td>2015-02-08 01:04:25</td>\n",
       "      <td>1</td>\n",
       "      <td>9</td>\n",
       "      <td>0</td>\n",
       "      <td>静不下心看书了，咋办@刘曼_missL</td>\n",
       "      <td>0</td>\n",
       "      <td>0</td>\n",
       "      <td>0</td>\n",
       "      <td>0</td>\n",
       "      <td>0</td>\n",
       "      <td>2.390954</td>\n",
       "    </tr>\n",
       "    <tr>\n",
       "      <td>404249</td>\n",
       "      <td>ffff5e493015a9240bd4d29de15ef55b</td>\n",
       "      <td>60d8206c24b8cb3a08f51b23d0f82cef</td>\n",
       "      <td>2015-06-21 17:24:46</td>\n",
       "      <td>1</td>\n",
       "      <td>4</td>\n",
       "      <td>0</td>\n",
       "      <td>798 http://t.cn/R2Wx6Sv</td>\n",
       "      <td>0</td>\n",
       "      <td>0</td>\n",
       "      <td>0</td>\n",
       "      <td>0</td>\n",
       "      <td>1</td>\n",
       "      <td>2.988692</td>\n",
       "    </tr>\n",
       "  </tbody>\n",
       "</table>\n",
       "</div>"
      ],
      "text/plain": [
       "                                     uid                               mid  \\\n",
       "280520  ffff5e493015a9240bd4d29de15ef55b  8cb2af37fe818c3d8b58370c8ad94e1d   \n",
       "404249  ffff5e493015a9240bd4d29de15ef55b  60d8206c24b8cb3a08f51b23d0f82cef   \n",
       "\n",
       "                       time  f  c  l                  content  application  \\\n",
       "280520  2015-02-08 01:04:25  1  9  0      静不下心看书了，咋办@刘曼_missL            0   \n",
       "404249  2015-06-21 17:24:46  1  4  0  798 http://t.cn/R2Wx6Sv            0   \n",
       "\n",
       "        title  advertisement  hotwords  keywords     tfidf  \n",
       "280520      0              0         0         0  2.390954  \n",
       "404249      0              0         0         1  2.988692  "
      ]
     },
     "execution_count": 79,
     "metadata": {},
     "output_type": "execute_result"
    }
   ],
   "source": [
    "# too slow, only testing here\n",
    "testdf['tfidf'] = testdf.content.apply(lambda x: tfidf(str(x)))\n",
    "testdf.head(2)"
   ]
  },
  {
   "cell_type": "markdown",
   "metadata": {},
   "source": [
    "## Scores"
   ]
  },
  {
   "cell_type": "code",
   "execution_count": null,
   "metadata": {},
   "outputs": [],
   "source": [
    "df_test = pd.DataFrame({\n",
    "    'id':[1, 2, 3, 4, 5],\n",
    "    'f':[333, 1, 0, 0, 1],\n",
    "    'fp':[0, 0, 0, 0, 0],\n",
    "    'c':[222, 3, 0, 1, 0],\n",
    "    'cp':[0, 0, 0, 0, 0],\n",
    "    'l':[250, 2, 1, 0, 0],\n",
    "    'lp':[0, 0, 0, 0, 0],\n",
    "})\n",
    "df_test"
   ]
  },
  {
   "cell_type": "code",
   "execution_count": null,
   "metadata": {},
   "outputs": [],
   "source": [
    "df_test['precision'] =  df_test.apply(lambda x: 1 - 0.5  * abs( x['fp'] - x['f'] ) / ( x['f'] + 5) \\\n",
    "                                                  - 0.25 * abs( x['cp'] - x['c'] ) / ( x['c'] + 3) \\\n",
    "                                                  - 0.25 * abs( x['lp']    - x['l'])    / ( x['l'] + 3)     , axis=1)\n",
    "df_test"
   ]
  },
  {
   "cell_type": "markdown",
   "metadata": {},
   "source": [
    "#### TODO: score function"
   ]
  },
  {
   "cell_type": "code",
   "execution_count": null,
   "metadata": {
    "jupyter": {
     "source_hidden": true
    }
   },
   "outputs": [],
   "source": [
    "def score(df, times=2):\n",
    "    df['precision'] =  df.apply(lambda x: 1 - 0.5  * abs( x['fp'] - x['f'] ) / ( x['f'] + 5) \\\n",
    "                                                  - 0.25 * abs( x['cp'] - x['c'] ) / ( x['c'] + 3) \\\n",
    "                                                  - 0.25 * abs( x['lp']    - x['l'])    / ( x['l'] + 3)     , axis=1)\n",
    "    return \n",
    "score(df_test)"
   ]
  },
  {
   "cell_type": "markdown",
   "metadata": {},
   "source": [
    "## Predict"
   ]
  },
  {
   "cell_type": "markdown",
   "metadata": {},
   "source": [
    "- Predict with 0,0,0,  online accuracy: 22.94%"
   ]
  },
  {
   "cell_type": "code",
   "execution_count": 32,
   "metadata": {},
   "outputs": [
    {
     "name": "stderr",
     "output_type": "stream",
     "text": [
      "C:\\Users\\oyrx\\Anaconda3\\lib\\site-packages\\ipykernel_launcher.py:3: SettingWithCopyWarning: \n",
      "A value is trying to be set on a copy of a slice from a DataFrame.\n",
      "Try using .loc[row_indexer,col_indexer] = value instead\n",
      "\n",
      "See the caveats in the documentation: http://pandas.pydata.org/pandas-docs/stable/user_guide/indexing.html#returning-a-view-versus-a-copy\n",
      "  This is separate from the ipykernel package so we can avoid doing imports until\n"
     ]
    }
   ],
   "source": [
    "# dfp: a new pandas DF for predicting\n",
    "dfp = df2[['uid', 'mid']]\n",
    "dfp['fp,cp,lp'] = str(\"0,0,0\")\n",
    "dfp.to_csv(\"./output/result_000.txt\", header = False, sep = \"\\t\", index = False)"
   ]
  },
  {
   "cell_type": "markdown",
   "metadata": {},
   "source": [
    "Predict with 0,1,0, online accuracy: 23.26%"
   ]
  },
  {
   "cell_type": "code",
   "execution_count": 29,
   "metadata": {},
   "outputs": [
    {
     "name": "stderr",
     "output_type": "stream",
     "text": [
      "C:\\Users\\oyrx\\Anaconda3\\lib\\site-packages\\ipykernel_launcher.py:3: SettingWithCopyWarning: \n",
      "A value is trying to be set on a copy of a slice from a DataFrame.\n",
      "Try using .loc[row_indexer,col_indexer] = value instead\n",
      "\n",
      "See the caveats in the documentation: http://pandas.pydata.org/pandas-docs/stable/user_guide/indexing.html#returning-a-view-versus-a-copy\n",
      "  This is separate from the ipykernel package so we can avoid doing imports until\n"
     ]
    }
   ],
   "source": [
    "# dfp: a new pandas DF for predicting\n",
    "dfp = df2[['uid', 'mid']]\n",
    "dfp['fp,cp,lp'] = str(\"0,1,0\")\n",
    "dfp.to_csv(\"./output/result_010.txt\", \n",
    "           header = False, \n",
    "           sep = \"\\t\", \n",
    "           index = False)"
   ]
  },
  {
   "cell_type": "markdown",
   "metadata": {},
   "source": [
    "Predict with individual history median and fillna() with 0, online accuracy 29.38%"
   ]
  },
  {
   "cell_type": "code",
   "execution_count": 28,
   "metadata": {},
   "outputs": [],
   "source": [
    "# dfp: a new pandas DF for predicting\n",
    "dfp = df2[['uid', 'mid']]\n",
    "m = df.groupby(['uid'])[['f', 'c', 'l']].median()\n",
    "m = m.sort_values(by='f', ascending=False)\n",
    "# dfp = pd.merge(dfp, m, how='left', on='uid')\n",
    "dfp = pd.merge(dfp, m, how='left', on='uid').sort_values(by='f',\n",
    "                                                         ascending=False)\n",
    "dfp = dfp.fillna(0)\n",
    "dfp = dfp.assign(\n",
    "    predict=dfp.f.astype(int).astype(str) + ',' +\n",
    "    dfp.c.astype(int).astype(str) + ',' +\n",
    "    dfp.l.astype(int).astype(str))  # long but faster than apply lambda\n",
    "dfp = dfp[['uid', 'mid', 'predict']]\n",
    "dfp.head()\n",
    "dfp.to_csv(\"./output/result_user_median.txt\",\n",
    "           header=False,\n",
    "           sep=\"\\t\",\n",
    "           index=False)\n"
   ]
  },
  {
   "cell_type": "code",
   "execution_count": 39,
   "metadata": {},
   "outputs": [],
   "source": [
    "# dfp: a new pandas DF for predicting\n",
    "dfp = df2[['uid', 'mid']]\n",
    "m = df.groupby(['uid'])[['f', 'c', 'l']].median() * 1.33\n",
    "m = m.sort_values(by='f', ascending=False)\n",
    "# dfp = pd.merge(dfp, m, how='left', on='uid')\n",
    "dfp = pd.merge(dfp, m, how='left', on='uid').sort_values(by='f',\n",
    "                                                         ascending=False)\n",
    "dfp = dfp.fillna(0)\n",
    "dfp = dfp.assign(\n",
    "    predict=dfp.f.astype(int).astype(str) + ',' +\n",
    "    dfp.c.astype(int).astype(str) + ',' +\n",
    "    dfp.l.astype(int).astype(str))  # long but faster than apply lambda\n",
    "dfp = dfp[['uid', 'mid', 'predict']]\n",
    "dfp.head()\n",
    "dfp.to_csv(\"./output/result_user_median.txt\",\n",
    "           header=False,\n",
    "           sep=\"\\t\",\n",
    "           index=False)\n"
   ]
  },
  {
   "cell_type": "code",
   "execution_count": null,
   "metadata": {},
   "outputs": [],
   "source": []
  }
 ],
 "metadata": {
  "kernelspec": {
   "display_name": "Python 3",
   "language": "python",
   "name": "python3"
  },
  "language_info": {
   "codemirror_mode": {
    "name": "ipython",
    "version": 3
   },
   "file_extension": ".py",
   "mimetype": "text/x-python",
   "name": "python",
   "nbconvert_exporter": "python",
   "pygments_lexer": "ipython3",
   "version": "3.7.4"
  }
 },
 "nbformat": 4,
 "nbformat_minor": 4
}
